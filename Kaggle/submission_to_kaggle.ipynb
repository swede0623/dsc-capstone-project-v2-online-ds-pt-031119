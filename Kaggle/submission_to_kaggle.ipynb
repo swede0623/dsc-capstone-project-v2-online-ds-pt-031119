{
 "cells": [
  {
   "cell_type": "code",
   "execution_count": 3,
   "metadata": {},
   "outputs": [],
   "source": [
    "import pandas as pd\n",
    "import string\n",
    "import re\n",
    "import random\n",
    "import nltk\n",
    "from nltk.corpus import stopwords\n",
    "from nltk import FreqDist\n",
    "from nltk import word_tokenize, pos_tag, regexp_tokenize, TweetTokenizer\n",
    "from sklearn.feature_extraction.text import TfidfVectorizer, CountVectorizer\n",
    "from sklearn.naive_bayes import MultinomialNB\n",
    "from nltk.stem import WordNetLemmatizer \n",
    "from sklearn.linear_model import LogisticRegression\n",
    "from sklearn.multiclass import OneVsRestClassifier\n",
    "from sklearn.model_selection import cross_val_score\n",
    "from sklearn.model_selection import train_test_split\n",
    "from sklearn import metrics\n",
    "from sklearn.metrics import classification_report\n",
    "from sklearn.metrics import confusion_matrix\n",
    "from sklearn.model_selection import GridSearchCV\n",
    "from sklearn.pipeline import make_pipeline\n",
    "from nltk.stem.porter import PorterStemmer"
   ]
  },
  {
   "cell_type": "code",
   "execution_count": 4,
   "metadata": {},
   "outputs": [],
   "source": [
    "train = pd.read_csv('train.csv')\n",
    "holdout = pd.read_csv('test.csv')"
   ]
  },
  {
   "cell_type": "code",
   "execution_count": 5,
   "metadata": {},
   "outputs": [],
   "source": [
    "test_labels_df = pd.read_csv(\"test_labels.csv\")\n",
    "holdout = holdout.merge(test_labels_df, on='id')"
   ]
  },
  {
   "cell_type": "code",
   "execution_count": 6,
   "metadata": {},
   "outputs": [],
   "source": [
    "tknzr = TweetTokenizer(preserve_case=False, reduce_len=True)\n",
    "tokens = [tknzr.tokenize(x) for x in train['comment_text']]\n",
    "tokens_test = [tknzr.tokenize(x) for x in holdout['comment_text']]"
   ]
  },
  {
   "cell_type": "code",
   "execution_count": 7,
   "metadata": {},
   "outputs": [],
   "source": [
    "porter = PorterStemmer()\n",
    "list_of_stems_lists = [[porter.stem(token) for token in tokens] for tokens in tokens]\n",
    "test_list_of_stems_lists = [[porter.stem(token) for token in tokens] for tokens in tokens_test]"
   ]
  },
  {
   "cell_type": "code",
   "execution_count": 8,
   "metadata": {},
   "outputs": [],
   "source": [
    "stems_for_tfidf = list(map(' '.join, list_of_stems_lists))\n",
    "test_stems_for_tfidf = list(map(' '.join, test_list_of_stems_lists))"
   ]
  },
  {
   "cell_type": "code",
   "execution_count": 9,
   "metadata": {},
   "outputs": [],
   "source": [
    "X_train2 = stems_for_tfidf\n",
    "y_train2 = train.iloc[:,2:]\n",
    "\n",
    "X_test2 = test_stems_for_tfidf\n",
    "y_test2 = holdout.iloc[:,2:]"
   ]
  },
  {
   "cell_type": "code",
   "execution_count": 10,
   "metadata": {},
   "outputs": [],
   "source": [
    "pipe_lr_final = make_pipeline(\n",
    "    TfidfVectorizer(sublinear_tf=1, max_features=45000, strip_accents='ascii', ngram_range=(1,1)),\n",
    "    OneVsRestClassifier(LogisticRegression(solver='sag', C=1.85))\n",
    ")"
   ]
  },
  {
   "cell_type": "code",
   "execution_count": 11,
   "metadata": {},
   "outputs": [],
   "source": [
    "pipe_lr_final.fit(X_train2, y_train2)\n",
    "test_preds_final = pipe_lr_final.predict_proba(X_test2)"
   ]
  },
  {
   "cell_type": "code",
   "execution_count": 46,
   "metadata": {},
   "outputs": [],
   "source": [
    "label_names = ['toxic','severe_toxic','obscene', 'threat', 'insult', 'identity_hate']\n",
    "submission_df = pd.DataFrame(test_preds_final, columns=label_names)"
   ]
  },
  {
   "cell_type": "code",
   "execution_count": 47,
   "metadata": {},
   "outputs": [
    {
     "data": {
      "text/html": [
       "<div>\n",
       "<style scoped>\n",
       "    .dataframe tbody tr th:only-of-type {\n",
       "        vertical-align: middle;\n",
       "    }\n",
       "\n",
       "    .dataframe tbody tr th {\n",
       "        vertical-align: top;\n",
       "    }\n",
       "\n",
       "    .dataframe thead th {\n",
       "        text-align: right;\n",
       "    }\n",
       "</style>\n",
       "<table border=\"1\" class=\"dataframe\">\n",
       "  <thead>\n",
       "    <tr style=\"text-align: right;\">\n",
       "      <th></th>\n",
       "      <th>toxic</th>\n",
       "      <th>severe_toxic</th>\n",
       "      <th>obscene</th>\n",
       "      <th>threat</th>\n",
       "      <th>insult</th>\n",
       "      <th>identity_hate</th>\n",
       "      <th>id</th>\n",
       "    </tr>\n",
       "  </thead>\n",
       "  <tbody>\n",
       "    <tr>\n",
       "      <th>0</th>\n",
       "      <td>0.999695</td>\n",
       "      <td>0.221466</td>\n",
       "      <td>0.998754</td>\n",
       "      <td>0.089041</td>\n",
       "      <td>0.981080</td>\n",
       "      <td>0.347290</td>\n",
       "      <td>00001cee341fdb12</td>\n",
       "    </tr>\n",
       "    <tr>\n",
       "      <th>1</th>\n",
       "      <td>0.002277</td>\n",
       "      <td>0.001155</td>\n",
       "      <td>0.001378</td>\n",
       "      <td>0.000279</td>\n",
       "      <td>0.003236</td>\n",
       "      <td>0.001937</td>\n",
       "      <td>0000247867823ef7</td>\n",
       "    </tr>\n",
       "    <tr>\n",
       "      <th>2</th>\n",
       "      <td>0.022186</td>\n",
       "      <td>0.003879</td>\n",
       "      <td>0.011608</td>\n",
       "      <td>0.000887</td>\n",
       "      <td>0.010403</td>\n",
       "      <td>0.002384</td>\n",
       "      <td>00013b17ad220c46</td>\n",
       "    </tr>\n",
       "    <tr>\n",
       "      <th>3</th>\n",
       "      <td>0.002624</td>\n",
       "      <td>0.001871</td>\n",
       "      <td>0.002047</td>\n",
       "      <td>0.000979</td>\n",
       "      <td>0.004389</td>\n",
       "      <td>0.000647</td>\n",
       "      <td>00017563c3f7919a</td>\n",
       "    </tr>\n",
       "    <tr>\n",
       "      <th>4</th>\n",
       "      <td>0.011206</td>\n",
       "      <td>0.001116</td>\n",
       "      <td>0.004114</td>\n",
       "      <td>0.000835</td>\n",
       "      <td>0.003968</td>\n",
       "      <td>0.001198</td>\n",
       "      <td>00017695ad8997eb</td>\n",
       "    </tr>\n",
       "  </tbody>\n",
       "</table>\n",
       "</div>"
      ],
      "text/plain": [
       "      toxic  severe_toxic   obscene    threat    insult  identity_hate  \\\n",
       "0  0.999695      0.221466  0.998754  0.089041  0.981080       0.347290   \n",
       "1  0.002277      0.001155  0.001378  0.000279  0.003236       0.001937   \n",
       "2  0.022186      0.003879  0.011608  0.000887  0.010403       0.002384   \n",
       "3  0.002624      0.001871  0.002047  0.000979  0.004389       0.000647   \n",
       "4  0.011206      0.001116  0.004114  0.000835  0.003968       0.001198   \n",
       "\n",
       "                 id  \n",
       "0  00001cee341fdb12  \n",
       "1  0000247867823ef7  \n",
       "2  00013b17ad220c46  \n",
       "3  00017563c3f7919a  \n",
       "4  00017695ad8997eb  "
      ]
     },
     "execution_count": 47,
     "metadata": {},
     "output_type": "execute_result"
    }
   ],
   "source": [
    "submission_df['id'] = holdout['id'].values\n",
    "submission_df.head()"
   ]
  },
  {
   "cell_type": "code",
   "execution_count": 48,
   "metadata": {},
   "outputs": [
    {
     "data": {
      "text/html": [
       "<div>\n",
       "<style scoped>\n",
       "    .dataframe tbody tr th:only-of-type {\n",
       "        vertical-align: middle;\n",
       "    }\n",
       "\n",
       "    .dataframe tbody tr th {\n",
       "        vertical-align: top;\n",
       "    }\n",
       "\n",
       "    .dataframe thead th {\n",
       "        text-align: right;\n",
       "    }\n",
       "</style>\n",
       "<table border=\"1\" class=\"dataframe\">\n",
       "  <thead>\n",
       "    <tr style=\"text-align: right;\">\n",
       "      <th></th>\n",
       "      <th>id</th>\n",
       "      <th>toxic</th>\n",
       "      <th>severe_toxic</th>\n",
       "      <th>obscene</th>\n",
       "      <th>threat</th>\n",
       "      <th>insult</th>\n",
       "      <th>identity_hate</th>\n",
       "    </tr>\n",
       "  </thead>\n",
       "  <tbody>\n",
       "    <tr>\n",
       "      <th>0</th>\n",
       "      <td>00001cee341fdb12</td>\n",
       "      <td>0.999695</td>\n",
       "      <td>0.221466</td>\n",
       "      <td>0.998754</td>\n",
       "      <td>0.089041</td>\n",
       "      <td>0.981080</td>\n",
       "      <td>0.347290</td>\n",
       "    </tr>\n",
       "    <tr>\n",
       "      <th>1</th>\n",
       "      <td>0000247867823ef7</td>\n",
       "      <td>0.002277</td>\n",
       "      <td>0.001155</td>\n",
       "      <td>0.001378</td>\n",
       "      <td>0.000279</td>\n",
       "      <td>0.003236</td>\n",
       "      <td>0.001937</td>\n",
       "    </tr>\n",
       "    <tr>\n",
       "      <th>2</th>\n",
       "      <td>00013b17ad220c46</td>\n",
       "      <td>0.022186</td>\n",
       "      <td>0.003879</td>\n",
       "      <td>0.011608</td>\n",
       "      <td>0.000887</td>\n",
       "      <td>0.010403</td>\n",
       "      <td>0.002384</td>\n",
       "    </tr>\n",
       "    <tr>\n",
       "      <th>3</th>\n",
       "      <td>00017563c3f7919a</td>\n",
       "      <td>0.002624</td>\n",
       "      <td>0.001871</td>\n",
       "      <td>0.002047</td>\n",
       "      <td>0.000979</td>\n",
       "      <td>0.004389</td>\n",
       "      <td>0.000647</td>\n",
       "    </tr>\n",
       "    <tr>\n",
       "      <th>4</th>\n",
       "      <td>00017695ad8997eb</td>\n",
       "      <td>0.011206</td>\n",
       "      <td>0.001116</td>\n",
       "      <td>0.004114</td>\n",
       "      <td>0.000835</td>\n",
       "      <td>0.003968</td>\n",
       "      <td>0.001198</td>\n",
       "    </tr>\n",
       "  </tbody>\n",
       "</table>\n",
       "</div>"
      ],
      "text/plain": [
       "                 id     toxic  severe_toxic   obscene    threat    insult  \\\n",
       "0  00001cee341fdb12  0.999695      0.221466  0.998754  0.089041  0.981080   \n",
       "1  0000247867823ef7  0.002277      0.001155  0.001378  0.000279  0.003236   \n",
       "2  00013b17ad220c46  0.022186      0.003879  0.011608  0.000887  0.010403   \n",
       "3  00017563c3f7919a  0.002624      0.001871  0.002047  0.000979  0.004389   \n",
       "4  00017695ad8997eb  0.011206      0.001116  0.004114  0.000835  0.003968   \n",
       "\n",
       "   identity_hate  \n",
       "0       0.347290  \n",
       "1       0.001937  \n",
       "2       0.002384  \n",
       "3       0.000647  \n",
       "4       0.001198  "
      ]
     },
     "execution_count": 48,
     "metadata": {},
     "output_type": "execute_result"
    }
   ],
   "source": [
    "submission_df = submission_df[['id', 'toxic', 'severe_toxic', 'obscene', 'threat', 'insult', 'identity_hate']]\n",
    "submission_df.head()"
   ]
  },
  {
   "cell_type": "code",
   "execution_count": 49,
   "metadata": {},
   "outputs": [
    {
     "name": "stdout",
     "output_type": "stream",
     "text": [
      "<class 'pandas.core.frame.DataFrame'>\n",
      "RangeIndex: 153164 entries, 0 to 153163\n",
      "Data columns (total 7 columns):\n",
      "id               153164 non-null object\n",
      "toxic            153164 non-null float64\n",
      "severe_toxic     153164 non-null float64\n",
      "obscene          153164 non-null float64\n",
      "threat           153164 non-null float64\n",
      "insult           153164 non-null float64\n",
      "identity_hate    153164 non-null float64\n",
      "dtypes: float64(6), object(1)\n",
      "memory usage: 8.2+ MB\n"
     ]
    }
   ],
   "source": [
    "submission_df.info()"
   ]
  },
  {
   "cell_type": "code",
   "execution_count": 50,
   "metadata": {},
   "outputs": [],
   "source": [
    "# submission_df.to_csv('submission.csv', index=False)"
   ]
  }
 ],
 "metadata": {
  "kernelspec": {
   "display_name": "learn-env",
   "language": "python",
   "name": "learn-env"
  },
  "language_info": {
   "codemirror_mode": {
    "name": "ipython",
    "version": 3
   },
   "file_extension": ".py",
   "mimetype": "text/x-python",
   "name": "python",
   "nbconvert_exporter": "python",
   "pygments_lexer": "ipython3",
   "version": "3.6.10"
  }
 },
 "nbformat": 4,
 "nbformat_minor": 2
}
