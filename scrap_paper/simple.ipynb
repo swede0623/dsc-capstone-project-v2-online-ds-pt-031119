{
 "cells": [
  {
   "cell_type": "markdown",
   "metadata": {},
   "source": [
    "# Import"
   ]
  },
  {
   "cell_type": "code",
   "execution_count": 1,
   "metadata": {},
   "outputs": [],
   "source": [
    "import pandas as pd\n",
    "import numpy as np\n",
    "import string\n",
    "import re\n",
    "import random\n",
    "import nltk\n",
    "from nltk.corpus import stopwords\n",
    "from nltk import FreqDist\n",
    "from nltk import word_tokenize, pos_tag, regexp_tokenize, TweetTokenizer\n",
    "from sklearn.feature_extraction.text import TfidfVectorizer, CountVectorizer\n",
    "from sklearn.naive_bayes import MultinomialNB\n",
    "from nltk.stem import WordNetLemmatizer \n",
    "from sklearn.linear_model import LogisticRegression\n",
    "from sklearn.multiclass import OneVsRestClassifier\n",
    "from sklearn.model_selection import cross_val_score\n",
    "from sklearn.model_selection import train_test_split\n",
    "from sklearn import metrics\n",
    "from sklearn.metrics import classification_report\n",
    "from sklearn.metrics import confusion_matrix\n",
    "from sklearn.model_selection import GridSearchCV\n",
    "from sklearn.pipeline import make_pipeline\n",
    "from nltk.stem.porter import PorterStemmer\n",
    "from nltk.stem.snowball import SnowballStemmer"
   ]
  },
  {
   "cell_type": "markdown",
   "metadata": {},
   "source": [
    "# Load Data"
   ]
  },
  {
   "cell_type": "code",
   "execution_count": 2,
   "metadata": {},
   "outputs": [],
   "source": [
    "train = pd.read_csv('train.csv')\n",
    "holdout = pd.read_csv('test.csv')"
   ]
  },
  {
   "cell_type": "code",
   "execution_count": 3,
   "metadata": {},
   "outputs": [],
   "source": [
    "test_labels_df = pd.read_csv(\"test_labels.csv\")\n",
    "holdout = holdout.merge(test_labels_df, on='id')\n",
    "holdout.drop(holdout[holdout['toxic']==-1].index, inplace=True)"
   ]
  },
  {
   "cell_type": "markdown",
   "metadata": {},
   "source": [
    "# Remove Spam (Optional)"
   ]
  },
  {
   "cell_type": "code",
   "execution_count": 4,
   "metadata": {},
   "outputs": [],
   "source": [
    "# train['char_total'] = train['comment_text'].map(lambda x: len(x))\n",
    "# train = train[train['char_total']<4000]\n",
    "# train.drop(['char_total'], axis=1, inplace=True)"
   ]
  },
  {
   "cell_type": "markdown",
   "metadata": {},
   "source": [
    "# Process Raw Text Function"
   ]
  },
  {
   "cell_type": "code",
   "execution_count": 5,
   "metadata": {},
   "outputs": [],
   "source": [
    "# def preprocess(comment):\n",
    "#     # lower everything\n",
    "#     comment = comment.lower()\n",
    "#     #get rid of new line symbols\n",
    "#     comment = re.sub('\\\\n',' ',comment)\n",
    "#     #expand out all hyphens\n",
    "#     comment = re.sub(\"-\", ' ', comment)\n",
    "#     #remove user:: fragments\n",
    "#     comment = re.sub(\"user::\\w*\",' ',comment)\n",
    "#     #remove anything with user\n",
    "#     comment = re.sub(\"\\[\\[user.*\",' ',comment)\n",
    "#     #remove IP addresses\n",
    "#     comment = re.sub(\"\\d{1,3}\\.\\d{1,3}\\.\\d{1,3}\\.\\d{1,3}\",' ',comment)\n",
    "#     #remove http links\n",
    "#     comment = re.sub(\"(http://.*?\\s)|(http://.*)\",' ',comment)\n",
    "#     #remove https links\n",
    "#     comment = re.sub(\"(https://.*?\\s)|(https://.*)\",' ',comment)\n",
    "#     #remove email addresses\n",
    "#     comment = re.sub(\"(^[a-zA-Z0-9_.+-]+@[a-zA-Z0-9-]+\\.[a-zA-Z0-9-.]+$)\",' ',comment)\n",
    "#     #remove wp: fragments\n",
    "#     comment = re.sub(\"wp:\\w*\",' ',comment)\n",
    "#     #remove these auto generated strings\n",
    "#     comment = re.sub(\"preceding unsigned comment added by\",' ',comment)\n",
    "#     #remove all punctuation besides '\n",
    "# #     string_w_o_comma = re.sub(\"'\", '', string.punctuation)\n",
    "# #     comment = comment.translate(str.maketrans('','', string_w_o_comma))\n",
    "#     return comment"
   ]
  },
  {
   "cell_type": "code",
   "execution_count": 6,
   "metadata": {},
   "outputs": [],
   "source": [
    "# train['comment_text'] = train['comment_text'].apply(preprocess)\n",
    "# holdout['comment_text'] = holdout['comment_text'].apply(preprocess)"
   ]
  },
  {
   "cell_type": "markdown",
   "metadata": {},
   "source": [
    "# Expand Contractions"
   ]
  },
  {
   "cell_type": "code",
   "execution_count": 7,
   "metadata": {},
   "outputs": [],
   "source": [
    "contraction_dict = {\"ain't\": \"is not\", \"aren't\": \"are not\",\"can't\": \"can not\", \"'cause\": \"because\", \"could've\": \"could have\", \"couldn't\": \"could not\", \"didn't\": \"did not\",  \"doesn't\": \"does not\", \"don't\": \"do not\", \"hadn't\": \"had not\", \"hasn't\": \"has not\", \"haven't\": \"have not\", \"he'd\": \"he would\",\"he'll\": \"he will\", \"he's\": \"he is\", \"how'd\": \"how did\", \"how'll\": \"how will\", \"how's\": \"how is\",  \"i'd\": \"i would\", \"i'll\": \"i will\", \"i'm\": \"i am\", \"i've\": \"i have\", \"i'd\": \"i would\", \"i'll\": \"i will\", \"i'm\": \"i am\", \"isn't\": \"is not\", \"it'd\": \"it would\", \"it'll\": \"it will\",\"it's\": \"it is\", \"let's\": \"let us\", \"ma'am\": \"madam\", \"might've\": \"might have\",\"mightn't\": \"might not\", \"must've\": \"must have\", \"mustn't\": \"must not\", \"needn't\": \"need not\", \"shan't\": \"shall not\", \"she'd\": \"she would\", \"she'll\": \"she will\", \"she's\": \"she is\", \"should've\": \"should have\", \"shouldn't\": \"should not\", \"so've\": \"so have\",\"that'd\": \"that would\", \"that's\": \"that is\", \"there's\": \"there is\", \"here's\": \"here is\",\"they'd\": \"they would\",\"they'll\": \"they will\", \"they're\": \"they are\", \"they've\": \"they have\", \"wasn't\": \"was not\", \"we'd\": \"we would\", \"we'll\": \"we will\", \"we're\": \"we are\", \"we've\": \"we have\", \"weren't\": \"were not\", \"what'll\": \"what will\", \"what're\": \"what are\",  \"what's\": \"what is\", \"what've\": \"what have\", \"when's\": \"when is\", \"when've\": \"when have\", \"where'd\": \"where did\", \"where's\": \"where is\", \"where've\": \"where have\", \"who'll\": \"who will\", \"who's\": \"who is\", \"who've\": \"who have\", \"why's\": \"why is\", \"why've\": \"why have\", \"will've\": \"will have\", \"won't\": \"will not\", \"won't've\": \"will not have\", \"would've\": \"would have\", \"wouldn't\": \"would not\", \"y'all\": \"you all\",\"you'd\": \"you would\", \"you'll\": \"you will\", \"you're\": \"you are\", \"you've\": \"you have\"}"
   ]
  },
  {
   "cell_type": "code",
   "execution_count": 8,
   "metadata": {},
   "outputs": [],
   "source": [
    "# for replacee, replacer in contraction_dict.items():\n",
    "#     train['comment_text'] = train['comment_text'].map(lambda x: x.replace(replacee, replacer))\n",
    "#     holdout['comment_text'] = holdout['comment_text'].map(lambda x: x.replace(replacee, replacer))"
   ]
  },
  {
   "cell_type": "code",
   "execution_count": 9,
   "metadata": {},
   "outputs": [],
   "source": [
    "# for replacee, replacer in contraction_dict.items():\n",
    "#     train['comment_text'] = train['comment_text'].map(lambda x: re.sub('\\b'+replacee+'\\b',replacer,str(x)))\n",
    "# #     holdout['comment_text'] = holdout['comment_text'].map(lambda x: re.sub('\\b'+replacee+'\\b',replacer,str(x)))\n"
   ]
  },
  {
   "cell_type": "markdown",
   "metadata": {},
   "source": [
    "# Map Out Mis-spellings, etc."
   ]
  },
  {
   "cell_type": "code",
   "execution_count": 10,
   "metadata": {},
   "outputs": [],
   "source": [
    "# normalization_dict = {'admins':'admin'}"
   ]
  },
  {
   "cell_type": "code",
   "execution_count": 11,
   "metadata": {},
   "outputs": [],
   "source": [
    "# for replacee, replacer in normalization_dict.items():\n",
    "#     train['comment_text'] = train['comment_text'].map(lambda x: x.replace(replacee, replacer))\n",
    "#     holdout['comment_text'] = holdout['comment_text'].map(lambda x: x.replace(replacee, replacer))"
   ]
  },
  {
   "cell_type": "code",
   "execution_count": 12,
   "metadata": {},
   "outputs": [],
   "source": [
    "# for replacee, replacer in normalization_dict.items():\n",
    "#     train['comment_text'] = train['comment_text'].map(lambda x: re.sub('\\b'+replacee+'\\b',replacer,str(x)))\n",
    "# #     holdout['comment_text'] = holdout['comment_text'].map(lambda x: re.sub('\\b'+replacee+'\\b',replacer,str(x)))\n"
   ]
  },
  {
   "cell_type": "markdown",
   "metadata": {},
   "source": [
    "# Finish Preprocessing Function"
   ]
  },
  {
   "cell_type": "code",
   "execution_count": 13,
   "metadata": {},
   "outputs": [],
   "source": [
    "def remove_digits_punctuation(comment):\n",
    "    comment = ''.join([i for i in comment if not i.isdigit()])\n",
    "#     comment = comment.translate(str.maketrans('', '', string.punctuation))\n",
    "    return comment"
   ]
  },
  {
   "cell_type": "code",
   "execution_count": 14,
   "metadata": {},
   "outputs": [],
   "source": [
    "# train['comment_text'] = train['comment_text'].apply(remove_digits_punctuation)\n",
    "# holdout['comment_text'] = holdout['comment_text'].apply(remove_digits_punctuation)"
   ]
  },
  {
   "cell_type": "markdown",
   "metadata": {},
   "source": [
    "# Tokenize"
   ]
  },
  {
   "cell_type": "code",
   "execution_count": 15,
   "metadata": {},
   "outputs": [],
   "source": [
    "# list_of_token_lists = [regexp_tokenize(x,pattern=\"([a-zA-Z]+(?:'[a-z]+)?)\") for x in train['comment_text']]\n",
    "# # list_of_token_lists = [regexp_tokenize(x,pattern=r'\\w{1,}') for x in train['comment_text']]\n",
    "# # test_list_of_token_lists = [regexp_tokenize(x,pattern=r'\\w{1,}') for x in holdout['comment_text']]\n",
    "# test_list_of_token_lists = [regexp_tokenize(x,pattern=\"([a-zA-Z]+(?:'[a-z]+)?)\") for x in holdout['comment_text']]\n"
   ]
  },
  {
   "cell_type": "code",
   "execution_count": 16,
   "metadata": {},
   "outputs": [],
   "source": [
    "# tokens = [word_tokenize(x) for x in train['comment_text']]\n",
    "# tokens_test = [word_tokenize(x) for x in holdout['comment_text']]"
   ]
  },
  {
   "cell_type": "code",
   "execution_count": 17,
   "metadata": {},
   "outputs": [],
   "source": [
    "tknzr = TweetTokenizer(preserve_case=False, reduce_len=True)\n",
    "tokens = [tknzr.tokenize(x) for x in train['comment_text']]\n",
    "tokens_test = [tknzr.tokenize(x) for x in holdout['comment_text']]"
   ]
  },
  {
   "cell_type": "markdown",
   "metadata": {},
   "source": [
    "# Remove Stop Words"
   ]
  },
  {
   "cell_type": "code",
   "execution_count": 18,
   "metadata": {},
   "outputs": [
    {
     "data": {
      "text/plain": [
       "['i',\n",
       " 'me',\n",
       " 'my',\n",
       " 'myself',\n",
       " 'we',\n",
       " 'our',\n",
       " 'ours',\n",
       " 'ourselves',\n",
       " 'you',\n",
       " \"you're\",\n",
       " \"you've\",\n",
       " \"you'll\",\n",
       " \"you'd\",\n",
       " 'your',\n",
       " 'yours',\n",
       " 'yourself',\n",
       " 'yourselves',\n",
       " 'he',\n",
       " 'him',\n",
       " 'his',\n",
       " 'himself',\n",
       " 'she',\n",
       " \"she's\",\n",
       " 'her',\n",
       " 'hers',\n",
       " 'herself',\n",
       " 'it',\n",
       " \"it's\",\n",
       " 'its',\n",
       " 'itself',\n",
       " 'they',\n",
       " 'them',\n",
       " 'their',\n",
       " 'theirs',\n",
       " 'themselves',\n",
       " 'what',\n",
       " 'which',\n",
       " 'who',\n",
       " 'whom',\n",
       " 'this',\n",
       " 'that',\n",
       " \"that'll\",\n",
       " 'these',\n",
       " 'those',\n",
       " 'am',\n",
       " 'is',\n",
       " 'are',\n",
       " 'was',\n",
       " 'were',\n",
       " 'be',\n",
       " 'been',\n",
       " 'being',\n",
       " 'have',\n",
       " 'has',\n",
       " 'had',\n",
       " 'having',\n",
       " 'do',\n",
       " 'does',\n",
       " 'did',\n",
       " 'doing',\n",
       " 'a',\n",
       " 'an',\n",
       " 'the',\n",
       " 'and',\n",
       " 'but',\n",
       " 'if',\n",
       " 'or',\n",
       " 'because',\n",
       " 'as',\n",
       " 'until',\n",
       " 'while',\n",
       " 'of',\n",
       " 'at',\n",
       " 'by',\n",
       " 'for',\n",
       " 'with',\n",
       " 'about',\n",
       " 'against',\n",
       " 'between',\n",
       " 'into',\n",
       " 'through',\n",
       " 'during',\n",
       " 'before',\n",
       " 'after',\n",
       " 'above',\n",
       " 'below',\n",
       " 'to',\n",
       " 'from',\n",
       " 'up',\n",
       " 'down',\n",
       " 'in',\n",
       " 'out',\n",
       " 'on',\n",
       " 'off',\n",
       " 'over',\n",
       " 'under',\n",
       " 'again',\n",
       " 'further',\n",
       " 'then',\n",
       " 'once',\n",
       " 'here',\n",
       " 'there',\n",
       " 'when',\n",
       " 'where',\n",
       " 'why',\n",
       " 'how',\n",
       " 'all',\n",
       " 'any',\n",
       " 'both',\n",
       " 'each',\n",
       " 'few',\n",
       " 'more',\n",
       " 'most',\n",
       " 'other',\n",
       " 'some',\n",
       " 'such',\n",
       " 'no',\n",
       " 'nor',\n",
       " 'not',\n",
       " 'only',\n",
       " 'own',\n",
       " 'same',\n",
       " 'so',\n",
       " 'than',\n",
       " 'too',\n",
       " 'very',\n",
       " 's',\n",
       " 't',\n",
       " 'can',\n",
       " 'will',\n",
       " 'just',\n",
       " 'don',\n",
       " \"don't\",\n",
       " 'should',\n",
       " \"should've\",\n",
       " 'now',\n",
       " 'd',\n",
       " 'll',\n",
       " 'm',\n",
       " 'o',\n",
       " 're',\n",
       " 've',\n",
       " 'y',\n",
       " 'ain',\n",
       " 'aren',\n",
       " \"aren't\",\n",
       " 'couldn',\n",
       " \"couldn't\",\n",
       " 'didn',\n",
       " \"didn't\",\n",
       " 'doesn',\n",
       " \"doesn't\",\n",
       " 'hadn',\n",
       " \"hadn't\",\n",
       " 'hasn',\n",
       " \"hasn't\",\n",
       " 'haven',\n",
       " \"haven't\",\n",
       " 'isn',\n",
       " \"isn't\",\n",
       " 'ma',\n",
       " 'mightn',\n",
       " \"mightn't\",\n",
       " 'mustn',\n",
       " \"mustn't\",\n",
       " 'needn',\n",
       " \"needn't\",\n",
       " 'shan',\n",
       " \"shan't\",\n",
       " 'shouldn',\n",
       " \"shouldn't\",\n",
       " 'wasn',\n",
       " \"wasn't\",\n",
       " 'weren',\n",
       " \"weren't\",\n",
       " 'won',\n",
       " \"won't\",\n",
       " 'wouldn',\n",
       " \"wouldn't\"]"
      ]
     },
     "execution_count": 18,
     "metadata": {},
     "output_type": "execute_result"
    }
   ],
   "source": [
    "stopwords.words('english')"
   ]
  },
  {
   "cell_type": "code",
   "execution_count": 19,
   "metadata": {},
   "outputs": [],
   "source": [
    "stops = stopwords.words('english')\n",
    "stops += ['youre', 'dont', 'wont', 'ure', 'hes', 'uve', 'ive', 'ull', 'youll', 'youre', 'its', 'thats', 'shes',\n",
    "         'whats', 'dont', 'isnt', 'doesnt', 'utc', 'wouldnt', 'hasnt', 'shouldnt', 'havent', 've', 'nt', 'll', 're',\n",
    "         'wikipedia', 'admin', 'admins', 'wiki', 'contrib', 'contribs']"
   ]
  },
  {
   "cell_type": "code",
   "execution_count": 20,
   "metadata": {},
   "outputs": [],
   "source": [
    "# token_lists_stopwords_removed = [[token for token in tokens if token not in stops and \n",
    "#                                   len(token)>1 and len(token)<20] for tokens in list_of_token_lists]\n",
    "# test_tokens_stopwords_removed = [[token for token in tokens if token not in stops and \n",
    "#                                   len(token)>1 and len(token)<20] for tokens in test_list_of_token_lists]\n",
    "# # for tokens in list_of_token_lists:\n",
    "# #     no_stops = [token for token in tokens if token not in stopwords.words('english')]\n",
    "# #     token_lists_stopwords_removed.append(no_stops)"
   ]
  },
  {
   "cell_type": "markdown",
   "metadata": {},
   "source": [
    "# Stem Tokens"
   ]
  },
  {
   "cell_type": "code",
   "execution_count": 21,
   "metadata": {},
   "outputs": [],
   "source": [
    "snow = PorterStemmer()\n",
    "list_of_stems_lists = [[snow.stem(token) for token in tokens] for tokens in tokens]\n",
    "test_list_of_stems_lists = [[snow.stem(token) for token in tokens] for tokens in tokens_test]"
   ]
  },
  {
   "cell_type": "code",
   "execution_count": 22,
   "metadata": {},
   "outputs": [],
   "source": [
    "stems_for_tfidf = list(map(' '.join, list_of_stems_lists))\n",
    "test_stems_for_tfidf = list(map(' '.join, test_list_of_stems_lists))"
   ]
  },
  {
   "cell_type": "code",
   "execution_count": 23,
   "metadata": {},
   "outputs": [],
   "source": [
    "# snowball = SnowballStemmer('english')\n",
    "# list_of_stems_lists = [[snowball.stem(token) for token in tokens] for tokens in token_lists_stopwords_removed]\n",
    "# test_list_of_stems_lists = [[snowball.stem(token) for token in tokens] for tokens in test_tokens_stopwords_removed]"
   ]
  },
  {
   "cell_type": "code",
   "execution_count": 24,
   "metadata": {},
   "outputs": [],
   "source": [
    "# stems_for_tfidf = list(map(' '.join, list_of_stems_lists))\n",
    "# test_stems_for_tfidf = list(map(' '.join, test_list_of_stems_lists))"
   ]
  },
  {
   "cell_type": "markdown",
   "metadata": {},
   "source": [
    "# Prepare X and Y"
   ]
  },
  {
   "cell_type": "code",
   "execution_count": 25,
   "metadata": {},
   "outputs": [],
   "source": [
    "X_train = stems_for_tfidf\n",
    "y_train = train.iloc[:,2:]\n",
    "\n",
    "X_test = test_stems_for_tfidf\n",
    "y_test = holdout.iloc[:,2:]"
   ]
  },
  {
   "cell_type": "code",
   "execution_count": null,
   "metadata": {},
   "outputs": [],
   "source": []
  },
  {
   "cell_type": "code",
   "execution_count": 26,
   "metadata": {},
   "outputs": [],
   "source": [
    "# Instantiate the vectorizer\n",
    "word_vectorizer = TfidfVectorizer()\n",
    "\n",
    "# fit and transform on it the training features\n",
    "word_vectorizer.fit(X_train)\n",
    "X_train_word_features = word_vectorizer.transform(X_train)\n",
    "\n",
    "#transform the test features to sparse matrix\n",
    "test_features = word_vectorizer.transform(X_test)"
   ]
  },
  {
   "cell_type": "code",
   "execution_count": 30,
   "metadata": {},
   "outputs": [
    {
     "name": "stdout",
     "output_type": "stream",
     "text": [
      "CV ROC_AUC score 0.961631518958301\n",
      "\n",
      "CV ROC_AUC score 0.9847925724634965\n",
      "\n",
      "CV ROC_AUC score 0.9763803112877611\n",
      "\n",
      "CV ROC_AUC score 0.9880453401256366\n",
      "\n",
      "CV ROC_AUC score 0.9688498160485424\n",
      "\n",
      "CV ROC_AUC score 0.9813306541987692\n",
      "\n",
      "Total average CV ROC_AUC score is 0.9768383688470846\n"
     ]
    }
   ],
   "source": [
    "class_names = ['toxic','severe_toxic','obscene', 'threat', 'insult', 'identity_hate']\n",
    "\n",
    "auc = []\n",
    "\n",
    "for class_name in class_names:\n",
    "    #call the labels one column at a time so we can run the classifier on them\n",
    "    train_target = y_train[class_name]\n",
    "    test_target = y_test[class_name]\n",
    "    classifier = LogisticRegression(solver='liblinear', class_weight='balanced')\n",
    "\n",
    "    \n",
    "    classifier.fit(X_train_word_features, train_target)\n",
    "    y_pred_prob = classifier.predict_proba(test_features)[:, 1]\n",
    "    auc_score = metrics.roc_auc_score(test_target, y_pred_prob)\n",
    "    auc.append(auc_score)\n",
    "    print(\"CV ROC_AUC score {}\\n\".format(auc_score))\n",
    "    \n",
    "print('Total average CV ROC_AUC score is {}'.format(np.mean(auc)))"
   ]
  },
  {
   "cell_type": "code",
   "execution_count": 31,
   "metadata": {},
   "outputs": [],
   "source": [
    "from sklearn.multioutput import MultiOutputClassifier"
   ]
  },
  {
   "cell_type": "code",
   "execution_count": 32,
   "metadata": {},
   "outputs": [],
   "source": [
    "pipe_lr = make_pipeline(\n",
    "    TfidfVectorizer(sublinear_tf=1, max_features=50000),\n",
    "    MultiOutputClassifier(LogisticRegression(solver='sag', C=2))\n",
    ")"
   ]
  },
  {
   "cell_type": "code",
   "execution_count": 33,
   "metadata": {},
   "outputs": [
    {
     "data": {
      "text/plain": [
       "0.9821849132956636"
      ]
     },
     "execution_count": 33,
     "metadata": {},
     "output_type": "execute_result"
    }
   ],
   "source": [
    "cv_score = np.mean(cross_val_score(pipe_lr, X_train, y_train, cv=3, scoring='roc_auc'))\n",
    "cv_score"
   ]
  },
  {
   "cell_type": "code",
   "execution_count": null,
   "metadata": {},
   "outputs": [],
   "source": []
  },
  {
   "cell_type": "code",
   "execution_count": null,
   "metadata": {},
   "outputs": [],
   "source": []
  },
  {
   "cell_type": "markdown",
   "metadata": {},
   "source": [
    "# Pipe Line"
   ]
  },
  {
   "cell_type": "code",
   "execution_count": 31,
   "metadata": {},
   "outputs": [],
   "source": [
    "stops = list(string.punctuation)"
   ]
  },
  {
   "cell_type": "code",
   "execution_count": 36,
   "metadata": {},
   "outputs": [],
   "source": [
    "pipe_lr = make_pipeline(\n",
    "    TfidfVectorizer(sublinear_tf=1, max_features=50000),\n",
    "    OneVsRestClassifier(LogisticRegression(solver='sag', C=2))\n",
    ")"
   ]
  },
  {
   "cell_type": "code",
   "execution_count": 37,
   "metadata": {},
   "outputs": [
    {
     "data": {
      "text/plain": [
       "0.9823539194380512"
      ]
     },
     "execution_count": 37,
     "metadata": {},
     "output_type": "execute_result"
    }
   ],
   "source": [
    "cv_score = np.mean(cross_val_score(pipe_lr, X_train, y_train, cv=3, scoring='roc_auc'))\n",
    "cv_score"
   ]
  },
  {
   "cell_type": "code",
   "execution_count": 38,
   "metadata": {},
   "outputs": [],
   "source": [
    "pipe_lr.fit(X_train, y_train)\n",
    "test_preds = pipe_lr.predict_proba(X_test)"
   ]
  },
  {
   "cell_type": "code",
   "execution_count": 39,
   "metadata": {},
   "outputs": [
    {
     "data": {
      "text/plain": [
       "0.9779966786867834"
      ]
     },
     "execution_count": 39,
     "metadata": {},
     "output_type": "execute_result"
    }
   ],
   "source": [
    "metrics.roc_auc_score(y_test, test_preds)"
   ]
  },
  {
   "cell_type": "code",
   "execution_count": null,
   "metadata": {},
   "outputs": [],
   "source": [
    "tfidfstring = 'tfidfvectorizer'\n",
    "onevrstring = 'onevsrestclassifier'\n",
    "param_grid_lr = {\n",
    "    tfidfstring+'__max_features': [35000,50000],\n",
    "    tfidfstring+'__strip_accents': ['ascii','unicode', None],\n",
    "#     tfidfstring+'__sublinear_tf': [True, False],\n",
    "#     onevrstring+'__estimator__C': [2],\n",
    "#     onevrstring+'__estimator__solver': ['sag','liblinear']  \n",
    "             }"
   ]
  },
  {
   "cell_type": "code",
   "execution_count": null,
   "metadata": {},
   "outputs": [],
   "source": [
    "grid_lr = GridSearchCV(pipe_lr, param_grid_lr, cv=3, scoring='roc_auc')\n",
    "grid_results_lr = grid_lr.fit(X_train, y_train)"
   ]
  },
  {
   "cell_type": "code",
   "execution_count": null,
   "metadata": {},
   "outputs": [],
   "source": [
    "grid_results_lr.best_params_"
   ]
  },
  {
   "cell_type": "code",
   "execution_count": null,
   "metadata": {},
   "outputs": [],
   "source": [
    "grid_results_lr.best_score_"
   ]
  },
  {
   "cell_type": "code",
   "execution_count": null,
   "metadata": {},
   "outputs": [],
   "source": []
  }
 ],
 "metadata": {
  "kernelspec": {
   "display_name": "learn-env",
   "language": "python",
   "name": "learn-env"
  },
  "language_info": {
   "codemirror_mode": {
    "name": "ipython",
    "version": 3
   },
   "file_extension": ".py",
   "mimetype": "text/x-python",
   "name": "python",
   "nbconvert_exporter": "python",
   "pygments_lexer": "ipython3",
   "version": "3.6.10"
  }
 },
 "nbformat": 4,
 "nbformat_minor": 2
}
