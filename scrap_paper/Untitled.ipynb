{
 "cells": [
  {
   "cell_type": "code",
   "execution_count": 1,
   "metadata": {},
   "outputs": [],
   "source": [
    "import pandas as pd\n",
    "import numpy as np\n",
    "import string\n",
    "import re\n",
    "import random\n",
    "import nltk\n",
    "from nltk.corpus import stopwords\n",
    "from nltk import FreqDist\n",
    "from nltk import word_tokenize, pos_tag, regexp_tokenize, TweetTokenizer\n",
    "from sklearn.feature_extraction.text import TfidfVectorizer, CountVectorizer\n",
    "from sklearn.naive_bayes import MultinomialNB\n",
    "from nltk.stem import WordNetLemmatizer \n",
    "from sklearn.linear_model import LogisticRegression\n",
    "from sklearn.multiclass import OneVsRestClassifier\n",
    "from sklearn.model_selection import cross_val_score\n",
    "from sklearn.model_selection import train_test_split\n",
    "from sklearn import metrics\n",
    "from sklearn.metrics import classification_report\n",
    "from sklearn.metrics import confusion_matrix\n",
    "from sklearn.model_selection import GridSearchCV\n",
    "from sklearn.pipeline import make_pipeline\n",
    "from nltk.stem.porter import PorterStemmer\n",
    "from nltk.stem.snowball import SnowballStemmer"
   ]
  },
  {
   "cell_type": "code",
   "execution_count": 2,
   "metadata": {},
   "outputs": [],
   "source": [
    "train = pd.read_csv('../train.csv')"
   ]
  },
  {
   "cell_type": "code",
   "execution_count": 3,
   "metadata": {},
   "outputs": [],
   "source": [
    "# train['char_total'] = train['comment_text'].map(lambda x: len(x))\n",
    "# train = train[train['char_total']<1000]\n",
    "# train.drop(['char_total'], axis=1, inplace=True)"
   ]
  },
  {
   "cell_type": "code",
   "execution_count": 4,
   "metadata": {},
   "outputs": [],
   "source": [
    "def preprocess(comment):\n",
    "    # lower everything\n",
    "    comment = comment.lower()\n",
    "    #get rid of new line symbols\n",
    "    comment = re.sub('\\\\n',' ',comment)\n",
    "    #remove user:: fragments\n",
    "    comment = re.sub(\"user::\\w*\",' ',comment)\n",
    "    #remove anything with user\n",
    "    comment = re.sub(\"\\[\\[user.*\",' ',comment)\n",
    "    #remove IP addresses\n",
    "    comment = re.sub(\"\\d{1,3}\\.\\d{1,3}\\.\\d{1,3}\\.\\d{1,3}\",' ',comment)\n",
    "    #remove http links\n",
    "    comment = re.sub(\"(http://.*?\\s)|(http://.*)\",' ',comment)\n",
    "    #remove https links\n",
    "    comment = re.sub(\"(https://.*?\\s)|(https://.*)\",' ',comment)\n",
    "    #remove email addresses\n",
    "    comment = re.sub(\"(^[a-zA-Z0-9_.+-]+@[a-zA-Z0-9-]+\\.[a-zA-Z0-9-.]+$)\",' ',comment)\n",
    "    #remove wp: fragments\n",
    "    comment = re.sub(\"wp:\\w*\",' ',comment)\n",
    "    #remove these auto generated strings\n",
    "    comment = re.sub(\"preceding unsigned comment added by\",' ',comment)\n",
    "    #remove all punctuation besides '\n",
    "    string_w_o_comma = re.sub(\"'\", '', string.punctuation)\n",
    "    comment = comment.translate(str.maketrans('','', string_w_o_comma))\n",
    "    return comment"
   ]
  },
  {
   "cell_type": "code",
   "execution_count": 5,
   "metadata": {},
   "outputs": [],
   "source": [
    "train['comment_text'] = train['comment_text'].apply(preprocess)"
   ]
  },
  {
   "cell_type": "code",
   "execution_count": 6,
   "metadata": {},
   "outputs": [],
   "source": [
    "labels = list(train.columns[2:])\n",
    "train['total'] = train[labels].sum(axis=1)"
   ]
  },
  {
   "cell_type": "code",
   "execution_count": 7,
   "metadata": {},
   "outputs": [],
   "source": [
    "clean_comments_df = train[train['total']== 0]\n",
    "toxic_comments_df = train[train['total'] > 0]"
   ]
  },
  {
   "cell_type": "code",
   "execution_count": 8,
   "metadata": {},
   "outputs": [],
   "source": [
    "twt_tknzr = TweetTokenizer(preserve_case=False, reduce_len=True)\n",
    "clean_tokens = [twt_tknzr.tokenize(x) for x in clean_comments_df['comment_text']]\n",
    "toxic_tokens = [twt_tknzr.tokenize(x) for x in toxic_comments_df['comment_text']]"
   ]
  },
  {
   "cell_type": "code",
   "execution_count": 9,
   "metadata": {},
   "outputs": [],
   "source": [
    "clean_for_tfidf = ' '.join(list(map(' '.join, clean_tokens)))\n",
    "toxic_for_tfidf = ' '.join(list(map(' '.join, toxic_tokens)))"
   ]
  },
  {
   "cell_type": "code",
   "execution_count": 10,
   "metadata": {},
   "outputs": [],
   "source": [
    "corpi = [clean_for_tfidf, toxic_for_tfidf]"
   ]
  },
  {
   "cell_type": "code",
   "execution_count": 11,
   "metadata": {},
   "outputs": [],
   "source": [
    "stops = stopwords.words('english') + list(string.punctuation)\n",
    "vectorizer = TfidfVectorizer(stop_words=stops, ngram_range=(2,2))\n",
    "corpi_tfidf = vectorizer.fit_transform(corpi)"
   ]
  },
  {
   "cell_type": "code",
   "execution_count": 12,
   "metadata": {},
   "outputs": [
    {
     "data": {
      "text/html": [
       "<div>\n",
       "<style scoped>\n",
       "    .dataframe tbody tr th:only-of-type {\n",
       "        vertical-align: middle;\n",
       "    }\n",
       "\n",
       "    .dataframe tbody tr th {\n",
       "        vertical-align: top;\n",
       "    }\n",
       "\n",
       "    .dataframe thead th {\n",
       "        text-align: right;\n",
       "    }\n",
       "</style>\n",
       "<table border=\"1\" class=\"dataframe\">\n",
       "  <thead>\n",
       "    <tr style=\"text-align: right;\">\n",
       "      <th></th>\n",
       "      <th>tfidf</th>\n",
       "    </tr>\n",
       "  </thead>\n",
       "  <tbody>\n",
       "    <tr>\n",
       "      <th>talk page</th>\n",
       "      <td>0.550088</td>\n",
       "    </tr>\n",
       "    <tr>\n",
       "      <th>speedy deletion</th>\n",
       "      <td>0.191796</td>\n",
       "    </tr>\n",
       "    <tr>\n",
       "      <th>would like</th>\n",
       "      <td>0.154218</td>\n",
       "    </tr>\n",
       "    <tr>\n",
       "      <th>fair use</th>\n",
       "      <td>0.118919</td>\n",
       "    </tr>\n",
       "    <tr>\n",
       "      <th>feel free</th>\n",
       "      <td>0.101160</td>\n",
       "    </tr>\n",
       "    <tr>\n",
       "      <th>blocked editing</th>\n",
       "      <td>0.100985</td>\n",
       "    </tr>\n",
       "    <tr>\n",
       "      <th>please stop</th>\n",
       "      <td>0.091250</td>\n",
       "    </tr>\n",
       "    <tr>\n",
       "      <th>talk pages</th>\n",
       "      <td>0.091162</td>\n",
       "    </tr>\n",
       "    <tr>\n",
       "      <th>criteria speedy</th>\n",
       "      <td>0.088560</td>\n",
       "    </tr>\n",
       "    <tr>\n",
       "      <th>talk contribs</th>\n",
       "      <td>0.083138</td>\n",
       "    </tr>\n",
       "  </tbody>\n",
       "</table>\n",
       "</div>"
      ],
      "text/plain": [
       "                    tfidf\n",
       "talk page        0.550088\n",
       "speedy deletion  0.191796\n",
       "would like       0.154218\n",
       "fair use         0.118919\n",
       "feel free        0.101160\n",
       "blocked editing  0.100985\n",
       "please stop      0.091250\n",
       "talk pages       0.091162\n",
       "criteria speedy  0.088560\n",
       "talk contribs    0.083138"
      ]
     },
     "execution_count": 12,
     "metadata": {},
     "output_type": "execute_result"
    }
   ],
   "source": [
    "clean_corpus = corpi_tfidf[0]\n",
    "df = pd.DataFrame(clean_corpus.T.todense(), index=vectorizer.get_feature_names(), columns=['tfidf'])\n",
    "df = df[df['tfidf']>0]\n",
    "df.sort_values(by=[\"tfidf\"],ascending=False).head(10)"
   ]
  },
  {
   "cell_type": "code",
   "execution_count": 13,
   "metadata": {},
   "outputs": [
    {
     "data": {
      "text/html": [
       "<div>\n",
       "<style scoped>\n",
       "    .dataframe tbody tr th:only-of-type {\n",
       "        vertical-align: middle;\n",
       "    }\n",
       "\n",
       "    .dataframe tbody tr th {\n",
       "        vertical-align: top;\n",
       "    }\n",
       "\n",
       "    .dataframe thead th {\n",
       "        text-align: right;\n",
       "    }\n",
       "</style>\n",
       "<table border=\"1\" class=\"dataframe\">\n",
       "  <thead>\n",
       "    <tr style=\"text-align: right;\">\n",
       "      <th></th>\n",
       "      <th>tfidf</th>\n",
       "    </tr>\n",
       "  </thead>\n",
       "  <tbody>\n",
       "    <tr>\n",
       "      <th>fuck fuck</th>\n",
       "      <td>0.327701</td>\n",
       "    </tr>\n",
       "    <tr>\n",
       "      <th>moron hi</th>\n",
       "      <td>0.224609</td>\n",
       "    </tr>\n",
       "    <tr>\n",
       "      <th>hi moron</th>\n",
       "      <td>0.224153</td>\n",
       "    </tr>\n",
       "    <tr>\n",
       "      <th>nigger nigger</th>\n",
       "      <td>0.218319</td>\n",
       "    </tr>\n",
       "    <tr>\n",
       "      <th>jew fat</th>\n",
       "      <td>0.187911</td>\n",
       "    </tr>\n",
       "    <tr>\n",
       "      <th>fat jew</th>\n",
       "      <td>0.186692</td>\n",
       "    </tr>\n",
       "    <tr>\n",
       "      <th>shit shit</th>\n",
       "      <td>0.175119</td>\n",
       "    </tr>\n",
       "    <tr>\n",
       "      <th>ass ass</th>\n",
       "      <td>0.171617</td>\n",
       "    </tr>\n",
       "    <tr>\n",
       "      <th>suck suck</th>\n",
       "      <td>0.153648</td>\n",
       "    </tr>\n",
       "    <tr>\n",
       "      <th>bark bark</th>\n",
       "      <td>0.152125</td>\n",
       "    </tr>\n",
       "  </tbody>\n",
       "</table>\n",
       "</div>"
      ],
      "text/plain": [
       "                  tfidf\n",
       "fuck fuck      0.327701\n",
       "moron hi       0.224609\n",
       "hi moron       0.224153\n",
       "nigger nigger  0.218319\n",
       "jew fat        0.187911\n",
       "fat jew        0.186692\n",
       "shit shit      0.175119\n",
       "ass ass        0.171617\n",
       "suck suck      0.153648\n",
       "bark bark      0.152125"
      ]
     },
     "execution_count": 13,
     "metadata": {},
     "output_type": "execute_result"
    }
   ],
   "source": [
    "toxic_corpus = corpi_tfidf[1]\n",
    "df = pd.DataFrame(toxic_corpus.T.todense(), index=vectorizer.get_feature_names(), columns=['tfidf'])\n",
    "df = df[df['tfidf']>0]\n",
    "df.sort_values(by=[\"tfidf\"],ascending=False).head(10)"
   ]
  },
  {
   "cell_type": "code",
   "execution_count": null,
   "metadata": {},
   "outputs": [],
   "source": []
  }
 ],
 "metadata": {
  "kernelspec": {
   "display_name": "learn-env",
   "language": "python",
   "name": "learn-env"
  },
  "language_info": {
   "codemirror_mode": {
    "name": "ipython",
    "version": 3
   },
   "file_extension": ".py",
   "mimetype": "text/x-python",
   "name": "python",
   "nbconvert_exporter": "python",
   "pygments_lexer": "ipython3",
   "version": "3.6.10"
  }
 },
 "nbformat": 4,
 "nbformat_minor": 2
}
