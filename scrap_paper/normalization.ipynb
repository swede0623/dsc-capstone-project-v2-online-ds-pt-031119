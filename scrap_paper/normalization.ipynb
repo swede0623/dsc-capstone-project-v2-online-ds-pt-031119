{
 "cells": [
  {
   "cell_type": "code",
   "execution_count": 1,
   "metadata": {},
   "outputs": [
    {
     "name": "stderr",
     "output_type": "stream",
     "text": [
      "C:\\Users\\E\\Anaconda3\\envs\\learn-env\\lib\\site-packages\\sklearn\\utils\\deprecation.py:144: FutureWarning: The sklearn.semi_supervised.label_propagation module is  deprecated in version 0.22 and will be removed in version 0.24. The corresponding classes / functions should instead be imported from sklearn.semi_supervised. Anything that cannot be imported from sklearn.semi_supervised is now part of the private API.\n",
      "  warnings.warn(message, FutureWarning)\n",
      "C:\\Users\\E\\Anaconda3\\envs\\learn-env\\lib\\site-packages\\sklearn\\base.py:318: UserWarning: Trying to unpickle estimator LabelPropagation from version 0.18 when using version 0.22.1. This might lead to breaking code or invalid results. Use at your own risk.\n",
      "  UserWarning)\n"
     ]
    }
   ],
   "source": [
    "import pandas as pd\n",
    "import numpy as np\n",
    "import string\n",
    "import re\n",
    "import nltk\n",
    "from nltk.corpus import stopwords\n",
    "from nltk import FreqDist\n",
    "from nltk import word_tokenize, pos_tag, regexp_tokenize\n",
    "from sklearn.feature_extraction.text import TfidfVectorizer, CountVectorizer\n",
    "from sklearn.naive_bayes import MultinomialNB\n",
    "from nltk.stem import WordNetLemmatizer \n",
    "from sklearn.linear_model import LogisticRegression\n",
    "import spacy\n",
    "nlp = spacy.load(\"en_core_web_sm\")\n",
    "from sklearn.model_selection import cross_val_score\n",
    "from sklearn.model_selection import train_test_split\n",
    "from sklearn import metrics\n",
    "from sklearn.metrics import classification_report\n",
    "from sklearn.metrics import confusion_matrix\n",
    "from sklearn.model_selection import GridSearchCV\n",
    "from sklearn.pipeline import make_pipeline\n",
    "import random\n",
    "from normalise import normalise"
   ]
  },
  {
   "cell_type": "code",
   "execution_count": null,
   "metadata": {},
   "outputs": [],
   "source": []
  },
  {
   "cell_type": "code",
   "execution_count": 2,
   "metadata": {},
   "outputs": [],
   "source": [
    "train = pd.read_csv('train.csv')"
   ]
  },
  {
   "cell_type": "code",
   "execution_count": 189,
   "metadata": {},
   "outputs": [
    {
     "data": {
      "text/plain": [
       "'\"\\nIt\\'s anti-Israel to now think it\\'s ok for them to have a free range and do what ever they want against other peoples? Just so you know Hamas is the elected goverment in Gaza. And for everyone who considers Hamas a terrorist organisation it shouldn\\'t come as a surprise if they preform acts of terror, but when a \"\"free democratic country\"\" sinks to that same level while still trying to hold on to the moral high ground, everyone won\\'t stand for it. If any other country in the world bombed a school filled with refugee families killing the same number civilians, it would cause an out cry. So it\\'s not anti-Israel, it\\'s anti-hypocrisy and anti-killing human beings — dler — \"'"
      ]
     },
     "execution_count": 189,
     "metadata": {},
     "output_type": "execute_result"
    }
   ],
   "source": [
    "ex = random.choice(train['comment_text'])\n",
    "ex"
   ]
  },
  {
   "cell_type": "code",
   "execution_count": 134,
   "metadata": {},
   "outputs": [
    {
     "data": {
      "text/plain": [
       "['WP:UNDUE']"
      ]
     },
     "execution_count": 134,
     "metadata": {},
     "output_type": "execute_result"
    }
   ],
   "source": [
    "re.findall(\"WP:\\w*\",ex)"
   ]
  },
  {
   "cell_type": "code",
   "execution_count": 147,
   "metadata": {
    "scrolled": true
   },
   "outputs": [
    {
     "data": {
      "text/plain": [
       "['71.232.157.145']"
      ]
     },
     "execution_count": 147,
     "metadata": {},
     "output_type": "execute_result"
    }
   ],
   "source": [
    "re.findall(\"\\d{1,3}\\.\\d{1,3}\\.\\d{1,3}\\.\\d{1,3}\",ex)"
   ]
  },
  {
   "cell_type": "code",
   "execution_count": 190,
   "metadata": {},
   "outputs": [
    {
     "data": {
      "text/plain": [
       "'\\nIts antiIsrael to now think its ok for them to have a free range and do what ever they want against other peoples Just so you know Hamas is the elected goverment in Gaza And for everyone who considers Hamas a terrorist organisation it shouldnt come as a surprise if they preform acts of terror but when a free democratic country sinks to that same level while still trying to hold on to the moral high ground everyone wont stand for it If any other country in the world bombed a school filled with refugee families killing the same number civilians it would cause an out cry So its not antiIsrael its antihypocrisy and antikilling human beings — dler — '"
      ]
     },
     "execution_count": 190,
     "metadata": {},
     "output_type": "execute_result"
    }
   ],
   "source": [
    "ex.translate(str.maketrans('', '', string.punctuation))\n"
   ]
  },
  {
   "cell_type": "code",
   "execution_count": null,
   "metadata": {},
   "outputs": [],
   "source": [
    "normalise(token_list, verbose=False, variety='AmE', user_abbrevs=cuss_word_mapper"
   ]
  },
  {
   "cell_type": "code",
   "execution_count": 82,
   "metadata": {},
   "outputs": [
    {
     "ename": "SyntaxError",
     "evalue": "invalid syntax (<ipython-input-82-a4f3d24bdc64>, line 5)",
     "output_type": "error",
     "traceback": [
      "\u001b[1;36m  File \u001b[1;32m\"<ipython-input-82-a4f3d24bdc64>\"\u001b[1;36m, line \u001b[1;32m5\u001b[0m\n\u001b[1;33m    \"admins\":\"admin\",\u001b[0m\n\u001b[1;37m           ^\u001b[0m\n\u001b[1;31mSyntaxError\u001b[0m\u001b[1;31m:\u001b[0m invalid syntax\n"
     ]
    }
   ],
   "source": [
    "normalization_mapper = {\n",
    "    \"persons\" : \"people\",\n",
    "    \"so-called\":\"so called\",\n",
    "    \"contribs\":\"contributions\".\n",
    "    \"admins\":\"admin\",\n",
    "    \"point of view\":\"pov\",\n",
    "    \"retarded\":\"retard\",\n",
    "    \"dem\":\"them\",\n",
    "    \"womenz\":\"women\",\n",
    "    \"iz\":\"is\",\n",
    "    \"waht\":\"what\",\n",
    "    \"readded\":\"added\".\n",
    "    \"explaination\":\"explanation\",\n",
    "    \"yaaa\":\"you\",\n",
    "    \"yaaaa\":\"you\",\n",
    "    \"ya\":\"you\",\n",
    "    \"haahhahahah\":\"haha\",\n",
    "    \"ammount\":\"amount\",\n",
    "    \"soonest\":\"soon\",\n",
    "    \"wps\":\"wikipedia\",\n",
    "    \"uve\":\"you have\",\n",
    "    \"fucking\":\"fuck\"\n",
    "    \"e-mail\":\"email\",\n",
    "    \"suspention\":\"suspension\",\n",
    "    \"idoit\":\"idiot\",\n",
    "    \"sek\":\"seek\",\n",
    "    \"wiki\":\"wikipedia\",\n",
    "    \"btw\":\"by the way\",\n",
    "    \"cannot\":\"can not\",\n",
    "    \"piont\":\"point\",\n",
    "    \"dont\":\"do not\",\n",
    "    \"wp\":\"wikipedia\",\n",
    "    \"thankyou\":\"thank you\",\n",
    "    \"wikipedians\":\"wikipedian\",\n",
    "    \"todays\":\"today\",\n",
    "    \"im\":\"i am\"\n",
    "    \n",
    "    \n",
    "}"
   ]
  },
  {
   "cell_type": "code",
   "execution_count": null,
   "metadata": {},
   "outputs": [],
   "source": [
    "\"-Preceding unsigned comment added by\""
   ]
  }
 ],
 "metadata": {
  "kernelspec": {
   "display_name": "learn-env",
   "language": "python",
   "name": "learn-env"
  },
  "language_info": {
   "codemirror_mode": {
    "name": "ipython",
    "version": 3
   },
   "file_extension": ".py",
   "mimetype": "text/x-python",
   "name": "python",
   "nbconvert_exporter": "python",
   "pygments_lexer": "ipython3",
   "version": "3.6.10"
  }
 },
 "nbformat": 4,
 "nbformat_minor": 2
}
