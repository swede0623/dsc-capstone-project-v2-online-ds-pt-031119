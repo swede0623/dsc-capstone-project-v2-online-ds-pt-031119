{
 "cells": [
  {
   "cell_type": "markdown",
   "metadata": {},
   "source": [
    "# Import"
   ]
  },
  {
   "cell_type": "code",
   "execution_count": 1,
   "metadata": {},
   "outputs": [],
   "source": [
    "import pandas as pd\n",
    "import numpy as np\n",
    "import string\n",
    "import re\n",
    "import random\n",
    "import nltk\n",
    "import pickle\n",
    "from nltk.corpus import stopwords\n",
    "from nltk import FreqDist\n",
    "from nltk import word_tokenize, pos_tag, regexp_tokenize\n",
    "from sklearn.feature_extraction.text import TfidfVectorizer, CountVectorizer\n",
    "from sklearn.naive_bayes import MultinomialNB\n",
    "from nltk.stem import WordNetLemmatizer \n",
    "from sklearn.linear_model import LogisticRegression\n",
    "from sklearn.multiclass import OneVsRestClassifier\n",
    "from sklearn.model_selection import cross_val_score\n",
    "from sklearn.model_selection import train_test_split\n",
    "from sklearn import metrics\n",
    "from sklearn.metrics import classification_report\n",
    "from sklearn.metrics import confusion_matrix\n",
    "from sklearn.model_selection import GridSearchCV\n",
    "from sklearn.pipeline import make_pipeline\n",
    "from nltk.stem.porter import PorterStemmer\n",
    "from nltk.stem.snowball import SnowballStemmer"
   ]
  },
  {
   "cell_type": "markdown",
   "metadata": {},
   "source": [
    "# Load Data"
   ]
  },
  {
   "cell_type": "code",
   "execution_count": 2,
   "metadata": {},
   "outputs": [],
   "source": [
    "train = pd.read_csv('train.csv')\n",
    "holdout = pd.read_csv('test.csv')\n",
    "test_labels_df = pd.read_csv(\"test_labels.csv\")"
   ]
  },
  {
   "cell_type": "markdown",
   "metadata": {},
   "source": [
    "# Process Test Data"
   ]
  },
  {
   "cell_type": "code",
   "execution_count": 3,
   "metadata": {},
   "outputs": [],
   "source": [
    "holdout = holdout.merge(test_labels_df, on='id')\n",
    "holdout.drop(holdout[holdout['toxic']==-1].index, inplace=True)"
   ]
  },
  {
   "cell_type": "markdown",
   "metadata": {},
   "source": [
    "# Remove Spam (Optional)"
   ]
  },
  {
   "cell_type": "code",
   "execution_count": 4,
   "metadata": {},
   "outputs": [],
   "source": [
    "train['char_total'] = train['comment_text'].map(lambda x: len(x))\n",
    "train = train[train['char_total']<4500]\n",
    "train.drop(['char_total'], axis=1, inplace=True)"
   ]
  },
  {
   "cell_type": "markdown",
   "metadata": {},
   "source": [
    "# Process Raw Text Function"
   ]
  },
  {
   "cell_type": "code",
   "execution_count": 5,
   "metadata": {},
   "outputs": [],
   "source": [
    "def preprocess(comment):\n",
    "    # lower everything\n",
    "    comment = comment.lower()\n",
    "    #get rid of new line symbols\n",
    "    comment = re.sub('\\\\n',' ',comment)\n",
    "    #expand out all hyphens\n",
    "    comment = re.sub(\"-\", ' ', comment)\n",
    "    #remove user:: fragments\n",
    "    comment = re.sub(\"user::\\w*\",' ',comment)\n",
    "    #remove anything with user\n",
    "    comment = re.sub(\"\\[\\[user.*\",' ',comment)\n",
    "    #remove IP addresses\n",
    "    comment = re.sub(\"\\d{1,3}\\.\\d{1,3}\\.\\d{1,3}\\.\\d{1,3}\",' ',comment)\n",
    "    #remove http links\n",
    "    comment = re.sub(\"(http://.*?\\s)|(http://.*)\",' ',comment)\n",
    "    #remove https links\n",
    "    comment = re.sub(\"(https://.*?\\s)|(https://.*)\",' ',comment)\n",
    "    #remove email addresses\n",
    "    comment = re.sub(\"(^[a-zA-Z0-9_.+-]+@[a-zA-Z0-9-]+\\.[a-zA-Z0-9-.]+$)\",' ',comment)\n",
    "    #remove wp: fragments\n",
    "    comment = re.sub(\"wp:\\w*\",' ',comment)\n",
    "    #remove these auto generated strings\n",
    "    comment = re.sub(\"preceding unsigned comment added by\",' ',comment)\n",
    "    #remove all punctuation besides '\n",
    "    string_w_o_comma = re.sub(\"'\", '', string.punctuation)\n",
    "    comment = comment.translate(str.maketrans('','', string_w_o_comma))\n",
    "    return comment"
   ]
  },
  {
   "cell_type": "code",
   "execution_count": 6,
   "metadata": {},
   "outputs": [],
   "source": [
    "train['comment_text'] = train['comment_text'].apply(preprocess)\n",
    "holdout['comment_text'] = holdout['comment_text'].apply(preprocess)"
   ]
  },
  {
   "cell_type": "markdown",
   "metadata": {},
   "source": [
    "# Expand Contractions"
   ]
  },
  {
   "cell_type": "code",
   "execution_count": 7,
   "metadata": {},
   "outputs": [],
   "source": [
    "contraction_dict = {\"ain't\": \"is not\", \"aren't\": \"are not\",\"can't\": \"can not\", \"could've\": \"could have\", \"couldn't\": \"could not\", \"didn't\": \"did not\",  \"doesn't\": \"does not\", \"don't\": \"do not\", \"hadn't\": \"had not\", \"hasn't\": \"has not\", \"haven't\": \"have not\", \"he'd\": \"he would\",\"he'll\": \"he will\", \"he's\": \"he is\", \"how'd\": \"how did\", \"how'll\": \"how will\", \"how's\": \"how is\",  \"i'd\": \"i would\", \"i'll\": \"i will\", \"i'm\": \"i am\", \"i've\": \"i have\", \"i'd\": \"i would\", \"i'll\": \"i will\", \"i'm\": \"i am\", \"isn't\": \"is not\", \"it'd\": \"it would\", \"it'll\": \"it will\",\"it's\": \"it is\", \"let's\": \"let us\", \"ma'am\": \"madam\", \"might've\": \"might have\",\"mightn't\": \"might not\", \"must've\": \"must have\", \"mustn't\": \"must not\", \"needn't\": \"need not\", \"shan't\": \"shall not\", \"she'd\": \"she would\", \"she'll\": \"she will\", \"she's\": \"she is\", \"should've\": \"should have\", \"shouldn't\": \"should not\", \"so've\": \"so have\",\"that'd\": \"that would\", \"that's\": \"that is\", \"there's\": \"there is\", \"here's\": \"here is\",\"they'd\": \"they would\",\"they'll\": \"they will\", \"they're\": \"they are\", \"they've\": \"they have\", \"wasn't\": \"was not\", \"we'd\": \"we would\", \"we'll\": \"we will\", \"we're\": \"we are\", \"we've\": \"we have\", \"weren't\": \"were not\", \"what'll\": \"what will\", \"what're\": \"what are\",  \"what's\": \"what is\", \"what've\": \"what have\", \"when's\": \"when is\", \"when've\": \"when have\", \"where'd\": \"where did\", \"where's\": \"where is\", \"where've\": \"where have\", \"who'll\": \"who will\", \"who's\": \"who is\", \"who've\": \"who have\", \"why's\": \"why is\", \"why've\": \"why have\", \"will've\": \"will have\", \"won't\": \"will not\", \"won't've\": \"will not have\", \"would've\": \"would have\", \"wouldn't\": \"would not\", \"y'all\": \"you all\",\"you'd\": \"you would\", \"you'll\": \"you will\", \"you're\": \"you are\", \"you've\": \"you have\"}"
   ]
  },
  {
   "cell_type": "code",
   "execution_count": 8,
   "metadata": {},
   "outputs": [],
   "source": [
    "for replacee, replacer in contraction_dict.items():\n",
    "    train['comment_text'] = train['comment_text'].map(lambda x: x.replace(replacee, replacer))\n",
    "    holdout['comment_text'] = holdout['comment_text'].map(lambda x: x.replace(replacee, replacer))"
   ]
  },
  {
   "cell_type": "code",
   "execution_count": 9,
   "metadata": {},
   "outputs": [],
   "source": [
    "# for replacee, replacer in contraction_dict.items():\n",
    "#     train['comment_text'] = train['comment_text'].map(lambda x: re.sub('\\b'+replacee+'\\b',replacer,str(x)))\n",
    "# #     holdout['comment_text'] = holdout['comment_text'].map(lambda x: re.sub('\\b'+replacee+'\\b',replacer,str(x)))\n"
   ]
  },
  {
   "cell_type": "markdown",
   "metadata": {},
   "source": [
    "# Map Out Mis-spellings, etc."
   ]
  },
  {
   "cell_type": "code",
   "execution_count": 10,
   "metadata": {},
   "outputs": [],
   "source": [
    "normalization_dict = {'admins':'admin'}"
   ]
  },
  {
   "cell_type": "code",
   "execution_count": 11,
   "metadata": {},
   "outputs": [],
   "source": [
    "for replacee, replacer in normalization_dict.items():\n",
    "    train['comment_text'] = train['comment_text'].map(lambda x: x.replace(replacee, replacer))\n",
    "    holdout['comment_text'] = holdout['comment_text'].map(lambda x: x.replace(replacee, replacer))"
   ]
  },
  {
   "cell_type": "code",
   "execution_count": 12,
   "metadata": {},
   "outputs": [],
   "source": [
    "# for replacee, replacer in normalization_dict.items():\n",
    "#     train['comment_text'] = train['comment_text'].map(lambda x: re.sub('\\b'+replacee+'\\b',replacer,str(x)))\n",
    "# #     holdout['comment_text'] = holdout['comment_text'].map(lambda x: re.sub('\\b'+replacee+'\\b',replacer,str(x)))\n"
   ]
  },
  {
   "cell_type": "markdown",
   "metadata": {},
   "source": [
    "# Finish Preprocessing Function"
   ]
  },
  {
   "cell_type": "code",
   "execution_count": 13,
   "metadata": {},
   "outputs": [],
   "source": [
    "def remove_digits_punctuation(comment):\n",
    "    comment = ''.join([i for i in comment if not i.isdigit()])\n",
    "    return comment"
   ]
  },
  {
   "cell_type": "code",
   "execution_count": 14,
   "metadata": {},
   "outputs": [],
   "source": [
    "train['comment_text'] = train['comment_text'].apply(remove_digits_punctuation)\n",
    "holdout['comment_text'] = holdout['comment_text'].apply(remove_digits_punctuation)"
   ]
  },
  {
   "cell_type": "markdown",
   "metadata": {},
   "source": [
    "# Tokenize"
   ]
  },
  {
   "cell_type": "code",
   "execution_count": 15,
   "metadata": {},
   "outputs": [],
   "source": [
    "# list_of_token_lists = [regexp_tokenize(x,pattern=\"([a-zA-Z]+(?:'[a-z]+)?)\") for x in train['comment_text']]\n",
    "list_of_token_lists = [regexp_tokenize(x,pattern=r'\\w{1,}') for x in train['comment_text']]\n",
    "test_list_of_token_lists = [regexp_tokenize(x,pattern=r'\\w{1,}') for x in holdout['comment_text']]"
   ]
  },
  {
   "cell_type": "markdown",
   "metadata": {},
   "source": [
    "# Remove Stop Words"
   ]
  },
  {
   "cell_type": "code",
   "execution_count": 16,
   "metadata": {},
   "outputs": [],
   "source": [
    "stops = stopwords.words('english')\n",
    "stops += ['youre', 'dont', 'wont', 'ure', 'hes', 'uve', 'ive', 'ull', 'youll', 'its', 'thats', 'shes',\n",
    "         'whats', 'dont', 'isnt', 'doesnt', 'wouldnt', 'hasnt', 'shouldnt', 'havent', 'cuz']"
   ]
  },
  {
   "cell_type": "code",
   "execution_count": 17,
   "metadata": {},
   "outputs": [],
   "source": [
    "token_lists_stopwords_removed = [[token for token in tokens if token not in stops and \n",
    "                                  len(token)>1 and len(token)<50] for tokens in list_of_token_lists]\n",
    "test_tokens_stopwords_removed = [[token for token in tokens if token not in stops and \n",
    "                                  len(token)>1 and len(token)<50] for tokens in test_list_of_token_lists]\n",
    "# for tokens in list_of_token_lists:\n",
    "#     no_stops = [token for token in tokens if token not in stopwords.words('english')]\n",
    "#     token_lists_stopwords_removed.append(no_stops)"
   ]
  },
  {
   "cell_type": "markdown",
   "metadata": {},
   "source": [
    "# Stem Tokens-Porter"
   ]
  },
  {
   "cell_type": "code",
   "execution_count": 18,
   "metadata": {},
   "outputs": [],
   "source": [
    "porter = PorterStemmer()\n",
    "list_of_stems_lists = [[porter.stem(token) for token in tokens] for tokens in token_lists_stopwords_removed]\n",
    "test_list_of_stems_lists = [[porter.stem(token) for token in tokens] for tokens in test_tokens_stopwords_removed]"
   ]
  },
  {
   "cell_type": "code",
   "execution_count": 19,
   "metadata": {},
   "outputs": [],
   "source": [
    "stems_for_tfidf = list(map(' '.join, list_of_stems_lists))\n",
    "test_stems_for_tfidf = list(map(' '.join, test_list_of_stems_lists))"
   ]
  },
  {
   "cell_type": "code",
   "execution_count": 20,
   "metadata": {},
   "outputs": [],
   "source": [
    "# save_porter_tokens = open(\"porter_stemmed_tokens_1.pickle\", \"wb\")\n",
    "# pickle.dump(stems_for_tfidf, save_porter_tokens)\n",
    "# save_porter_tokens.close()"
   ]
  },
  {
   "cell_type": "code",
   "execution_count": 21,
   "metadata": {},
   "outputs": [],
   "source": [
    "# save_porter_tokens_test = open(\"porter_stemmed_tokens_test_1.pickle\", \"wb\")\n",
    "# pickle.dump(test_stems_for_tfidf, save_porter_tokens_test)\n",
    "# save_porter_tokens_test.close()"
   ]
  },
  {
   "cell_type": "markdown",
   "metadata": {},
   "source": [
    "# Stem Tokens-Snowball"
   ]
  },
  {
   "cell_type": "code",
   "execution_count": 22,
   "metadata": {},
   "outputs": [],
   "source": [
    "# snowball = SnowballStemmer('english')\n",
    "# list_of_stems_lists = [[snowball.stem(token) for token in tokens] for tokens in token_lists_stopwords_removed]\n",
    "# test_list_of_stems_lists = [[snowball.stem(token) for token in tokens] for tokens in test_tokens_stopwords_removed]"
   ]
  },
  {
   "cell_type": "code",
   "execution_count": 23,
   "metadata": {},
   "outputs": [],
   "source": [
    "# stems_for_tfidf = list(map(' '.join, list_of_stems_lists))\n",
    "# test_stems_for_tfidf = list(map(' '.join, test_list_of_stems_lists))"
   ]
  },
  {
   "cell_type": "markdown",
   "metadata": {},
   "source": [
    "# Prepare X and Y"
   ]
  },
  {
   "cell_type": "code",
   "execution_count": 24,
   "metadata": {},
   "outputs": [],
   "source": [
    "X_train = stems_for_tfidf\n",
    "y_train = train.iloc[:,2:]\n",
    "\n",
    "X_test = test_stems_for_tfidf\n",
    "y_test = holdout.iloc[:,2:]"
   ]
  },
  {
   "cell_type": "markdown",
   "metadata": {},
   "source": [
    "# Pipe Line"
   ]
  },
  {
   "cell_type": "code",
   "execution_count": 33,
   "metadata": {},
   "outputs": [],
   "source": [
    "pipe_lr = make_pipeline(\n",
    "    TfidfVectorizer(strip_accents='unicode', sublinear_tf=True, max_features=50000),\n",
    "    OneVsRestClassifier(LogisticRegression(solver='sag', C=2))\n",
    ")"
   ]
  },
  {
   "cell_type": "code",
   "execution_count": 34,
   "metadata": {
    "scrolled": true
   },
   "outputs": [
    {
     "data": {
      "text/plain": [
       "0.9802262263382219"
      ]
     },
     "execution_count": 34,
     "metadata": {},
     "output_type": "execute_result"
    }
   ],
   "source": [
    "cv_score = np.mean(cross_val_score(pipe_lr, X_train, y_train, cv=3, scoring='roc_auc'))\n",
    "cv_score"
   ]
  },
  {
   "cell_type": "code",
   "execution_count": 35,
   "metadata": {},
   "outputs": [
    {
     "data": {
      "text/plain": [
       "array([[2.92912123e-03, 4.82666627e-04, 1.12827683e-03, 4.24786190e-04,\n",
       "        3.88866676e-03, 3.45210301e-04],\n",
       "       [5.57391002e-01, 4.70272247e-03, 2.79317846e-02, 5.34778005e-03,\n",
       "        9.01195542e-02, 7.60986391e-03],\n",
       "       [4.75354465e-02, 1.47953033e-03, 2.21244325e-02, 1.16817855e-03,\n",
       "        1.45562559e-02, 3.07345707e-03],\n",
       "       ...,\n",
       "       [9.21389268e-01, 1.03193292e-02, 6.70141242e-02, 2.29822060e-03,\n",
       "        1.76015677e-01, 3.49833253e-01],\n",
       "       [9.98389245e-01, 1.61307628e-01, 9.91904110e-01, 2.75702380e-03,\n",
       "        9.37924794e-01, 9.39219225e-02],\n",
       "       [5.18548866e-02, 4.24799518e-03, 9.06850483e-03, 1.70439674e-03,\n",
       "        2.06437811e-02, 4.08427351e-03]])"
      ]
     },
     "execution_count": 35,
     "metadata": {},
     "output_type": "execute_result"
    }
   ],
   "source": [
    "pipe_lr.fit(X_train, y_train)\n",
    "test_preds = pipe_lr.predict_proba(X_test)\n",
    "test_preds"
   ]
  },
  {
   "cell_type": "code",
   "execution_count": 36,
   "metadata": {},
   "outputs": [
    {
     "data": {
      "text/plain": [
       "0.9758240803672286"
      ]
     },
     "execution_count": 36,
     "metadata": {},
     "output_type": "execute_result"
    }
   ],
   "source": [
    "metrics.roc_auc_score(y_test, test_preds)"
   ]
  },
  {
   "cell_type": "markdown",
   "metadata": {},
   "source": [
    "# Pipe Line w/ Grid Search"
   ]
  },
  {
   "cell_type": "code",
   "execution_count": 30,
   "metadata": {},
   "outputs": [],
   "source": [
    "tfidfstring = 'tfidfvectorizer'\n",
    "onevrstring = 'onevsrestclassifier'\n",
    "param_grid_lr = {\n",
    "    tfidfstring+'__max_features': [25000,50000,100000],\n",
    "    onevrstring+'__estimator__C': [.1,.5,1,2]\n",
    "             }"
   ]
  },
  {
   "cell_type": "code",
   "execution_count": 31,
   "metadata": {},
   "outputs": [],
   "source": [
    "grid_lr = GridSearchCV(pipe_lr, param_grid_lr, cv=3, scoring='roc_auc')\n",
    "grid_results_lr = grid_lr.fit(X_train, y_train)"
   ]
  },
  {
   "cell_type": "code",
   "execution_count": 32,
   "metadata": {},
   "outputs": [
    {
     "data": {
      "text/plain": [
       "{'onevsrestclassifier__estimator__C': 2,\n",
       " 'tfidfvectorizer__max_features': 50000}"
      ]
     },
     "execution_count": 32,
     "metadata": {},
     "output_type": "execute_result"
    }
   ],
   "source": [
    "grid_results_lr.best_params_"
   ]
  },
  {
   "cell_type": "code",
   "execution_count": 33,
   "metadata": {},
   "outputs": [
    {
     "data": {
      "text/plain": [
       "0.9801393622462508"
      ]
     },
     "execution_count": 33,
     "metadata": {},
     "output_type": "execute_result"
    }
   ],
   "source": [
    "grid_results_lr.best_score_"
   ]
  },
  {
   "cell_type": "code",
   "execution_count": 33,
   "metadata": {},
   "outputs": [],
   "source": [
    "grid_lr_1 = open(\"grid_lr_1.pickle\", \"wb\")\n",
    "pickle.dump(grid_results_lr, grid_lr_1)\n",
    "grid_lr_1.close()"
   ]
  },
  {
   "cell_type": "markdown",
   "metadata": {},
   "source": [
    "# Test Ngrams"
   ]
  },
  {
   "cell_type": "code",
   "execution_count": 27,
   "metadata": {},
   "outputs": [],
   "source": [
    "pickler = open(\"porter_stemmed_tokens_1.pickle\", \"rb\")\n",
    "porter_stems = pickle.load(pickler)\n",
    "pickler.close()"
   ]
  },
  {
   "cell_type": "code",
   "execution_count": 28,
   "metadata": {},
   "outputs": [],
   "source": [
    "pickler = open(\"porter_stemmed_tokens_test_1.pickle\", \"rb\")\n",
    "porter_stems_test = pickle.load(pickler)\n",
    "pickler.close()"
   ]
  },
  {
   "cell_type": "code",
   "execution_count": 29,
   "metadata": {},
   "outputs": [],
   "source": [
    "stems_for_tfidf = list(map(' '.join, porter_stems))\n",
    "test_stems_for_tfidf = list(map(' '.join, porter_stems_test))"
   ]
  },
  {
   "cell_type": "code",
   "execution_count": 30,
   "metadata": {},
   "outputs": [],
   "source": [
    "X_train = stems_for_tfidf\n",
    "y_train = train.iloc[:,2:]\n",
    "\n",
    "X_test = test_stems_for_tfidf\n",
    "y_test = holdout.iloc[:,2:]"
   ]
  },
  {
   "cell_type": "code",
   "execution_count": 35,
   "metadata": {},
   "outputs": [],
   "source": [
    "pipe_lr = make_pipeline(\n",
    "    TfidfVectorizer(strip_accents='unicode', sublinear_tf=True, analyzer='char'),\n",
    "    OneVsRestClassifier(LogisticRegression(solver='sag', C=2))\n",
    ")"
   ]
  },
  {
   "cell_type": "code",
   "execution_count": 36,
   "metadata": {},
   "outputs": [],
   "source": [
    "tfidfstring = 'tfidfvectorizer'\n",
    "onevrstring = 'onevsrestclassifier'\n",
    "param_grid_lr = {\n",
    "    tfidfstring+'__ngram_range': [(1,3), (2,5), (3,6)]\n",
    "             }"
   ]
  },
  {
   "cell_type": "code",
   "execution_count": 37,
   "metadata": {},
   "outputs": [],
   "source": [
    "grid_lr = GridSearchCV(pipe_lr, param_grid_lr, cv=3, scoring='roc_auc')\n",
    "grid_results_lr = grid_lr.fit(X_train, y_train)"
   ]
  },
  {
   "cell_type": "code",
   "execution_count": 38,
   "metadata": {},
   "outputs": [
    {
     "data": {
      "text/plain": [
       "{'tfidfvectorizer__ngram_range': (3, 6)}"
      ]
     },
     "execution_count": 38,
     "metadata": {},
     "output_type": "execute_result"
    }
   ],
   "source": [
    "grid_results_lr.best_params_"
   ]
  },
  {
   "cell_type": "code",
   "execution_count": 39,
   "metadata": {},
   "outputs": [
    {
     "data": {
      "text/plain": [
       "0.9690707122670807"
      ]
     },
     "execution_count": 39,
     "metadata": {},
     "output_type": "execute_result"
    }
   ],
   "source": [
    "grid_results_lr.best_score_"
   ]
  },
  {
   "cell_type": "code",
   "execution_count": null,
   "metadata": {},
   "outputs": [],
   "source": []
  }
 ],
 "metadata": {
  "kernelspec": {
   "display_name": "learn-env",
   "language": "python",
   "name": "learn-env"
  },
  "language_info": {
   "codemirror_mode": {
    "name": "ipython",
    "version": 3
   },
   "file_extension": ".py",
   "mimetype": "text/x-python",
   "name": "python",
   "nbconvert_exporter": "python",
   "pygments_lexer": "ipython3",
   "version": "3.6.10"
  }
 },
 "nbformat": 4,
 "nbformat_minor": 2
}
