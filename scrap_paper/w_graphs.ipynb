{
 "cells": [
  {
   "cell_type": "markdown",
   "metadata": {},
   "source": [
    "# Intro"
   ]
  },
  {
   "cell_type": "markdown",
   "metadata": {},
   "source": [
    "For my Capstone Project, I decided to tackle as best I could, the (already completed) Kaggle Competition: Toxic Comment Classification Challenge by Jigsaw and Conversation AI\n",
    "\n",
    "https://www.kaggle.com/c/jigsaw-toxic-comment-classification-challenge\n",
    "\n",
    "Going through the curriculum, NLP Natural Language Processing stood out to me.  There seemed to be so many options one could take to improve your model, from pre-processing, tokenization, to the modeling itself.  So I thought completing this task would be a great chance to dive deeper into the subject."
   ]
  },
  {
   "cell_type": "markdown",
   "metadata": {},
   "source": [
    "# About The Project"
   ]
  },
  {
   "cell_type": "markdown",
   "metadata": {},
   "source": [
    "The goal of this task was to create a model to analyze comments from past Wikipedia edit pages, and classify them either as non-toxic or 1 or more of 6 different sub-types of toxicity.  The 6 types of toxic comments were:\n",
    "\n",
    "- toxic\n",
    "- severe toxic\n",
    "- obscene\n",
    "- threat\n",
    "- insult\n",
    "- identity hate\n",
    "\n",
    "These comments were gathered from Wikipedia, from the time period of 2004 to 2015.  The comments were hand-labeled by real people via crowdsourcing.\n",
    "\n",
    "The ultimate goal being, for Wikipedia and other places where there is online communication, finding more accurate ways to automatically remove comments that contain toxicity.  Toxicity is harmful to people and stunts productive communication.\n",
    "\n",
    "I think the point of not just classifying toxic vs non-toxic, but incorporating these sub groups of toxicity is because some online forums are okay with obscenities but not if used in making threats or severe insults, etc."
   ]
  },
  {
   "cell_type": "markdown",
   "metadata": {},
   "source": [
    "# Overview of the Data"
   ]
  },
  {
   "cell_type": "code",
   "execution_count": 1,
   "metadata": {},
   "outputs": [],
   "source": [
    "import pandas as pd"
   ]
  },
  {
   "cell_type": "code",
   "execution_count": 2,
   "metadata": {},
   "outputs": [
    {
     "data": {
      "text/html": [
       "<div>\n",
       "<style scoped>\n",
       "    .dataframe tbody tr th:only-of-type {\n",
       "        vertical-align: middle;\n",
       "    }\n",
       "\n",
       "    .dataframe tbody tr th {\n",
       "        vertical-align: top;\n",
       "    }\n",
       "\n",
       "    .dataframe thead th {\n",
       "        text-align: right;\n",
       "    }\n",
       "</style>\n",
       "<table border=\"1\" class=\"dataframe\">\n",
       "  <thead>\n",
       "    <tr style=\"text-align: right;\">\n",
       "      <th></th>\n",
       "      <th>id</th>\n",
       "      <th>comment_text</th>\n",
       "      <th>toxic</th>\n",
       "      <th>severe_toxic</th>\n",
       "      <th>obscene</th>\n",
       "      <th>threat</th>\n",
       "      <th>insult</th>\n",
       "      <th>identity_hate</th>\n",
       "    </tr>\n",
       "  </thead>\n",
       "  <tbody>\n",
       "    <tr>\n",
       "      <th>0</th>\n",
       "      <td>0000997932d777bf</td>\n",
       "      <td>Explanation\\nWhy the edits made under my usern...</td>\n",
       "      <td>0</td>\n",
       "      <td>0</td>\n",
       "      <td>0</td>\n",
       "      <td>0</td>\n",
       "      <td>0</td>\n",
       "      <td>0</td>\n",
       "    </tr>\n",
       "    <tr>\n",
       "      <th>1</th>\n",
       "      <td>000103f0d9cfb60f</td>\n",
       "      <td>D'aww! He matches this background colour I'm s...</td>\n",
       "      <td>0</td>\n",
       "      <td>0</td>\n",
       "      <td>0</td>\n",
       "      <td>0</td>\n",
       "      <td>0</td>\n",
       "      <td>0</td>\n",
       "    </tr>\n",
       "    <tr>\n",
       "      <th>2</th>\n",
       "      <td>000113f07ec002fd</td>\n",
       "      <td>Hey man, I'm really not trying to edit war. It...</td>\n",
       "      <td>0</td>\n",
       "      <td>0</td>\n",
       "      <td>0</td>\n",
       "      <td>0</td>\n",
       "      <td>0</td>\n",
       "      <td>0</td>\n",
       "    </tr>\n",
       "    <tr>\n",
       "      <th>3</th>\n",
       "      <td>0001b41b1c6bb37e</td>\n",
       "      <td>\"\\nMore\\nI can't make any real suggestions on ...</td>\n",
       "      <td>0</td>\n",
       "      <td>0</td>\n",
       "      <td>0</td>\n",
       "      <td>0</td>\n",
       "      <td>0</td>\n",
       "      <td>0</td>\n",
       "    </tr>\n",
       "    <tr>\n",
       "      <th>4</th>\n",
       "      <td>0001d958c54c6e35</td>\n",
       "      <td>You, sir, are my hero. Any chance you remember...</td>\n",
       "      <td>0</td>\n",
       "      <td>0</td>\n",
       "      <td>0</td>\n",
       "      <td>0</td>\n",
       "      <td>0</td>\n",
       "      <td>0</td>\n",
       "    </tr>\n",
       "    <tr>\n",
       "      <th>5</th>\n",
       "      <td>00025465d4725e87</td>\n",
       "      <td>\"\\n\\nCongratulations from me as well, use the ...</td>\n",
       "      <td>0</td>\n",
       "      <td>0</td>\n",
       "      <td>0</td>\n",
       "      <td>0</td>\n",
       "      <td>0</td>\n",
       "      <td>0</td>\n",
       "    </tr>\n",
       "    <tr>\n",
       "      <th>6</th>\n",
       "      <td>0002bcb3da6cb337</td>\n",
       "      <td>COCKSUCKER BEFORE YOU PISS AROUND ON MY WORK</td>\n",
       "      <td>1</td>\n",
       "      <td>1</td>\n",
       "      <td>1</td>\n",
       "      <td>0</td>\n",
       "      <td>1</td>\n",
       "      <td>0</td>\n",
       "    </tr>\n",
       "    <tr>\n",
       "      <th>7</th>\n",
       "      <td>00031b1e95af7921</td>\n",
       "      <td>Your vandalism to the Matt Shirvington article...</td>\n",
       "      <td>0</td>\n",
       "      <td>0</td>\n",
       "      <td>0</td>\n",
       "      <td>0</td>\n",
       "      <td>0</td>\n",
       "      <td>0</td>\n",
       "    </tr>\n",
       "    <tr>\n",
       "      <th>8</th>\n",
       "      <td>00037261f536c51d</td>\n",
       "      <td>Sorry if the word 'nonsense' was offensive to ...</td>\n",
       "      <td>0</td>\n",
       "      <td>0</td>\n",
       "      <td>0</td>\n",
       "      <td>0</td>\n",
       "      <td>0</td>\n",
       "      <td>0</td>\n",
       "    </tr>\n",
       "    <tr>\n",
       "      <th>9</th>\n",
       "      <td>00040093b2687caa</td>\n",
       "      <td>alignment on this subject and which are contra...</td>\n",
       "      <td>0</td>\n",
       "      <td>0</td>\n",
       "      <td>0</td>\n",
       "      <td>0</td>\n",
       "      <td>0</td>\n",
       "      <td>0</td>\n",
       "    </tr>\n",
       "  </tbody>\n",
       "</table>\n",
       "</div>"
      ],
      "text/plain": [
       "                 id                                       comment_text  toxic  \\\n",
       "0  0000997932d777bf  Explanation\\nWhy the edits made under my usern...      0   \n",
       "1  000103f0d9cfb60f  D'aww! He matches this background colour I'm s...      0   \n",
       "2  000113f07ec002fd  Hey man, I'm really not trying to edit war. It...      0   \n",
       "3  0001b41b1c6bb37e  \"\\nMore\\nI can't make any real suggestions on ...      0   \n",
       "4  0001d958c54c6e35  You, sir, are my hero. Any chance you remember...      0   \n",
       "5  00025465d4725e87  \"\\n\\nCongratulations from me as well, use the ...      0   \n",
       "6  0002bcb3da6cb337       COCKSUCKER BEFORE YOU PISS AROUND ON MY WORK      1   \n",
       "7  00031b1e95af7921  Your vandalism to the Matt Shirvington article...      0   \n",
       "8  00037261f536c51d  Sorry if the word 'nonsense' was offensive to ...      0   \n",
       "9  00040093b2687caa  alignment on this subject and which are contra...      0   \n",
       "\n",
       "   severe_toxic  obscene  threat  insult  identity_hate  \n",
       "0             0        0       0       0              0  \n",
       "1             0        0       0       0              0  \n",
       "2             0        0       0       0              0  \n",
       "3             0        0       0       0              0  \n",
       "4             0        0       0       0              0  \n",
       "5             0        0       0       0              0  \n",
       "6             1        1       0       1              0  \n",
       "7             0        0       0       0              0  \n",
       "8             0        0       0       0              0  \n",
       "9             0        0       0       0              0  "
      ]
     },
     "execution_count": 2,
     "metadata": {},
     "output_type": "execute_result"
    }
   ],
   "source": [
    "train = pd.read_csv('train.csv')\n",
    "train.head(10)"
   ]
  },
  {
   "cell_type": "code",
   "execution_count": 3,
   "metadata": {},
   "outputs": [
    {
     "name": "stdout",
     "output_type": "stream",
     "text": [
      "<class 'pandas.core.frame.DataFrame'>\n",
      "RangeIndex: 159571 entries, 0 to 159570\n",
      "Data columns (total 8 columns):\n",
      "id               159571 non-null object\n",
      "comment_text     159571 non-null object\n",
      "toxic            159571 non-null int64\n",
      "severe_toxic     159571 non-null int64\n",
      "obscene          159571 non-null int64\n",
      "threat           159571 non-null int64\n",
      "insult           159571 non-null int64\n",
      "identity_hate    159571 non-null int64\n",
      "dtypes: int64(6), object(2)\n",
      "memory usage: 9.7+ MB\n"
     ]
    }
   ],
   "source": [
    "train.info()"
   ]
  },
  {
   "cell_type": "markdown",
   "metadata": {},
   "source": [
    "- We can see the train dataset has about 160,000 comments in it"
   ]
  },
  {
   "cell_type": "code",
   "execution_count": 4,
   "metadata": {},
   "outputs": [
    {
     "name": "stdout",
     "output_type": "stream",
     "text": [
      "<class 'pandas.core.frame.DataFrame'>\n",
      "RangeIndex: 153164 entries, 0 to 153163\n",
      "Data columns (total 2 columns):\n",
      "id              153164 non-null object\n",
      "comment_text    153164 non-null object\n",
      "dtypes: object(2)\n",
      "memory usage: 2.3+ MB\n"
     ]
    }
   ],
   "source": [
    "holdout = pd.read_csv('test.csv')\n",
    "holdout.info()"
   ]
  },
  {
   "cell_type": "markdown",
   "metadata": {},
   "source": [
    "- The test data set appears to have about 150,000 comments.  But it was later revealed that many of these were not actually used to evaluate competitor's models, they were just decoys.\n",
    "\n",
    "- The decoys were obvious because their labels were all -1, instead of a valid 0 or 1 value\n",
    "\n",
    "- By merging dataframes of the test comments and test labels we can easily filter out the decoys so we only use the comments actually used in evaluation"
   ]
  },
  {
   "cell_type": "code",
   "execution_count": 5,
   "metadata": {},
   "outputs": [
    {
     "name": "stdout",
     "output_type": "stream",
     "text": [
      "<class 'pandas.core.frame.DataFrame'>\n",
      "Int64Index: 63978 entries, 5 to 153156\n",
      "Data columns (total 8 columns):\n",
      "id               63978 non-null object\n",
      "comment_text     63978 non-null object\n",
      "toxic            63978 non-null int64\n",
      "severe_toxic     63978 non-null int64\n",
      "obscene          63978 non-null int64\n",
      "threat           63978 non-null int64\n",
      "insult           63978 non-null int64\n",
      "identity_hate    63978 non-null int64\n",
      "dtypes: int64(6), object(2)\n",
      "memory usage: 4.4+ MB\n"
     ]
    }
   ],
   "source": [
    "test_labels_df = pd.read_csv(\"test_labels.csv\")\n",
    "holdout = holdout.merge(test_labels_df, on='id')\n",
    "holdout.drop(holdout[holdout['toxic']==-1].index, inplace=True)\n",
    "holdout.info()"
   ]
  },
  {
   "cell_type": "markdown",
   "metadata": {},
   "source": [
    "- So we see now that our test set really only contains 63,978 comments"
   ]
  },
  {
   "cell_type": "markdown",
   "metadata": {},
   "source": [
    "# Exploration"
   ]
  },
  {
   "cell_type": "markdown",
   "metadata": {},
   "source": [
    "Let's look at a breakdown of each class to better understand what type of comments we have been provided in our train dataset"
   ]
  },
  {
   "cell_type": "markdown",
   "metadata": {},
   "source": [
    "- Here is a look again at our class labels"
   ]
  },
  {
   "cell_type": "code",
   "execution_count": 6,
   "metadata": {},
   "outputs": [
    {
     "data": {
      "text/plain": [
       "['toxic', 'severe_toxic', 'obscene', 'threat', 'insult', 'identity_hate']"
      ]
     },
     "execution_count": 6,
     "metadata": {},
     "output_type": "execute_result"
    }
   ],
   "source": [
    "labels = list(train.columns[2:])\n",
    "labels"
   ]
  },
  {
   "cell_type": "code",
   "execution_count": 7,
   "metadata": {},
   "outputs": [
    {
     "data": {
      "text/plain": [
       "toxic            15294\n",
       "severe_toxic      1595\n",
       "obscene           8449\n",
       "threat             478\n",
       "insult            7877\n",
       "identity_hate     1405\n",
       "dtype: int64"
      ]
     },
     "execution_count": 7,
     "metadata": {},
     "output_type": "execute_result"
    }
   ],
   "source": [
    "train[labels].sum()"
   ]
  },
  {
   "cell_type": "markdown",
   "metadata": {},
   "source": [
    "- So we can see here that the generic toxic class is by far the most plentiful.  While the threat class is the least represented"
   ]
  },
  {
   "cell_type": "markdown",
   "metadata": {},
   "source": [
    "- Because each comment can be labeled as none or all of these classes, another good way to look at our data is to see how many classes each comment was labeled positively for in total."
   ]
  },
  {
   "cell_type": "markdown",
   "metadata": {},
   "source": [
    "- Let's create a temporary column for total labels applied"
   ]
  },
  {
   "cell_type": "code",
   "execution_count": 8,
   "metadata": {},
   "outputs": [
    {
     "data": {
      "text/html": [
       "<div>\n",
       "<style scoped>\n",
       "    .dataframe tbody tr th:only-of-type {\n",
       "        vertical-align: middle;\n",
       "    }\n",
       "\n",
       "    .dataframe tbody tr th {\n",
       "        vertical-align: top;\n",
       "    }\n",
       "\n",
       "    .dataframe thead th {\n",
       "        text-align: right;\n",
       "    }\n",
       "</style>\n",
       "<table border=\"1\" class=\"dataframe\">\n",
       "  <thead>\n",
       "    <tr style=\"text-align: right;\">\n",
       "      <th></th>\n",
       "      <th>id</th>\n",
       "      <th>comment_text</th>\n",
       "      <th>toxic</th>\n",
       "      <th>severe_toxic</th>\n",
       "      <th>obscene</th>\n",
       "      <th>threat</th>\n",
       "      <th>insult</th>\n",
       "      <th>identity_hate</th>\n",
       "      <th>total</th>\n",
       "    </tr>\n",
       "  </thead>\n",
       "  <tbody>\n",
       "    <tr>\n",
       "      <th>0</th>\n",
       "      <td>0000997932d777bf</td>\n",
       "      <td>Explanation\\nWhy the edits made under my usern...</td>\n",
       "      <td>0</td>\n",
       "      <td>0</td>\n",
       "      <td>0</td>\n",
       "      <td>0</td>\n",
       "      <td>0</td>\n",
       "      <td>0</td>\n",
       "      <td>0</td>\n",
       "    </tr>\n",
       "    <tr>\n",
       "      <th>1</th>\n",
       "      <td>000103f0d9cfb60f</td>\n",
       "      <td>D'aww! He matches this background colour I'm s...</td>\n",
       "      <td>0</td>\n",
       "      <td>0</td>\n",
       "      <td>0</td>\n",
       "      <td>0</td>\n",
       "      <td>0</td>\n",
       "      <td>0</td>\n",
       "      <td>0</td>\n",
       "    </tr>\n",
       "    <tr>\n",
       "      <th>2</th>\n",
       "      <td>000113f07ec002fd</td>\n",
       "      <td>Hey man, I'm really not trying to edit war. It...</td>\n",
       "      <td>0</td>\n",
       "      <td>0</td>\n",
       "      <td>0</td>\n",
       "      <td>0</td>\n",
       "      <td>0</td>\n",
       "      <td>0</td>\n",
       "      <td>0</td>\n",
       "    </tr>\n",
       "    <tr>\n",
       "      <th>3</th>\n",
       "      <td>0001b41b1c6bb37e</td>\n",
       "      <td>\"\\nMore\\nI can't make any real suggestions on ...</td>\n",
       "      <td>0</td>\n",
       "      <td>0</td>\n",
       "      <td>0</td>\n",
       "      <td>0</td>\n",
       "      <td>0</td>\n",
       "      <td>0</td>\n",
       "      <td>0</td>\n",
       "    </tr>\n",
       "    <tr>\n",
       "      <th>4</th>\n",
       "      <td>0001d958c54c6e35</td>\n",
       "      <td>You, sir, are my hero. Any chance you remember...</td>\n",
       "      <td>0</td>\n",
       "      <td>0</td>\n",
       "      <td>0</td>\n",
       "      <td>0</td>\n",
       "      <td>0</td>\n",
       "      <td>0</td>\n",
       "      <td>0</td>\n",
       "    </tr>\n",
       "    <tr>\n",
       "      <th>5</th>\n",
       "      <td>00025465d4725e87</td>\n",
       "      <td>\"\\n\\nCongratulations from me as well, use the ...</td>\n",
       "      <td>0</td>\n",
       "      <td>0</td>\n",
       "      <td>0</td>\n",
       "      <td>0</td>\n",
       "      <td>0</td>\n",
       "      <td>0</td>\n",
       "      <td>0</td>\n",
       "    </tr>\n",
       "    <tr>\n",
       "      <th>6</th>\n",
       "      <td>0002bcb3da6cb337</td>\n",
       "      <td>COCKSUCKER BEFORE YOU PISS AROUND ON MY WORK</td>\n",
       "      <td>1</td>\n",
       "      <td>1</td>\n",
       "      <td>1</td>\n",
       "      <td>0</td>\n",
       "      <td>1</td>\n",
       "      <td>0</td>\n",
       "      <td>4</td>\n",
       "    </tr>\n",
       "    <tr>\n",
       "      <th>7</th>\n",
       "      <td>00031b1e95af7921</td>\n",
       "      <td>Your vandalism to the Matt Shirvington article...</td>\n",
       "      <td>0</td>\n",
       "      <td>0</td>\n",
       "      <td>0</td>\n",
       "      <td>0</td>\n",
       "      <td>0</td>\n",
       "      <td>0</td>\n",
       "      <td>0</td>\n",
       "    </tr>\n",
       "    <tr>\n",
       "      <th>8</th>\n",
       "      <td>00037261f536c51d</td>\n",
       "      <td>Sorry if the word 'nonsense' was offensive to ...</td>\n",
       "      <td>0</td>\n",
       "      <td>0</td>\n",
       "      <td>0</td>\n",
       "      <td>0</td>\n",
       "      <td>0</td>\n",
       "      <td>0</td>\n",
       "      <td>0</td>\n",
       "    </tr>\n",
       "    <tr>\n",
       "      <th>9</th>\n",
       "      <td>00040093b2687caa</td>\n",
       "      <td>alignment on this subject and which are contra...</td>\n",
       "      <td>0</td>\n",
       "      <td>0</td>\n",
       "      <td>0</td>\n",
       "      <td>0</td>\n",
       "      <td>0</td>\n",
       "      <td>0</td>\n",
       "      <td>0</td>\n",
       "    </tr>\n",
       "  </tbody>\n",
       "</table>\n",
       "</div>"
      ],
      "text/plain": [
       "                 id                                       comment_text  toxic  \\\n",
       "0  0000997932d777bf  Explanation\\nWhy the edits made under my usern...      0   \n",
       "1  000103f0d9cfb60f  D'aww! He matches this background colour I'm s...      0   \n",
       "2  000113f07ec002fd  Hey man, I'm really not trying to edit war. It...      0   \n",
       "3  0001b41b1c6bb37e  \"\\nMore\\nI can't make any real suggestions on ...      0   \n",
       "4  0001d958c54c6e35  You, sir, are my hero. Any chance you remember...      0   \n",
       "5  00025465d4725e87  \"\\n\\nCongratulations from me as well, use the ...      0   \n",
       "6  0002bcb3da6cb337       COCKSUCKER BEFORE YOU PISS AROUND ON MY WORK      1   \n",
       "7  00031b1e95af7921  Your vandalism to the Matt Shirvington article...      0   \n",
       "8  00037261f536c51d  Sorry if the word 'nonsense' was offensive to ...      0   \n",
       "9  00040093b2687caa  alignment on this subject and which are contra...      0   \n",
       "\n",
       "   severe_toxic  obscene  threat  insult  identity_hate  total  \n",
       "0             0        0       0       0              0      0  \n",
       "1             0        0       0       0              0      0  \n",
       "2             0        0       0       0              0      0  \n",
       "3             0        0       0       0              0      0  \n",
       "4             0        0       0       0              0      0  \n",
       "5             0        0       0       0              0      0  \n",
       "6             1        1       0       1              0      4  \n",
       "7             0        0       0       0              0      0  \n",
       "8             0        0       0       0              0      0  \n",
       "9             0        0       0       0              0      0  "
      ]
     },
     "execution_count": 8,
     "metadata": {},
     "output_type": "execute_result"
    }
   ],
   "source": [
    "train['total'] = train[labels].sum(axis=1)\n",
    "train.head(10)"
   ]
  },
  {
   "cell_type": "code",
   "execution_count": 9,
   "metadata": {},
   "outputs": [
    {
     "data": {
      "text/plain": [
       "0    143346\n",
       "1      6360\n",
       "3      4209\n",
       "2      3480\n",
       "4      1760\n",
       "5       385\n",
       "6        31\n",
       "Name: total, dtype: int64"
      ]
     },
     "execution_count": 9,
     "metadata": {},
     "output_type": "execute_result"
    }
   ],
   "source": [
    "train['total'].value_counts()"
   ]
  },
  {
   "cell_type": "markdown",
   "metadata": {},
   "source": [
    "- This makes it easy to see that 143346 (89.8% of the total) comments were not labeled for any type of toxicity, so by default they are non-toxic.\n",
    "\n",
    "- Notably, only 6 comments were labeled positively for ALL types of toxicity"
   ]
  },
  {
   "cell_type": "markdown",
   "metadata": {},
   "source": [
    "To create a clear contrast for the type of comments in our dataset, let's observe in full a non-toxic comment and one of the 31 comments that was labeled for all types of toxicity"
   ]
  },
  {
   "cell_type": "code",
   "execution_count": 10,
   "metadata": {},
   "outputs": [],
   "source": [
    "import random"
   ]
  },
  {
   "cell_type": "code",
   "execution_count": 11,
   "metadata": {},
   "outputs": [
    {
     "data": {
      "text/plain": [
       "'What a mess!\\nAnyone up for a housecleaning?'"
      ]
     },
     "execution_count": 11,
     "metadata": {},
     "output_type": "execute_result"
    }
   ],
   "source": [
    "random.choice(list(train.loc[train['total']==0, 'comment_text']))"
   ]
  },
  {
   "cell_type": "code",
   "execution_count": 12,
   "metadata": {},
   "outputs": [
    {
     "data": {
      "text/plain": [
       "\"Shalom \\n\\nSemite, get the fuck out of here. I will kill you, you son of a bitch if you don't leave wikipedia. If you tell anyone I said this to you, I will rape your jew family. Choke on a bagel, you faggoty hymie cock sucker. You better fucking die, before I hunt you down and piss on your face. If you get me blocked for this, I will find you and shoot you, I just want your jew fucking self gone, you dumb motherfucking piece of shit g-d damn jew. Die! Shalom. We Came In?\""
      ]
     },
     "execution_count": 12,
     "metadata": {},
     "output_type": "execute_result"
    }
   ],
   "source": [
    "random.choice(list(train.loc[train['total']==6, 'comment_text']))"
   ]
  },
  {
   "cell_type": "markdown",
   "metadata": {},
   "source": [
    "- This makes it easy to see why we to need control toxic communication on the internet"
   ]
  },
  {
   "cell_type": "code",
   "execution_count": null,
   "metadata": {},
   "outputs": [],
   "source": []
  },
  {
   "cell_type": "markdown",
   "metadata": {},
   "source": [
    "How long are these comments, usually? Is there a max limit?"
   ]
  },
  {
   "cell_type": "code",
   "execution_count": 13,
   "metadata": {},
   "outputs": [
    {
     "data": {
      "text/plain": [
       "<matplotlib.axes._subplots.AxesSubplot at 0x17fc70eb240>"
      ]
     },
     "execution_count": 13,
     "metadata": {},
     "output_type": "execute_result"
    },
    {
     "data": {
      "image/png": "[encoded data removed]",
      "text/plain": [
       "<Figure size 432x288 with 1 Axes>"
      ]
     },
     "metadata": {
      "needs_background": "light"
     },
     "output_type": "display_data"
    }
   ],
   "source": [
    "comment_char_length = [len(x) for x in train['comment_text']]\n",
    "pd.Series(comment_char_length).hist(bins=20)"
   ]
  },
  {
   "cell_type": "code",
   "execution_count": 14,
   "metadata": {},
   "outputs": [
    {
     "data": {
      "text/plain": [
       "count    159571.000000\n",
       "mean        394.073221\n",
       "std         590.720282\n",
       "min           6.000000\n",
       "25%          96.000000\n",
       "50%         205.000000\n",
       "75%         435.000000\n",
       "max        5000.000000\n",
       "dtype: float64"
      ]
     },
     "execution_count": 14,
     "metadata": {},
     "output_type": "execute_result"
    }
   ],
   "source": [
    "pd.Series(comment_char_length).describe()"
   ]
  },
  {
   "cell_type": "markdown",
   "metadata": {},
   "source": [
    "- We can see that there is a maximum character limit for this dataset, 5000.  But the average character length is 394"
   ]
  },
  {
   "cell_type": "markdown",
   "metadata": {},
   "source": [
    "# Frequency Distributions"
   ]
  },
  {
   "cell_type": "markdown",
   "metadata": {},
   "source": [
    "Let's take a look at the most common words in the corpus (all comments combined together) of toxic comments vs. non-toxic comments\n",
    "\n",
    "To make this easier to process, let's combine all the toxicity classes together for a general toxic corpus, and then a non-toxic corpus"
   ]
  },
  {
   "cell_type": "code",
   "execution_count": 15,
   "metadata": {},
   "outputs": [],
   "source": [
    "clean_comments_df = train[train['total']== 0]\n",
    "toxic_comments_df = train[train['total'] > 0]"
   ]
  },
  {
   "cell_type": "markdown",
   "metadata": {},
   "source": [
    "- NLTK's FreqDist function expects the text to already be in tokenized form, so we will have to do that first.  As it is now, each comment is just a single string of text"
   ]
  },
  {
   "cell_type": "code",
   "execution_count": 16,
   "metadata": {},
   "outputs": [],
   "source": [
    "from nltk import FreqDist\n",
    "from nltk import TweetTokenizer"
   ]
  },
  {
   "cell_type": "markdown",
   "metadata": {},
   "source": [
    "- I like to use NLTK's TweetTokenizer to turn these comments into word tokens.  It does not split words on their apostrophes, which I like because you don't end up with fragments of what the intended word was supposed to be (for example the word \"they're\" stays that way instead of being split into \"they\" and \"re\")\n",
    "\n",
    "- It also has reduce_len parameter that replaces repeated character sequences of 3 or more with just the sequence of 3\n",
    "\n",
    "- Basically, this function is better able to handle informal text conversation like we see with our Wikipedia edit comments"
   ]
  },
  {
   "cell_type": "code",
   "execution_count": 17,
   "metadata": {},
   "outputs": [],
   "source": [
    "twt_tknzr = TweetTokenizer(preserve_case=False, reduce_len=True)\n",
    "clean_tokens = [twt_tknzr.tokenize(x) for x in clean_comments_df['comment_text']]\n",
    "toxic_tokens = [twt_tknzr.tokenize(x) for x in toxic_comments_df['comment_text']]"
   ]
  },
  {
   "cell_type": "markdown",
   "metadata": {},
   "source": [
    "- We can see from an example of a comment now in tokenized form, stop words and punctuation are still included.  "
   ]
  },
  {
   "cell_type": "code",
   "execution_count": 18,
   "metadata": {
    "scrolled": false
   },
   "outputs": [
    {
     "data": {
      "text/plain": [
       "['explanation',\n",
       " 'why',\n",
       " 'the',\n",
       " 'edits',\n",
       " 'made',\n",
       " 'under',\n",
       " 'my',\n",
       " 'username',\n",
       " 'hardcore',\n",
       " 'metallica',\n",
       " 'fan',\n",
       " 'were',\n",
       " 'reverted',\n",
       " '?',\n",
       " 'they',\n",
       " \"weren't\",\n",
       " 'vandalisms',\n",
       " ',',\n",
       " 'just',\n",
       " 'closure',\n",
       " 'on',\n",
       " 'some',\n",
       " 'gas',\n",
       " 'after',\n",
       " 'i',\n",
       " 'voted',\n",
       " 'at',\n",
       " 'new',\n",
       " 'york',\n",
       " 'dolls',\n",
       " 'fac',\n",
       " '.',\n",
       " 'and',\n",
       " 'please',\n",
       " \"don't\",\n",
       " 'remove',\n",
       " 'the',\n",
       " 'template',\n",
       " 'from',\n",
       " 'the',\n",
       " 'talk',\n",
       " 'page',\n",
       " 'since',\n",
       " \"i'm\",\n",
       " 'retired',\n",
       " 'now',\n",
       " '.',\n",
       " '89.205',\n",
       " '.',\n",
       " '38.27']"
      ]
     },
     "execution_count": 18,
     "metadata": {},
     "output_type": "execute_result"
    }
   ],
   "source": [
    "clean_tokens[0]"
   ]
  },
  {
   "cell_type": "markdown",
   "metadata": {},
   "source": [
    "- We can now remove those to more clearly see what words best characterize toxic comments and non-toxic comments"
   ]
  },
  {
   "cell_type": "code",
   "execution_count": 19,
   "metadata": {},
   "outputs": [],
   "source": [
    "from nltk.corpus import stopwords\n",
    "import string"
   ]
  },
  {
   "cell_type": "code",
   "execution_count": 20,
   "metadata": {
    "scrolled": true
   },
   "outputs": [
    {
     "data": {
      "text/plain": [
       "['explanation',\n",
       " 'edits',\n",
       " 'made',\n",
       " 'username',\n",
       " 'hardcore',\n",
       " 'metallica',\n",
       " 'fan',\n",
       " 'reverted',\n",
       " 'vandalisms',\n",
       " 'closure',\n",
       " 'gas',\n",
       " 'voted',\n",
       " 'new',\n",
       " 'york',\n",
       " 'dolls',\n",
       " 'fac',\n",
       " 'please',\n",
       " 'remove',\n",
       " 'template',\n",
       " 'talk',\n",
       " 'page',\n",
       " 'since',\n",
       " \"i'm\",\n",
       " 'retired',\n",
       " '89.205',\n",
       " '38.27']"
      ]
     },
     "execution_count": 20,
     "metadata": {},
     "output_type": "execute_result"
    }
   ],
   "source": [
    "stopwords = stopwords.words('English') + list(string.punctuation)\n",
    "\n",
    "clean_tokens_stops_removed = []\n",
    "for token_list in clean_tokens:\n",
    "    new_tokens = [token for token in token_list if token not in stopwords]\n",
    "    clean_tokens_stops_removed.append(new_tokens)\n",
    "    \n",
    "toxic_tokens_stops_removed = []\n",
    "for token_list in toxic_tokens:\n",
    "    new_tokens = [token for token in token_list if token not in stopwords]\n",
    "    toxic_tokens_stops_removed.append(new_tokens)\n",
    "    \n",
    "clean_tokens_stops_removed[0]"
   ]
  },
  {
   "cell_type": "markdown",
   "metadata": {},
   "source": [
    "- As you can see, numbers are still included in these tokens, but we will leave it as it is for now and revisit doing more pre-processing before we do our modeling\n",
    "\n",
    "FreqDist wants 1 big list of tokens and not a list of each comment's list of tokens so we have to flatten the nested list before executing the function"
   ]
  },
  {
   "cell_type": "code",
   "execution_count": 21,
   "metadata": {},
   "outputs": [],
   "source": [
    "all_comments_together_clean = []\n",
    "for comment in clean_tokens_stops_removed:\n",
    "    all_comments_together_clean += comment\n",
    "    \n",
    "all_comments_together_toxic = []\n",
    "for comment in toxic_tokens_stops_removed:\n",
    "    all_comments_together_toxic += comment"
   ]
  },
  {
   "cell_type": "code",
   "execution_count": 22,
   "metadata": {},
   "outputs": [
    {
     "data": {
      "text/plain": [
       "[('article', 54154),\n",
       " ('page', 43505),\n",
       " ('wikipedia', 39511),\n",
       " ('talk', 35219),\n",
       " ('please', 28654),\n",
       " ('would', 28085),\n",
       " ('one', 26513),\n",
       " ('like', 23987),\n",
       " ('see', 20525),\n",
       " ('also', 19774),\n",
       " ('think', 18670),\n",
       " ('edit', 16718),\n",
       " ('know', 16688),\n",
       " ('...', 16556),\n",
       " (\"i'm\", 16232),\n",
       " ('articles', 15994),\n",
       " ('use', 15859),\n",
       " ('people', 15809),\n",
       " ('may', 15245),\n",
       " ('time', 14330)]"
      ]
     },
     "execution_count": 22,
     "metadata": {},
     "output_type": "execute_result"
    }
   ],
   "source": [
    "frq_dist_clean = FreqDist(all_comments_together_clean)\n",
    "frq_dist_clean.most_common(20)"
   ]
  },
  {
   "cell_type": "code",
   "execution_count": 23,
   "metadata": {},
   "outputs": [
    {
     "data": {
      "text/plain": [
       "[('fuck', 9623),\n",
       " ('like', 3781),\n",
       " ('shit', 3660),\n",
       " ('wikipedia', 3553),\n",
       " ('nigger', 3294),\n",
       " ('suck', 3245),\n",
       " ('fucking', 3238),\n",
       " ('go', 2963),\n",
       " ('ass', 2954),\n",
       " ('...', 2904),\n",
       " ('u', 2903),\n",
       " ('hate', 2637),\n",
       " ('get', 2440),\n",
       " ('page', 2356),\n",
       " ('know', 2354),\n",
       " ('gay', 2255),\n",
       " ('die', 2141),\n",
       " ('faggot', 2026),\n",
       " ('people', 1994),\n",
       " ('fat', 1981)]"
      ]
     },
     "execution_count": 23,
     "metadata": {},
     "output_type": "execute_result"
    }
   ],
   "source": [
    "frq_dist_toxic = FreqDist(all_comments_together_toxic)\n",
    "frq_dist_toxic.most_common(20)"
   ]
  },
  {
   "cell_type": "markdown",
   "metadata": {},
   "source": [
    "- 0 of the top 20 words in non-toxic comments are vulgar or meant to be derogatory vs. 11 of the top 20 words in toxic comments\n",
    "\n",
    "- The difference between the words used in each of these corpus' is stark, as you would probably expect."
   ]
  },
  {
   "cell_type": "markdown",
   "metadata": {},
   "source": [
    "# TF-IDF"
   ]
  },
  {
   "cell_type": "markdown",
   "metadata": {},
   "source": [
    "A more sophisticated way to characterize the most important words in a corpus as opposed to another is using TF-IDF (Term Frequency- Inverse Document Frequency).  This method highlights words that are exclusive to a corpus, rather than being common in both. \n",
    "\n",
    "Unlike FreqDist, TfidfVectorizer takes in strings rather than a list of tokens so we'll need to join all our tokens together as one big string"
   ]
  },
  {
   "cell_type": "code",
   "execution_count": 24,
   "metadata": {},
   "outputs": [],
   "source": [
    "clean_string_tfidf = ' '.join(all_comments_together_clean)\n",
    "toxic_string_tfidf = ' '.join(all_comments_together_toxic)\n",
    "corpi = [clean_string_tfidf, toxic_string_tfidf]"
   ]
  },
  {
   "cell_type": "code",
   "execution_count": 25,
   "metadata": {},
   "outputs": [],
   "source": [
    "from sklearn.feature_extraction.text import TfidfVectorizer"
   ]
  },
  {
   "cell_type": "code",
   "execution_count": 26,
   "metadata": {},
   "outputs": [],
   "source": [
    "vectorizer = TfidfVectorizer()\n",
    "corpi_tfidf = vectorizer.fit_transform(corpi)"
   ]
  },
  {
   "cell_type": "markdown",
   "metadata": {},
   "source": [
    "Now, the text has been transformed into Vector of TF_IDF scores.  Basically, the higher the score, the more important it is deemed to be in describing the nature of the document.  First we'll examine the results for the non-toxic comments"
   ]
  },
  {
   "cell_type": "code",
   "execution_count": 27,
   "metadata": {},
   "outputs": [
    {
     "data": {
      "text/html": [
       "<div>\n",
       "<style scoped>\n",
       "    .dataframe tbody tr th:only-of-type {\n",
       "        vertical-align: middle;\n",
       "    }\n",
       "\n",
       "    .dataframe tbody tr th {\n",
       "        vertical-align: top;\n",
       "    }\n",
       "\n",
       "    .dataframe thead th {\n",
       "        text-align: right;\n",
       "    }\n",
       "</style>\n",
       "<table border=\"1\" class=\"dataframe\">\n",
       "  <thead>\n",
       "    <tr style=\"text-align: right;\">\n",
       "      <th></th>\n",
       "      <th>tfidf</th>\n",
       "    </tr>\n",
       "  </thead>\n",
       "  <tbody>\n",
       "    <tr>\n",
       "      <th>article</th>\n",
       "      <td>0.348036</td>\n",
       "    </tr>\n",
       "    <tr>\n",
       "      <th>wikipedia</th>\n",
       "      <td>0.276245</td>\n",
       "    </tr>\n",
       "    <tr>\n",
       "      <th>page</th>\n",
       "      <td>0.273354</td>\n",
       "    </tr>\n",
       "    <tr>\n",
       "      <th>talk</th>\n",
       "      <td>0.221235</td>\n",
       "    </tr>\n",
       "    <tr>\n",
       "      <th>please</th>\n",
       "      <td>0.178194</td>\n",
       "    </tr>\n",
       "    <tr>\n",
       "      <th>would</th>\n",
       "      <td>0.174744</td>\n",
       "    </tr>\n",
       "    <tr>\n",
       "      <th>one</th>\n",
       "      <td>0.170518</td>\n",
       "    </tr>\n",
       "    <tr>\n",
       "      <th>like</th>\n",
       "      <td>0.150177</td>\n",
       "    </tr>\n",
       "    <tr>\n",
       "      <th>see</th>\n",
       "      <td>0.127589</td>\n",
       "    </tr>\n",
       "    <tr>\n",
       "      <th>also</th>\n",
       "      <td>0.122916</td>\n",
       "    </tr>\n",
       "    <tr>\n",
       "      <th>think</th>\n",
       "      <td>0.115960</td>\n",
       "    </tr>\n",
       "    <tr>\n",
       "      <th>edit</th>\n",
       "      <td>0.106925</td>\n",
       "    </tr>\n",
       "    <tr>\n",
       "      <th>know</th>\n",
       "      <td>0.104089</td>\n",
       "    </tr>\n",
       "    <tr>\n",
       "      <th>people</th>\n",
       "      <td>0.101588</td>\n",
       "    </tr>\n",
       "    <tr>\n",
       "      <th>articles</th>\n",
       "      <td>0.100254</td>\n",
       "    </tr>\n",
       "    <tr>\n",
       "      <th>use</th>\n",
       "      <td>0.099795</td>\n",
       "    </tr>\n",
       "    <tr>\n",
       "      <th>may</th>\n",
       "      <td>0.094719</td>\n",
       "    </tr>\n",
       "    <tr>\n",
       "      <th>time</th>\n",
       "      <td>0.091225</td>\n",
       "    </tr>\n",
       "    <tr>\n",
       "      <th>thanks</th>\n",
       "      <td>0.083562</td>\n",
       "    </tr>\n",
       "    <tr>\n",
       "      <th>user</th>\n",
       "      <td>0.078709</td>\n",
       "    </tr>\n",
       "  </tbody>\n",
       "</table>\n",
       "</div>"
      ],
      "text/plain": [
       "              tfidf\n",
       "article    0.348036\n",
       "wikipedia  0.276245\n",
       "page       0.273354\n",
       "talk       0.221235\n",
       "please     0.178194\n",
       "would      0.174744\n",
       "one        0.170518\n",
       "like       0.150177\n",
       "see        0.127589\n",
       "also       0.122916\n",
       "think      0.115960\n",
       "edit       0.106925\n",
       "know       0.104089\n",
       "people     0.101588\n",
       "articles   0.100254\n",
       "use        0.099795\n",
       "may        0.094719\n",
       "time       0.091225\n",
       "thanks     0.083562\n",
       "user       0.078709"
      ]
     },
     "execution_count": 27,
     "metadata": {},
     "output_type": "execute_result"
    }
   ],
   "source": [
    "clean_corpus = corpi_tfidf[0]\n",
    "df = pd.DataFrame(clean_corpus.T.todense(), index=vectorizer.get_feature_names(), columns=['tfidf'])\n",
    "df = df[df['tfidf']>0]\n",
    "df.sort_values(by=[\"tfidf\"],ascending=False).head(20)"
   ]
  },
  {
   "cell_type": "code",
   "execution_count": 28,
   "metadata": {},
   "outputs": [],
   "source": [
    "clean_words_dict = (df.sort_values(by=[\"tfidf\"],ascending=False).head(10)).to_dict()\n",
    "clean_words_dict = clean_words_dict['tfidf']"
   ]
  },
  {
   "cell_type": "code",
   "execution_count": 29,
   "metadata": {},
   "outputs": [],
   "source": [
    "import matplotlib.pyplot as plt\n",
    "from wordcloud import WordCloud"
   ]
  },
  {
   "cell_type": "code",
   "execution_count": 30,
   "metadata": {},
   "outputs": [
    {
     "data": {
      "image/png": "[encoded data removed]",
      "text/plain": [
       "<Figure size 432x288 with 1 Axes>"
      ]
     },
     "metadata": {
      "needs_background": "light"
     },
     "output_type": "display_data"
    }
   ],
   "source": [
    "wordcloud_clean = WordCloud(background_color='white')\n",
    "wordcloud_clean.generate_from_frequencies(clean_words_dict)\n",
    "plt.figure( figsize=(6,4) )\n",
    "plt.imshow(wordcloud_clean, interpolation=\"bilinear\")\n",
    "plt.axis(\"off\")\n",
    "plt.show()"
   ]
  },
  {
   "cell_type": "markdown",
   "metadata": {},
   "source": [
    "Now we'll examine the results of the toxic comments"
   ]
  },
  {
   "cell_type": "code",
   "execution_count": 31,
   "metadata": {},
   "outputs": [
    {
     "data": {
      "text/html": [
       "<div>\n",
       "<style scoped>\n",
       "    .dataframe tbody tr th:only-of-type {\n",
       "        vertical-align: middle;\n",
       "    }\n",
       "\n",
       "    .dataframe tbody tr th {\n",
       "        vertical-align: top;\n",
       "    }\n",
       "\n",
       "    .dataframe thead th {\n",
       "        text-align: right;\n",
       "    }\n",
       "</style>\n",
       "<table border=\"1\" class=\"dataframe\">\n",
       "  <thead>\n",
       "    <tr style=\"text-align: right;\">\n",
       "      <th></th>\n",
       "      <th>tfidf</th>\n",
       "    </tr>\n",
       "  </thead>\n",
       "  <tbody>\n",
       "    <tr>\n",
       "      <th>fuck</th>\n",
       "      <td>0.508336</td>\n",
       "    </tr>\n",
       "    <tr>\n",
       "      <th>wikipedia</th>\n",
       "      <td>0.199827</td>\n",
       "    </tr>\n",
       "    <tr>\n",
       "      <th>like</th>\n",
       "      <td>0.193523</td>\n",
       "    </tr>\n",
       "    <tr>\n",
       "      <th>shit</th>\n",
       "      <td>0.187830</td>\n",
       "    </tr>\n",
       "    <tr>\n",
       "      <th>fucking</th>\n",
       "      <td>0.169632</td>\n",
       "    </tr>\n",
       "    <tr>\n",
       "      <th>nigger</th>\n",
       "      <td>0.168056</td>\n",
       "    </tr>\n",
       "    <tr>\n",
       "      <th>suck</th>\n",
       "      <td>0.165158</td>\n",
       "    </tr>\n",
       "    <tr>\n",
       "      <th>ass</th>\n",
       "      <td>0.152653</td>\n",
       "    </tr>\n",
       "    <tr>\n",
       "      <th>go</th>\n",
       "      <td>0.150671</td>\n",
       "    </tr>\n",
       "    <tr>\n",
       "      <th>hate</th>\n",
       "      <td>0.135014</td>\n",
       "    </tr>\n",
       "    <tr>\n",
       "      <th>get</th>\n",
       "      <td>0.124339</td>\n",
       "    </tr>\n",
       "    <tr>\n",
       "      <th>page</th>\n",
       "      <td>0.120831</td>\n",
       "    </tr>\n",
       "    <tr>\n",
       "      <th>know</th>\n",
       "      <td>0.120476</td>\n",
       "    </tr>\n",
       "    <tr>\n",
       "      <th>gay</th>\n",
       "      <td>0.115240</td>\n",
       "    </tr>\n",
       "    <tr>\n",
       "      <th>die</th>\n",
       "      <td>0.108835</td>\n",
       "    </tr>\n",
       "    <tr>\n",
       "      <th>people</th>\n",
       "      <td>0.105124</td>\n",
       "    </tr>\n",
       "    <tr>\n",
       "      <th>faggot</th>\n",
       "      <td>0.103090</td>\n",
       "    </tr>\n",
       "    <tr>\n",
       "      <th>fat</th>\n",
       "      <td>0.100752</td>\n",
       "    </tr>\n",
       "    <tr>\n",
       "      <th>moron</th>\n",
       "      <td>0.095872</td>\n",
       "    </tr>\n",
       "    <tr>\n",
       "      <th>bitch</th>\n",
       "      <td>0.093585</td>\n",
       "    </tr>\n",
       "  </tbody>\n",
       "</table>\n",
       "</div>"
      ],
      "text/plain": [
       "              tfidf\n",
       "fuck       0.508336\n",
       "wikipedia  0.199827\n",
       "like       0.193523\n",
       "shit       0.187830\n",
       "fucking    0.169632\n",
       "nigger     0.168056\n",
       "suck       0.165158\n",
       "ass        0.152653\n",
       "go         0.150671\n",
       "hate       0.135014\n",
       "get        0.124339\n",
       "page       0.120831\n",
       "know       0.120476\n",
       "gay        0.115240\n",
       "die        0.108835\n",
       "people     0.105124\n",
       "faggot     0.103090\n",
       "fat        0.100752\n",
       "moron      0.095872\n",
       "bitch      0.093585"
      ]
     },
     "execution_count": 31,
     "metadata": {},
     "output_type": "execute_result"
    }
   ],
   "source": [
    "toxic_corpus = corpi_tfidf[1]\n",
    "df = pd.DataFrame(toxic_corpus.T.todense(), index=vectorizer.get_feature_names(), columns=['tfidf'])\n",
    "df = df[df['tfidf']>0]\n",
    "df.sort_values(by=[\"tfidf\"],ascending=False).head(20)"
   ]
  },
  {
   "cell_type": "code",
   "execution_count": 32,
   "metadata": {},
   "outputs": [],
   "source": [
    "toxic_words_dict = (df.sort_values(by=[\"tfidf\"],ascending=False).head(11)).to_dict()\n",
    "toxic_words_dict = toxic_words_dict['tfidf']\n",
    "del toxic_words_dict['nigger']"
   ]
  },
  {
   "cell_type": "code",
   "execution_count": 33,
   "metadata": {},
   "outputs": [
    {
     "data": {
      "image/png": "[encoded data removed]",
      "text/plain": [
       "<Figure size 432x288 with 1 Axes>"
      ]
     },
     "metadata": {
      "needs_background": "light"
     },
     "output_type": "display_data"
    }
   ],
   "source": [
    "wordcloud_toxic = WordCloud(background_color='white')\n",
    "wordcloud_toxic.generate_from_frequencies(toxic_words_dict)\n",
    "plt.figure( figsize=(6,4) )\n",
    "plt.imshow(wordcloud_toxic, interpolation=\"bilinear\")\n",
    "plt.axis(\"off\")\n",
    "plt.show()"
   ]
  },
  {
   "cell_type": "markdown",
   "metadata": {},
   "source": [
    "- Surprisingly, words like Wikipedia and \"page\" have high scores for both corpi.  But overall the results are very similar to the most common words in the Frequency Distributions"
   ]
  },
  {
   "cell_type": "markdown",
   "metadata": {},
   "source": [
    "Now let's do the same thing but with bigrams instead of unigrams"
   ]
  },
  {
   "cell_type": "code",
   "execution_count": 34,
   "metadata": {},
   "outputs": [],
   "source": [
    "vectorizer = TfidfVectorizer(ngram_range=(2,2))\n",
    "corpi_tfidf = vectorizer.fit_transform(corpi)"
   ]
  },
  {
   "cell_type": "code",
   "execution_count": 35,
   "metadata": {},
   "outputs": [
    {
     "data": {
      "text/html": [
       "<div>\n",
       "<style scoped>\n",
       "    .dataframe tbody tr th:only-of-type {\n",
       "        vertical-align: middle;\n",
       "    }\n",
       "\n",
       "    .dataframe tbody tr th {\n",
       "        vertical-align: top;\n",
       "    }\n",
       "\n",
       "    .dataframe thead th {\n",
       "        text-align: right;\n",
       "    }\n",
       "</style>\n",
       "<table border=\"1\" class=\"dataframe\">\n",
       "  <thead>\n",
       "    <tr style=\"text-align: right;\">\n",
       "      <th></th>\n",
       "      <th>tfidf</th>\n",
       "    </tr>\n",
       "  </thead>\n",
       "  <tbody>\n",
       "    <tr>\n",
       "      <th>talk page</th>\n",
       "      <td>0.522786</td>\n",
       "    </tr>\n",
       "    <tr>\n",
       "      <th>speedy deletion</th>\n",
       "      <td>0.180529</td>\n",
       "    </tr>\n",
       "    <tr>\n",
       "      <th>would like</th>\n",
       "      <td>0.144818</td>\n",
       "    </tr>\n",
       "    <tr>\n",
       "      <th>fair use</th>\n",
       "      <td>0.129308</td>\n",
       "    </tr>\n",
       "    <tr>\n",
       "      <th>http www</th>\n",
       "      <td>0.127827</td>\n",
       "    </tr>\n",
       "    <tr>\n",
       "      <th>feel free</th>\n",
       "      <td>0.094996</td>\n",
       "    </tr>\n",
       "    <tr>\n",
       "      <th>blocked editing</th>\n",
       "      <td>0.094831</td>\n",
       "    </tr>\n",
       "    <tr>\n",
       "      <th>talk contribs</th>\n",
       "      <td>0.090923</td>\n",
       "    </tr>\n",
       "    <tr>\n",
       "      <th>talk pages</th>\n",
       "      <td>0.086233</td>\n",
       "    </tr>\n",
       "    <tr>\n",
       "      <th>please stop</th>\n",
       "      <td>0.085862</td>\n",
       "    </tr>\n",
       "    <tr>\n",
       "      <th>criteria speedy</th>\n",
       "      <td>0.083843</td>\n",
       "    </tr>\n",
       "    <tr>\n",
       "      <th>wikipedia org</th>\n",
       "      <td>0.077634</td>\n",
       "    </tr>\n",
       "    <tr>\n",
       "      <th>reliable sources</th>\n",
       "      <td>0.077182</td>\n",
       "    </tr>\n",
       "    <tr>\n",
       "      <th>en wikipedia</th>\n",
       "      <td>0.075166</td>\n",
       "    </tr>\n",
       "    <tr>\n",
       "      <th>welcome wikipedia</th>\n",
       "      <td>0.072779</td>\n",
       "    </tr>\n",
       "    <tr>\n",
       "      <th>please see</th>\n",
       "      <td>0.069653</td>\n",
       "    </tr>\n",
       "    <tr>\n",
       "      <th>article talk</th>\n",
       "      <td>0.066608</td>\n",
       "    </tr>\n",
       "    <tr>\n",
       "      <th>take look</th>\n",
       "      <td>0.065580</td>\n",
       "    </tr>\n",
       "    <tr>\n",
       "      <th>let know</th>\n",
       "      <td>0.063564</td>\n",
       "    </tr>\n",
       "    <tr>\n",
       "      <th>http en</th>\n",
       "      <td>0.060766</td>\n",
       "    </tr>\n",
       "  </tbody>\n",
       "</table>\n",
       "</div>"
      ],
      "text/plain": [
       "                      tfidf\n",
       "talk page          0.522786\n",
       "speedy deletion    0.180529\n",
       "would like         0.144818\n",
       "fair use           0.129308\n",
       "http www           0.127827\n",
       "feel free          0.094996\n",
       "blocked editing    0.094831\n",
       "talk contribs      0.090923\n",
       "talk pages         0.086233\n",
       "please stop        0.085862\n",
       "criteria speedy    0.083843\n",
       "wikipedia org      0.077634\n",
       "reliable sources   0.077182\n",
       "en wikipedia       0.075166\n",
       "welcome wikipedia  0.072779\n",
       "please see         0.069653\n",
       "article talk       0.066608\n",
       "take look          0.065580\n",
       "let know           0.063564\n",
       "http en            0.060766"
      ]
     },
     "execution_count": 35,
     "metadata": {},
     "output_type": "execute_result"
    }
   ],
   "source": [
    "clean_corpus = corpi_tfidf[0]\n",
    "df = pd.DataFrame(clean_corpus.T.todense(), index=vectorizer.get_feature_names(), columns=['tfidf'])\n",
    "df = df[df['tfidf']>0]\n",
    "df.sort_values(by=[\"tfidf\"],ascending=False).head(20)"
   ]
  },
  {
   "cell_type": "markdown",
   "metadata": {},
   "source": [
    "- This highlights the importance of pre-processing of text data for NLP projects.  http & www, wikipedia & org, en & wikipedia are all just parts of URLs that were split on the period (.) during tokenization.  Many would argue that URLs are not helpful in identifying document purpose"
   ]
  },
  {
   "cell_type": "code",
   "execution_count": 36,
   "metadata": {},
   "outputs": [
    {
     "data": {
      "text/html": [
       "<div>\n",
       "<style scoped>\n",
       "    .dataframe tbody tr th:only-of-type {\n",
       "        vertical-align: middle;\n",
       "    }\n",
       "\n",
       "    .dataframe tbody tr th {\n",
       "        vertical-align: top;\n",
       "    }\n",
       "\n",
       "    .dataframe thead th {\n",
       "        text-align: right;\n",
       "    }\n",
       "</style>\n",
       "<table border=\"1\" class=\"dataframe\">\n",
       "  <thead>\n",
       "    <tr style=\"text-align: right;\">\n",
       "      <th></th>\n",
       "      <th>tfidf</th>\n",
       "    </tr>\n",
       "  </thead>\n",
       "  <tbody>\n",
       "    <tr>\n",
       "      <th>fuck fuck</th>\n",
       "      <td>0.319054</td>\n",
       "    </tr>\n",
       "    <tr>\n",
       "      <th>moron hi</th>\n",
       "      <td>0.218683</td>\n",
       "    </tr>\n",
       "    <tr>\n",
       "      <th>hi moron</th>\n",
       "      <td>0.218238</td>\n",
       "    </tr>\n",
       "    <tr>\n",
       "      <th>nigger nigger</th>\n",
       "      <td>0.212558</td>\n",
       "    </tr>\n",
       "    <tr>\n",
       "      <th>jew fat</th>\n",
       "      <td>0.182952</td>\n",
       "    </tr>\n",
       "    <tr>\n",
       "      <th>fat jew</th>\n",
       "      <td>0.181766</td>\n",
       "    </tr>\n",
       "    <tr>\n",
       "      <th>shit shit</th>\n",
       "      <td>0.170498</td>\n",
       "    </tr>\n",
       "    <tr>\n",
       "      <th>suck suck</th>\n",
       "      <td>0.168571</td>\n",
       "    </tr>\n",
       "    <tr>\n",
       "      <th>ass ass</th>\n",
       "      <td>0.167088</td>\n",
       "    </tr>\n",
       "    <tr>\n",
       "      <th>hate hate</th>\n",
       "      <td>0.165616</td>\n",
       "    </tr>\n",
       "    <tr>\n",
       "      <th>bark bark</th>\n",
       "      <td>0.148111</td>\n",
       "    </tr>\n",
       "    <tr>\n",
       "      <th>wanker wanker</th>\n",
       "      <td>0.142774</td>\n",
       "    </tr>\n",
       "    <tr>\n",
       "      <th>pig pig</th>\n",
       "      <td>0.131860</td>\n",
       "    </tr>\n",
       "    <tr>\n",
       "      <th>balls balls</th>\n",
       "      <td>0.123500</td>\n",
       "    </tr>\n",
       "    <tr>\n",
       "      <th>bullshit bullshit</th>\n",
       "      <td>0.123500</td>\n",
       "    </tr>\n",
       "    <tr>\n",
       "      <th>go fuck</th>\n",
       "      <td>0.121311</td>\n",
       "    </tr>\n",
       "    <tr>\n",
       "      <th>nipple nipple</th>\n",
       "      <td>0.113122</td>\n",
       "    </tr>\n",
       "    <tr>\n",
       "      <th>faggot faggot</th>\n",
       "      <td>0.111936</td>\n",
       "    </tr>\n",
       "    <tr>\n",
       "      <th>dickhead dickhead</th>\n",
       "      <td>0.092662</td>\n",
       "    </tr>\n",
       "    <tr>\n",
       "      <th>die fag</th>\n",
       "      <td>0.092662</td>\n",
       "    </tr>\n",
       "  </tbody>\n",
       "</table>\n",
       "</div>"
      ],
      "text/plain": [
       "                      tfidf\n",
       "fuck fuck          0.319054\n",
       "moron hi           0.218683\n",
       "hi moron           0.218238\n",
       "nigger nigger      0.212558\n",
       "jew fat            0.182952\n",
       "fat jew            0.181766\n",
       "shit shit          0.170498\n",
       "suck suck          0.168571\n",
       "ass ass            0.167088\n",
       "hate hate          0.165616\n",
       "bark bark          0.148111\n",
       "wanker wanker      0.142774\n",
       "pig pig            0.131860\n",
       "balls balls        0.123500\n",
       "bullshit bullshit  0.123500\n",
       "go fuck            0.121311\n",
       "nipple nipple      0.113122\n",
       "faggot faggot      0.111936\n",
       "dickhead dickhead  0.092662\n",
       "die fag            0.092662"
      ]
     },
     "execution_count": 36,
     "metadata": {},
     "output_type": "execute_result"
    }
   ],
   "source": [
    "toxic_corpus = corpi_tfidf[1]\n",
    "df = pd.DataFrame(toxic_corpus.T.todense(), index=vectorizer.get_feature_names(), columns=['tfidf'])\n",
    "df = df[df['tfidf']>0]\n",
    "df.sort_values(by=[\"tfidf\"],ascending=False).head(20)"
   ]
  },
  {
   "cell_type": "markdown",
   "metadata": {},
   "source": [
    "- The fact that almost all of these bigrams are the same word twice leads me to believe these existed in comments where someone just spammed the same foul words over and over again, with no real meaning.  Because even if someone was cussing at somebody, rarely does a direct attack include the same word repeated back-to-back\n",
    "\n",
    "- So I think it's possible these bigram results are not representative of the comments as a whole, but skewed by a few long spam messages of cuss words repeated over and over again."
   ]
  },
  {
   "cell_type": "markdown",
   "metadata": {},
   "source": [
    "Here is a quick look to see if this theory may be true"
   ]
  },
  {
   "cell_type": "code",
   "execution_count": 37,
   "metadata": {},
   "outputs": [
    {
     "data": {
      "text/html": [
       "<div>\n",
       "<style scoped>\n",
       "    .dataframe tbody tr th:only-of-type {\n",
       "        vertical-align: middle;\n",
       "    }\n",
       "\n",
       "    .dataframe tbody tr th {\n",
       "        vertical-align: top;\n",
       "    }\n",
       "\n",
       "    .dataframe thead th {\n",
       "        text-align: right;\n",
       "    }\n",
       "</style>\n",
       "<table border=\"1\" class=\"dataframe\">\n",
       "  <thead>\n",
       "    <tr style=\"text-align: right;\">\n",
       "      <th></th>\n",
       "      <th>id</th>\n",
       "      <th>comment_text</th>\n",
       "      <th>toxic</th>\n",
       "      <th>severe_toxic</th>\n",
       "      <th>obscene</th>\n",
       "      <th>threat</th>\n",
       "      <th>insult</th>\n",
       "      <th>identity_hate</th>\n",
       "      <th>total</th>\n",
       "      <th>char_total</th>\n",
       "    </tr>\n",
       "  </thead>\n",
       "  <tbody>\n",
       "    <tr>\n",
       "      <th>46583</th>\n",
       "      <td>7c7a4bf4c84fe002</td>\n",
       "      <td>hahahahahahahahahahahahahahahahahaha vandalism...</td>\n",
       "      <td>1</td>\n",
       "      <td>0</td>\n",
       "      <td>0</td>\n",
       "      <td>0</td>\n",
       "      <td>0</td>\n",
       "      <td>0</td>\n",
       "      <td>1</td>\n",
       "      <td>5000</td>\n",
       "    </tr>\n",
       "    <tr>\n",
       "      <th>47715</th>\n",
       "      <td>7f79fd5eacbe804c</td>\n",
       "      <td>Block Block Block Block Block Block Block Bloc...</td>\n",
       "      <td>0</td>\n",
       "      <td>0</td>\n",
       "      <td>0</td>\n",
       "      <td>0</td>\n",
       "      <td>0</td>\n",
       "      <td>0</td>\n",
       "      <td>0</td>\n",
       "      <td>5000</td>\n",
       "    </tr>\n",
       "    <tr>\n",
       "      <th>74753</th>\n",
       "      <td>c7f72686bf613e4e</td>\n",
       "      <td>Dont Change It!!!! zzzzzzzzzzzzzzzzzzzzzzzzzzz...</td>\n",
       "      <td>0</td>\n",
       "      <td>0</td>\n",
       "      <td>0</td>\n",
       "      <td>0</td>\n",
       "      <td>0</td>\n",
       "      <td>0</td>\n",
       "      <td>0</td>\n",
       "      <td>5000</td>\n",
       "    </tr>\n",
       "    <tr>\n",
       "      <th>42061</th>\n",
       "      <td>70368dd072aebb42</td>\n",
       "      <td>WANKER WANKER WANKER WANKER WANKER WANKER WANK...</td>\n",
       "      <td>1</td>\n",
       "      <td>0</td>\n",
       "      <td>0</td>\n",
       "      <td>0</td>\n",
       "      <td>0</td>\n",
       "      <td>0</td>\n",
       "      <td>1</td>\n",
       "      <td>5000</td>\n",
       "    </tr>\n",
       "    <tr>\n",
       "      <th>72192</th>\n",
       "      <td>c14532e93d456260</td>\n",
       "      <td>China smells like fart. China smells like fart...</td>\n",
       "      <td>1</td>\n",
       "      <td>0</td>\n",
       "      <td>0</td>\n",
       "      <td>0</td>\n",
       "      <td>0</td>\n",
       "      <td>0</td>\n",
       "      <td>1</td>\n",
       "      <td>5000</td>\n",
       "    </tr>\n",
       "    <tr>\n",
       "      <th>75165</th>\n",
       "      <td>c91d629c6599bb23</td>\n",
       "      <td>IN THE NAME OF YTMND!IN THE NAME OF YTMND!IN T...</td>\n",
       "      <td>0</td>\n",
       "      <td>0</td>\n",
       "      <td>0</td>\n",
       "      <td>0</td>\n",
       "      <td>0</td>\n",
       "      <td>0</td>\n",
       "      <td>0</td>\n",
       "      <td>5000</td>\n",
       "    </tr>\n",
       "    <tr>\n",
       "      <th>56834</th>\n",
       "      <td>97e695cfd71944ed</td>\n",
       "      <td>i CAN STILL POST WITH THIS COMPUTER...I SAID B...</td>\n",
       "      <td>1</td>\n",
       "      <td>1</td>\n",
       "      <td>1</td>\n",
       "      <td>0</td>\n",
       "      <td>1</td>\n",
       "      <td>0</td>\n",
       "      <td>4</td>\n",
       "      <td>5000</td>\n",
       "    </tr>\n",
       "    <tr>\n",
       "      <th>46197</th>\n",
       "      <td>7b6b88051eb69303</td>\n",
       "      <td>heil hitler! heil hitler! heil hitler! heil hi...</td>\n",
       "      <td>1</td>\n",
       "      <td>0</td>\n",
       "      <td>0</td>\n",
       "      <td>0</td>\n",
       "      <td>0</td>\n",
       "      <td>0</td>\n",
       "      <td>1</td>\n",
       "      <td>5000</td>\n",
       "    </tr>\n",
       "    <tr>\n",
       "      <th>131729</th>\n",
       "      <td>c0e076f0011acaa6</td>\n",
       "      <td>\"FFFFF UUUUUU CCCCCC KKKKKK ===== YOU! F UU C ...</td>\n",
       "      <td>1</td>\n",
       "      <td>1</td>\n",
       "      <td>1</td>\n",
       "      <td>0</td>\n",
       "      <td>1</td>\n",
       "      <td>0</td>\n",
       "      <td>4</td>\n",
       "      <td>5000</td>\n",
       "    </tr>\n",
       "    <tr>\n",
       "      <th>128782</th>\n",
       "      <td>b0b8f1eaa83616fe</td>\n",
       "      <td>sex fucksex fucksex fucksex fucksex fucksex fu...</td>\n",
       "      <td>1</td>\n",
       "      <td>1</td>\n",
       "      <td>1</td>\n",
       "      <td>0</td>\n",
       "      <td>0</td>\n",
       "      <td>0</td>\n",
       "      <td>3</td>\n",
       "      <td>5000</td>\n",
       "    </tr>\n",
       "    <tr>\n",
       "      <th>121718</th>\n",
       "      <td>8b31f2d7d6025482</td>\n",
       "      <td>BUTTSECKS BUTTSECKS BUTTSECKS BUTTSECKS BUTTSE...</td>\n",
       "      <td>1</td>\n",
       "      <td>0</td>\n",
       "      <td>1</td>\n",
       "      <td>0</td>\n",
       "      <td>0</td>\n",
       "      <td>0</td>\n",
       "      <td>2</td>\n",
       "      <td>5000</td>\n",
       "    </tr>\n",
       "    <tr>\n",
       "      <th>133254</th>\n",
       "      <td>c8f01ac90c4adc27</td>\n",
       "      <td>FUCK YOU ALL!!  FUCK YOU ALL!!  FUCK YOU ALL!!...</td>\n",
       "      <td>1</td>\n",
       "      <td>1</td>\n",
       "      <td>1</td>\n",
       "      <td>0</td>\n",
       "      <td>1</td>\n",
       "      <td>0</td>\n",
       "      <td>4</td>\n",
       "      <td>5000</td>\n",
       "    </tr>\n",
       "    <tr>\n",
       "      <th>35316</th>\n",
       "      <td>5e50cf56f160bda3</td>\n",
       "      <td>MarxismLONG LIVE ANONYMOUS PHILIPPINESLONG LIV...</td>\n",
       "      <td>0</td>\n",
       "      <td>0</td>\n",
       "      <td>0</td>\n",
       "      <td>0</td>\n",
       "      <td>0</td>\n",
       "      <td>0</td>\n",
       "      <td>0</td>\n",
       "      <td>5000</td>\n",
       "    </tr>\n",
       "    <tr>\n",
       "      <th>82636</th>\n",
       "      <td>dd0bd64b02c550af</td>\n",
       "      <td>MUAHAHAHAHAHAHAHAHAHAHAHAHAHAHAHAHAHAHA, YOU C...</td>\n",
       "      <td>1</td>\n",
       "      <td>0</td>\n",
       "      <td>0</td>\n",
       "      <td>0</td>\n",
       "      <td>0</td>\n",
       "      <td>0</td>\n",
       "      <td>1</td>\n",
       "      <td>5000</td>\n",
       "    </tr>\n",
       "    <tr>\n",
       "      <th>18183</th>\n",
       "      <td>300b0c81ea94e02d</td>\n",
       "      <td>Hey guys I love chicken rice=)Hey guys I love ...</td>\n",
       "      <td>0</td>\n",
       "      <td>0</td>\n",
       "      <td>0</td>\n",
       "      <td>0</td>\n",
       "      <td>0</td>\n",
       "      <td>0</td>\n",
       "      <td>0</td>\n",
       "      <td>5000</td>\n",
       "    </tr>\n",
       "    <tr>\n",
       "      <th>4174</th>\n",
       "      <td>0b2055f13934a41e</td>\n",
       "      <td>ii CAN STILL POST WITH THIS COMPUTER...I SAID ...</td>\n",
       "      <td>1</td>\n",
       "      <td>0</td>\n",
       "      <td>1</td>\n",
       "      <td>0</td>\n",
       "      <td>1</td>\n",
       "      <td>0</td>\n",
       "      <td>3</td>\n",
       "      <td>5000</td>\n",
       "    </tr>\n",
       "    <tr>\n",
       "      <th>96267</th>\n",
       "      <td>02dd3c9a9129c83e</td>\n",
       "      <td>BOOTSTOOTS IS A FRIGGEN GAYFAG LOLOOOLBOOTSTOO...</td>\n",
       "      <td>1</td>\n",
       "      <td>0</td>\n",
       "      <td>0</td>\n",
       "      <td>0</td>\n",
       "      <td>1</td>\n",
       "      <td>0</td>\n",
       "      <td>2</td>\n",
       "      <td>5000</td>\n",
       "    </tr>\n",
       "    <tr>\n",
       "      <th>28855</th>\n",
       "      <td>4c7963eaf9697d35</td>\n",
       "      <td>JIM WALES MUST DIE!!!!!!!!!!!!  JIM WALES MUST...</td>\n",
       "      <td>1</td>\n",
       "      <td>1</td>\n",
       "      <td>0</td>\n",
       "      <td>1</td>\n",
       "      <td>0</td>\n",
       "      <td>0</td>\n",
       "      <td>3</td>\n",
       "      <td>5000</td>\n",
       "    </tr>\n",
       "    <tr>\n",
       "      <th>70544</th>\n",
       "      <td>bcc6a4fc5f123163</td>\n",
       "      <td>delete this pagedelete this pagedelete this pa...</td>\n",
       "      <td>0</td>\n",
       "      <td>0</td>\n",
       "      <td>0</td>\n",
       "      <td>0</td>\n",
       "      <td>0</td>\n",
       "      <td>0</td>\n",
       "      <td>0</td>\n",
       "      <td>5000</td>\n",
       "    </tr>\n",
       "    <tr>\n",
       "      <th>63392</th>\n",
       "      <td>a99aff4a8428dfb2</td>\n",
       "      <td>leari CAN STILL POST WITH THIS COMPUTER...I SA...</td>\n",
       "      <td>1</td>\n",
       "      <td>1</td>\n",
       "      <td>1</td>\n",
       "      <td>0</td>\n",
       "      <td>1</td>\n",
       "      <td>0</td>\n",
       "      <td>4</td>\n",
       "      <td>5000</td>\n",
       "    </tr>\n",
       "  </tbody>\n",
       "</table>\n",
       "</div>"
      ],
      "text/plain": [
       "                      id                                       comment_text  \\\n",
       "46583   7c7a4bf4c84fe002  hahahahahahahahahahahahahahahahahaha vandalism...   \n",
       "47715   7f79fd5eacbe804c  Block Block Block Block Block Block Block Bloc...   \n",
       "74753   c7f72686bf613e4e  Dont Change It!!!! zzzzzzzzzzzzzzzzzzzzzzzzzzz...   \n",
       "42061   70368dd072aebb42  WANKER WANKER WANKER WANKER WANKER WANKER WANK...   \n",
       "72192   c14532e93d456260  China smells like fart. China smells like fart...   \n",
       "75165   c91d629c6599bb23  IN THE NAME OF YTMND!IN THE NAME OF YTMND!IN T...   \n",
       "56834   97e695cfd71944ed  i CAN STILL POST WITH THIS COMPUTER...I SAID B...   \n",
       "46197   7b6b88051eb69303  heil hitler! heil hitler! heil hitler! heil hi...   \n",
       "131729  c0e076f0011acaa6  \"FFFFF UUUUUU CCCCCC KKKKKK ===== YOU! F UU C ...   \n",
       "128782  b0b8f1eaa83616fe  sex fucksex fucksex fucksex fucksex fucksex fu...   \n",
       "121718  8b31f2d7d6025482  BUTTSECKS BUTTSECKS BUTTSECKS BUTTSECKS BUTTSE...   \n",
       "133254  c8f01ac90c4adc27  FUCK YOU ALL!!  FUCK YOU ALL!!  FUCK YOU ALL!!...   \n",
       "35316   5e50cf56f160bda3  MarxismLONG LIVE ANONYMOUS PHILIPPINESLONG LIV...   \n",
       "82636   dd0bd64b02c550af  MUAHAHAHAHAHAHAHAHAHAHAHAHAHAHAHAHAHAHA, YOU C...   \n",
       "18183   300b0c81ea94e02d  Hey guys I love chicken rice=)Hey guys I love ...   \n",
       "4174    0b2055f13934a41e  ii CAN STILL POST WITH THIS COMPUTER...I SAID ...   \n",
       "96267   02dd3c9a9129c83e  BOOTSTOOTS IS A FRIGGEN GAYFAG LOLOOOLBOOTSTOO...   \n",
       "28855   4c7963eaf9697d35  JIM WALES MUST DIE!!!!!!!!!!!!  JIM WALES MUST...   \n",
       "70544   bcc6a4fc5f123163  delete this pagedelete this pagedelete this pa...   \n",
       "63392   a99aff4a8428dfb2  leari CAN STILL POST WITH THIS COMPUTER...I SA...   \n",
       "\n",
       "        toxic  severe_toxic  obscene  threat  insult  identity_hate  total  \\\n",
       "46583       1             0        0       0       0              0      1   \n",
       "47715       0             0        0       0       0              0      0   \n",
       "74753       0             0        0       0       0              0      0   \n",
       "42061       1             0        0       0       0              0      1   \n",
       "72192       1             0        0       0       0              0      1   \n",
       "75165       0             0        0       0       0              0      0   \n",
       "56834       1             1        1       0       1              0      4   \n",
       "46197       1             0        0       0       0              0      1   \n",
       "131729      1             1        1       0       1              0      4   \n",
       "128782      1             1        1       0       0              0      3   \n",
       "121718      1             0        1       0       0              0      2   \n",
       "133254      1             1        1       0       1              0      4   \n",
       "35316       0             0        0       0       0              0      0   \n",
       "82636       1             0        0       0       0              0      1   \n",
       "18183       0             0        0       0       0              0      0   \n",
       "4174        1             0        1       0       1              0      3   \n",
       "96267       1             0        0       0       1              0      2   \n",
       "28855       1             1        0       1       0              0      3   \n",
       "70544       0             0        0       0       0              0      0   \n",
       "63392       1             1        1       0       1              0      4   \n",
       "\n",
       "        char_total  \n",
       "46583         5000  \n",
       "47715         5000  \n",
       "74753         5000  \n",
       "42061         5000  \n",
       "72192         5000  \n",
       "75165         5000  \n",
       "56834         5000  \n",
       "46197         5000  \n",
       "131729        5000  \n",
       "128782        5000  \n",
       "121718        5000  \n",
       "133254        5000  \n",
       "35316         5000  \n",
       "82636         5000  \n",
       "18183         5000  \n",
       "4174          5000  \n",
       "96267         5000  \n",
       "28855         5000  \n",
       "70544         5000  \n",
       "63392         5000  "
      ]
     },
     "execution_count": 37,
     "metadata": {},
     "output_type": "execute_result"
    }
   ],
   "source": [
    "train['char_total'] = [len(x) for x in train['comment_text']]\n",
    "train.sort_values(by=['char_total'], ascending=False).head(20)"
   ]
  },
  {
   "cell_type": "markdown",
   "metadata": {},
   "source": [
    "- Wow, it is amazing to see, just from the looking at the top 20 comments in total length, how many of the comments are clearly just spamming words"
   ]
  },
  {
   "cell_type": "markdown",
   "metadata": {},
   "source": [
    "# Preparation for Modeling\n",
    "\n",
    "Lots of steps have to be taken so that a machine learning model can process these comments for analysis. There are all sorts of different ways this can done so I will only go over the way I thought would be best\n",
    "\n",
    "- Pre-processing\n",
    "- Tokenization\n",
    "- Stemming\n",
    "\n",
    "Preprocessing is always important to try in NLP, both for possible improvement to the eventual model and for reducing the size of the data/increasing runtimes for subsequent operations\n",
    "\n",
    "I had to do the tokenization step on my own instead of leaving it to the SKLearn TfidfVectorizer function because I want to stem the words in our comments.  And it is easier and faster to have the text already in token form when executing the stem function"
   ]
  },
  {
   "cell_type": "markdown",
   "metadata": {},
   "source": [
    "## Pre-processing"
   ]
  },
  {
   "cell_type": "markdown",
   "metadata": {},
   "source": [
    "I tried many things to help simplify the text in the comments.  Unfortunately, many things other than the words people used to actually communicate with each other, can be found in our text data.  These things include new-line symbols, IP addresses, usernames, website addresses, and auto-generated strings.  These types of things don't contain information on toxicity.  We know from common sense, that is not how toxicity or non-toxicity is communicated by humans, even in text form.\n",
    "\n",
    "Even though something like IP addresses and usernames, which might give clues to the users who tend to be toxic or not, might seem helpful, I think it's better to do without them because ultimately the goal is to predict on unseen data which probably will not have these same usernames and IP addresses\n",
    "\n",
    "I made this function to remove these things from a comment, all at one time (I used regular expressions (via the re library) to locate the text I wanted removed)"
   ]
  },
  {
   "cell_type": "code",
   "execution_count": 38,
   "metadata": {},
   "outputs": [],
   "source": [
    "import re"
   ]
  },
  {
   "cell_type": "code",
   "execution_count": 39,
   "metadata": {},
   "outputs": [],
   "source": [
    "def preprocess(comment):\n",
    "    # lower everything\n",
    "    comment = comment.lower()\n",
    "    #get rid of new line symbols\n",
    "    comment = re.sub('\\\\n',' ',comment)\n",
    "    #remove user:: fragments\n",
    "    comment = re.sub(\"user::\\w*\",' ',comment)\n",
    "    #remove anything with user\n",
    "    comment = re.sub(\"\\[\\[user.*\",' ',comment)\n",
    "    #remove IP addresses\n",
    "    comment = re.sub(\"\\d{1,3}\\.\\d{1,3}\\.\\d{1,3}\\.\\d{1,3}\",' ',comment)\n",
    "    #remove http links\n",
    "    comment = re.sub(\"(http://.*?\\s)|(http://.*)\",' ',comment)\n",
    "    #remove https links\n",
    "    comment = re.sub(\"(https://.*?\\s)|(https://.*)\",' ',comment)\n",
    "    #remove email addresses\n",
    "    comment = re.sub(\"(^[a-zA-Z0-9_.+-]+@[a-zA-Z0-9-]+\\.[a-zA-Z0-9-.]+$)\",' ',comment)\n",
    "    #remove wp: fragments\n",
    "    comment = re.sub(\"wp:\\w*\",' ',comment)\n",
    "    #remove these auto generated strings\n",
    "    comment = re.sub(\"preceding unsigned comment added by\",' ',comment)\n",
    "    #remove all punctuation besides '\n",
    "    string_w_o_comma = re.sub(\"'\", '', string.punctuation)\n",
    "    comment = comment.translate(str.maketrans('','', string_w_o_comma))\n",
    "    return comment"
   ]
  },
  {
   "cell_type": "markdown",
   "metadata": {},
   "source": [
    "This function only alters 1 comment at a time, so now we need to use the apply function in Pandas to execute this function on every comment in our Pandas Series ['comment text'], where all our comments are stored"
   ]
  },
  {
   "cell_type": "markdown",
   "metadata": {},
   "source": [
    "Before I make changes to our dataset, I want to create a copy of the original, so that I can show that these changes are working"
   ]
  },
  {
   "cell_type": "code",
   "execution_count": 40,
   "metadata": {},
   "outputs": [],
   "source": [
    "original_df = train.copy()"
   ]
  },
  {
   "cell_type": "markdown",
   "metadata": {},
   "source": [
    "Now we use our preprocess() function to make changes to the comments"
   ]
  },
  {
   "cell_type": "code",
   "execution_count": 41,
   "metadata": {},
   "outputs": [],
   "source": [
    "train['comment_text'] = train['comment_text'].apply(preprocess)\n",
    "holdout['comment_text'] = holdout['comment_text'].apply(preprocess)"
   ]
  },
  {
   "cell_type": "markdown",
   "metadata": {},
   "source": [
    "Now let's compare, to see the effect the changes had\n",
    "\n",
    "I will create a random number to select an example comment to inspect.  Re-running this can get a different number if you wish to try more than 1 comment"
   ]
  },
  {
   "cell_type": "code",
   "execution_count": 42,
   "metadata": {},
   "outputs": [],
   "source": [
    "random_number = random.randint(0,len(train))"
   ]
  },
  {
   "cell_type": "code",
   "execution_count": 43,
   "metadata": {},
   "outputs": [
    {
     "name": "stdout",
     "output_type": "stream",
     "text": [
      "I've added another, having had a look at the Helicobacter Foundation several of the pages are dated 2006 so some info there may be a bit dated. (possible Conflict of Interest - I work in testing for H pylori)\n"
     ]
    }
   ],
   "source": [
    "print(original_df['comment_text'].loc[random_number])"
   ]
  },
  {
   "cell_type": "code",
   "execution_count": 44,
   "metadata": {
    "scrolled": true
   },
   "outputs": [
    {
     "name": "stdout",
     "output_type": "stream",
     "text": [
      "i've added another having had a look at the helicobacter foundation several of the pages are dated 2006 so some info there may be a bit dated possible conflict of interest  i work in testing for h pylori\n"
     ]
    }
   ],
   "source": [
    "print(train['comment_text'].loc[random_number])"
   ]
  },
  {
   "cell_type": "code",
   "execution_count": null,
   "metadata": {},
   "outputs": [],
   "source": []
  },
  {
   "cell_type": "markdown",
   "metadata": {},
   "source": [
    "One other pre-processing step I would like to try is to change contractions to their expanded words\n",
    "\n",
    "I will be using a dictionary of contractions and their replacements to substitute what we want"
   ]
  },
  {
   "cell_type": "code",
   "execution_count": 45,
   "metadata": {},
   "outputs": [],
   "source": [
    "contraction_dict = {\"ain't\": \"is not\", \"aren't\": \"are not\",\"can't\": \"can not\", \"'cause\": \"because\", \"could've\": \"could have\", \"couldn't\": \"could not\", \"didn't\": \"did not\",  \"doesn't\": \"does not\", \"don't\": \"do not\", \"hadn't\": \"had not\", \"hasn't\": \"has not\", \"haven't\": \"have not\", \"he'd\": \"he would\",\"he'll\": \"he will\", \"he's\": \"he is\", \"how'd\": \"how did\", \"how'll\": \"how will\", \"how's\": \"how is\",  \"i'd\": \"i would\", \"i'll\": \"i will\", \"i'm\": \"i am\", \"i've\": \"i have\", \"i'd\": \"i would\", \"i'll\": \"i will\", \"i'm\": \"i am\", \"isn't\": \"is not\", \"it'd\": \"it would\", \"it'll\": \"it will\",\"it's\": \"it is\", \"let's\": \"let us\", \"ma'am\": \"madam\", \"might've\": \"might have\",\"mightn't\": \"might not\", \"must've\": \"must have\", \"mustn't\": \"must not\", \"needn't\": \"need not\", \"shan't\": \"shall not\", \"she'd\": \"she would\", \"she'll\": \"she will\", \"she's\": \"she is\", \"should've\": \"should have\", \"shouldn't\": \"should not\", \"so've\": \"so have\",\"that'd\": \"that would\", \"that's\": \"that is\", \"there's\": \"there is\", \"here's\": \"here is\",\"they'd\": \"they would\",\"they'll\": \"they will\", \"they're\": \"they are\", \"they've\": \"they have\", \"wasn't\": \"was not\", \"we'd\": \"we would\", \"we'll\": \"we will\", \"we're\": \"we are\", \"we've\": \"we have\", \"weren't\": \"were not\", \"what'll\": \"what will\", \"what're\": \"what are\",  \"what's\": \"what is\", \"what've\": \"what have\", \"when's\": \"when is\", \"when've\": \"when have\", \"where'd\": \"where did\", \"where's\": \"where is\", \"where've\": \"where have\", \"who'll\": \"who will\", \"who's\": \"who is\", \"who've\": \"who have\", \"why's\": \"why is\", \"why've\": \"why have\", \"will've\": \"will have\", \"won't\": \"will not\", \"won't've\": \"will not have\", \"would've\": \"would have\", \"wouldn't\": \"would not\", \"y'all\": \"you all\",\"you'd\": \"you would\", \"you'll\": \"you will\", \"you're\": \"you are\", \"you've\": \"you have\"}"
   ]
  },
  {
   "cell_type": "code",
   "execution_count": 46,
   "metadata": {},
   "outputs": [],
   "source": [
    "for replacee, replacer in contraction_dict.items():\n",
    "    train['comment_text'] = train['comment_text'].map(lambda x: x.replace(replacee, replacer))\n",
    "    holdout['comment_text'] = holdout['comment_text'].map(lambda x: x.replace(replacee, replacer))"
   ]
  },
  {
   "cell_type": "markdown",
   "metadata": {},
   "source": [
    "Now we will compare with the original again, to see if our code worked in replacing contractions"
   ]
  },
  {
   "cell_type": "code",
   "execution_count": 47,
   "metadata": {},
   "outputs": [],
   "source": [
    "random_number = random.randint(0,len(train))"
   ]
  },
  {
   "cell_type": "code",
   "execution_count": 48,
   "metadata": {},
   "outputs": [
    {
     "name": "stdout",
     "output_type": "stream",
     "text": [
      "\"\n",
      "\n",
      " Please stop. If you continue to vandalize Wikipedia, as you did to Battles of Lexington and Concord, you will be blocked from editing.  delldot talk \n",
      "If this is a shared IP address, and you didn't make the edit, consider creating an account for yourself so you can avoid further irrelevant notices.\"\n"
     ]
    }
   ],
   "source": [
    "print(original_df['comment_text'].loc[random_number])"
   ]
  },
  {
   "cell_type": "code",
   "execution_count": 49,
   "metadata": {
    "scrolled": true
   },
   "outputs": [
    {
     "name": "stdout",
     "output_type": "stream",
     "text": [
      "   please stop if you continue to vandalize wikipedia as you did to battles of lexington and concord you will be blocked from editing  delldot talk  if this is a shared ip address and you did not make the edit consider creating an account for yourself so you can avoid further irrelevant notices\n"
     ]
    }
   ],
   "source": [
    "print(train['comment_text'].loc[random_number])"
   ]
  },
  {
   "cell_type": "code",
   "execution_count": null,
   "metadata": {},
   "outputs": [],
   "source": []
  },
  {
   "cell_type": "markdown",
   "metadata": {},
   "source": [
    "Since numbers are generally not used to express toxicity, they will just be taking up space.  So let's get rid of them now"
   ]
  },
  {
   "cell_type": "code",
   "execution_count": 50,
   "metadata": {},
   "outputs": [],
   "source": [
    "train['comment_text'] = train['comment_text'].map(lambda x: ''.join([i for i in x if not i.isdigit()]))\n",
    "holdout['comment_text'] = holdout['comment_text'].map(lambda x: ''.join([i for i in x if not i.isdigit()]))"
   ]
  },
  {
   "cell_type": "markdown",
   "metadata": {},
   "source": [
    "## Tokenization"
   ]
  },
  {
   "cell_type": "markdown",
   "metadata": {},
   "source": [
    "I, again, am going to use the TweetTokenizer class instead of the regular word_tokenize function, even though I have replaced the contractions, because I like the idea of using the reduce_len parameter to shorten long repeated string fragments"
   ]
  },
  {
   "cell_type": "code",
   "execution_count": 51,
   "metadata": {},
   "outputs": [],
   "source": [
    "tknzr = TweetTokenizer(preserve_case=False, reduce_len=True)\n",
    "tokens_train = [tknzr.tokenize(x) for x in train['comment_text']]\n",
    "tokens_test = [tknzr.tokenize(x) for x in holdout['comment_text']]"
   ]
  },
  {
   "cell_type": "markdown",
   "metadata": {},
   "source": [
    "## Stemming"
   ]
  },
  {
   "cell_type": "code",
   "execution_count": 52,
   "metadata": {},
   "outputs": [],
   "source": [
    "from nltk.stem.porter import PorterStemmer"
   ]
  },
  {
   "cell_type": "code",
   "execution_count": 53,
   "metadata": {},
   "outputs": [],
   "source": [
    "porter = PorterStemmer()\n",
    "stemmed_tokens_train = [[porter.stem(token) for token in tokens] for tokens in tokens_train]\n",
    "stemmed_tokens_test = [[porter.stem(token) for token in tokens] for tokens in tokens_test]"
   ]
  },
  {
   "cell_type": "markdown",
   "metadata": {},
   "source": [
    "- TfidfVectorizer will want the comments as strings and not a list of tokens so we must do an operation to make strings out of each list of tokens"
   ]
  },
  {
   "cell_type": "code",
   "execution_count": 54,
   "metadata": {},
   "outputs": [],
   "source": [
    "stems_for_tfidf_train = list(map(' '.join, stemmed_tokens_train))\n",
    "stems_for_tfidf_test = list(map(' '.join, stemmed_tokens_test))"
   ]
  },
  {
   "cell_type": "code",
   "execution_count": null,
   "metadata": {},
   "outputs": [],
   "source": []
  },
  {
   "cell_type": "markdown",
   "metadata": {},
   "source": [
    "## Prepare X and Y"
   ]
  },
  {
   "cell_type": "markdown",
   "metadata": {},
   "source": [
    "Let's finish our preparations for modeling before moving on, by defining our X and Y variables.  These will be going directly into whatever models we create"
   ]
  },
  {
   "cell_type": "code",
   "execution_count": 55,
   "metadata": {},
   "outputs": [],
   "source": [
    "train.drop(\"char_total\", axis=1, inplace=True)"
   ]
  },
  {
   "cell_type": "code",
   "execution_count": 56,
   "metadata": {},
   "outputs": [],
   "source": [
    "train.drop(\"total\", axis=1, inplace=True)"
   ]
  },
  {
   "cell_type": "code",
   "execution_count": 57,
   "metadata": {},
   "outputs": [],
   "source": [
    "X_train = stems_for_tfidf_train\n",
    "y_train = train.iloc[:,2:]\n",
    "\n",
    "X_test = stems_for_tfidf_test\n",
    "y_test = holdout.iloc[:,2:]"
   ]
  },
  {
   "cell_type": "markdown",
   "metadata": {},
   "source": [
    "# Modeling"
   ]
  },
  {
   "cell_type": "markdown",
   "metadata": {},
   "source": [
    "This is a multi-label classification problem.  The task is to create a prediction for each label, for each comment. Each label is binary rather than multi-class.  For example, the prediction to whether a comment is a threat is always 1 or 0, yes or no.\n",
    "\n",
    "This task calls for scoring using ROC_AUC (Receiver Operating Curve - Area Under Curve).  This is a good evaluator because it tells us how well the model can identify a positive as a positive, but also when a negative is a negative"
   ]
  },
  {
   "cell_type": "markdown",
   "metadata": {},
   "source": [
    "## TF-IDF Vectorization\n",
    "\n",
    "I will be using this type of vectorization to prepare the data for every machine learning model I will try.  \n",
    "\n",
    "I have already tuned the parameters for this process (using GridSearch) and found that the following yielded the best results:\n",
    "\n",
    "- sublinear_tf = True  (very important)\n",
    "- max_features = 50,000\n",
    "- strip_accents = 'ascii'\n",
    "- analyzer = 'word'\n",
    "- stop_words = None\n",
    "- ngram_range = (1,1)\n",
    "\n",
    "I will be using these parameters for each machine learning model run hereafter, even the baseline models"
   ]
  },
  {
   "cell_type": "markdown",
   "metadata": {},
   "source": [
    "# Logistic Regression - Baseline"
   ]
  },
  {
   "cell_type": "markdown",
   "metadata": {},
   "source": [
    "For the implementation of the baseline model, I will manually run a classifier for each target variable.  There are other ways to do this using sklearn but this way it is easy to see what is going on, and the scores for each target variable (label)"
   ]
  },
  {
   "cell_type": "code",
   "execution_count": 58,
   "metadata": {},
   "outputs": [],
   "source": [
    "# Instantiate the vectorizer\n",
    "word_vectorizer = TfidfVectorizer(strip_accents='ascii', sublinear_tf=True, max_features=50000)\n",
    "\n",
    "# fit and transform on it the training features\n",
    "word_vectorizer.fit(X_train)\n",
    "X_train_word_features = word_vectorizer.transform(X_train)\n",
    "\n",
    "#transform the test features to sparse matrix\n",
    "test_features = word_vectorizer.transform(X_test)"
   ]
  },
  {
   "cell_type": "markdown",
   "metadata": {},
   "source": [
    "Since we need 6 different predictions on each comment, we will be fitting a classifier 6 times, one for each label\n",
    "\n",
    "Our evaluator, the auc roc curve, deals with probabilities so we need to use the predict_proba function instead of the predict function\n",
    "\n",
    "This code below will output the auc_roc score for each label, and then the mean of all the scores to tell us our overall score for the model"
   ]
  },
  {
   "cell_type": "code",
   "execution_count": 59,
   "metadata": {},
   "outputs": [],
   "source": [
    "from sklearn import metrics\n",
    "from sklearn.linear_model import LogisticRegression\n",
    "import numpy as np"
   ]
  },
  {
   "cell_type": "markdown",
   "metadata": {},
   "source": [
    "- I am using the liblinear solver with the baseline model because the lbfgs solver (default) was throwing errors"
   ]
  },
  {
   "cell_type": "code",
   "execution_count": 60,
   "metadata": {
    "scrolled": true
   },
   "outputs": [
    {
     "name": "stdout",
     "output_type": "stream",
     "text": [
      "ROC_AUC score for the toxic label is 0.961616292227514\n",
      "\n",
      "ROC_AUC score for the severe_toxic label is 0.9824199471609563\n",
      "\n",
      "ROC_AUC score for the obscene label is 0.9756028080025071\n",
      "\n",
      "ROC_AUC score for the threat label is 0.9897933731935957\n",
      "\n",
      "ROC_AUC score for the insult label is 0.9682701933860691\n",
      "\n",
      "ROC_AUC score for the identity_hate label is 0.9802074538501074\n",
      "\n",
      "\u001b[1mTotal average ROC_AUC score is 0.9763183446367917\u001b[0m\n"
     ]
    }
   ],
   "source": [
    "label_names = ['toxic','severe_toxic','obscene', 'threat', 'insult', 'identity_hate']\n",
    "\n",
    "auc = []\n",
    "\n",
    "for label_name in label_names:\n",
    "    \n",
    "    #call the labels one column at a time so we can run the classifier on them\n",
    "    train_target = y_train[label_name]\n",
    "    test_target = y_test[label_name]\n",
    "    classifier = LogisticRegression(solver='liblinear')\n",
    "\n",
    "    \n",
    "    classifier.fit(X_train_word_features, train_target)\n",
    "    y_pred_prob = classifier.predict_proba(test_features)[:,1]\n",
    "    auc_score = metrics.roc_auc_score(test_target, y_pred_prob)\n",
    "    auc.append(auc_score)\n",
    "    print(\"ROC_AUC score for the {} label is {}\\n\".format(label_name,auc_score))\n",
    "    \n",
    "print(('\\033[1m' + 'Total average ROC_AUC score is {}' + '\\033[0m').format(np.mean(auc)))"
   ]
  },
  {
   "cell_type": "markdown",
   "metadata": {},
   "source": [
    "Before we move on with modeling, I think it is good to remember how imbalanced the data for each label is, as this naturally will affect each score.  Below I am going to display the percentage of 0s and 1s for each label, according to our test set"
   ]
  },
  {
   "cell_type": "code",
   "execution_count": 61,
   "metadata": {},
   "outputs": [
    {
     "name": "stdout",
     "output_type": "stream",
     "text": [
      "the class imbalance for the toxic label is:\n",
      " 0    0.904811\n",
      "1    0.095189\n",
      "Name: toxic, dtype: float64\n",
      "the class imbalance for the severe_toxic label is:\n",
      " 0    0.994264\n",
      "1    0.005736\n",
      "Name: severe_toxic, dtype: float64\n",
      "the class imbalance for the obscene label is:\n",
      " 0    0.942308\n",
      "1    0.057692\n",
      "Name: obscene, dtype: float64\n",
      "the class imbalance for the threat label is:\n",
      " 0    0.996702\n",
      "1    0.003298\n",
      "Name: threat, dtype: float64\n",
      "the class imbalance for the insult label is:\n",
      " 0    0.946435\n",
      "1    0.053565\n",
      "Name: insult, dtype: float64\n",
      "the class imbalance for the identity_hate label is:\n",
      " 0    0.988871\n",
      "1    0.011129\n",
      "Name: identity_hate, dtype: float64\n"
     ]
    }
   ],
   "source": [
    "for label in y_test.columns:\n",
    "    imb = y_test[label].value_counts(normalize=True)\n",
    "    print(\"the class imbalance for the {} label is:\\n {}\".format(label,imb))\n",
    "    "
   ]
  },
  {
   "cell_type": "markdown",
   "metadata": {},
   "source": [
    "- Looking at the toxic label, we see that for the test set approx 90% of the comments are labeled toxic while the other 10% were not.  So even by random chance we would still expect a 90% success rate if we guessed every comment was non-toxic.  Therefore we will hope to see our evaluation scores higher than the class imbalance ratio\n",
    "\n",
    "- Looking at our results of the baseline mode, the severe_toxic, threat, and identity_hate labels all performed worse than random guessing.  This is obviously something we will be looking to improve upon as we tune the parameters of our Logistic Regression model\n",
    "\n",
    "Okay, now back to modeling"
   ]
  },
  {
   "cell_type": "markdown",
   "metadata": {},
   "source": [
    "# Logistic Regression - w/ Parameters Tuned"
   ]
  },
  {
   "cell_type": "markdown",
   "metadata": {},
   "source": [
    "Here are the best peforming parameters:\n",
    "\n",
    "- solver = 'sag'\n",
    "- C = 2\n",
    "- class_weight = None"
   ]
  },
  {
   "cell_type": "markdown",
   "metadata": {},
   "source": [
    "Instead of manually running a classifier on each label individually like we did for the baseline model, sklearn offers built-in classes that do multi-label classification automatically.\n",
    "\n",
    "I was able to find 2 options for this, OneVsRestClassifier and MultiOutputClassifier.  The OneVsRestClassifier is built to handle multi-class classification but the docs suggest that it also works for multi-label classification:\n",
    "\n",
    "\"This strategy can also be used for multilabel learning, where a classifier is used to predict multiple labels for instance, by fitting on a 2-d matrix in which cell [i, j] is 1 if sample i has label j and 0 otherwise.\"\n",
    "\n",
    "- The OneVsRestClassifier seemed a little faster than the MultiOutPutClassifier so I used this method\n",
    "\n",
    "Making the process even easier, we can pack both the vectorization process and the OneVsRest using Logisitic Regression into a pipeline."
   ]
  },
  {
   "cell_type": "code",
   "execution_count": 62,
   "metadata": {},
   "outputs": [],
   "source": [
    "from sklearn.pipeline import make_pipeline\n",
    "from sklearn.multiclass import OneVsRestClassifier\n",
    "from sklearn.model_selection import cross_val_score, GridSearchCV"
   ]
  },
  {
   "cell_type": "code",
   "execution_count": 63,
   "metadata": {},
   "outputs": [],
   "source": [
    "pipe_lr = make_pipeline(\n",
    "    TfidfVectorizer(sublinear_tf=1, max_features=50000, strip_accents='ascii'),\n",
    "    OneVsRestClassifier(LogisticRegression(solver='sag', C=2))\n",
    ")"
   ]
  },
  {
   "cell_type": "markdown",
   "metadata": {},
   "source": [
    "Now that the pipeline is ready to go, with our tuned parameters, we can evaluate our model on both the train and test data.  This way we can see whether there is overfitting."
   ]
  },
  {
   "cell_type": "code",
   "execution_count": 64,
   "metadata": {},
   "outputs": [
    {
     "data": {
      "text/plain": [
       "0.9815438713062528"
      ]
     },
     "execution_count": 64,
     "metadata": {},
     "output_type": "execute_result"
    }
   ],
   "source": [
    "train_score_lr = np.mean(cross_val_score(pipe_lr, X_train, y_train, cv=3, scoring='roc_auc'))\n",
    "train_score_lr"
   ]
  },
  {
   "cell_type": "markdown",
   "metadata": {},
   "source": [
    "As we did for the baseline, we use predict_proba to get the probability predictions of each class rather than just a prediction of 0 or 1.  This will enable us to get the roc auc score that we need"
   ]
  },
  {
   "cell_type": "code",
   "execution_count": 65,
   "metadata": {},
   "outputs": [
    {
     "data": {
      "text/plain": [
       "0.9765288165862662"
      ]
     },
     "execution_count": 65,
     "metadata": {},
     "output_type": "execute_result"
    }
   ],
   "source": [
    "pipe_lr.fit(X_train, y_train)\n",
    "test_preds_lr = pipe_lr.predict_proba(X_test)\n",
    "test_score_lr = metrics.roc_auc_score(y_test, test_preds_lr)\n",
    "test_score_lr"
   ]
  },
  {
   "cell_type": "markdown",
   "metadata": {},
   "source": [
    "I see 2 main things for these results:\n",
    "\n",
    "- Our score only increased by .0002 with the best performing parameters.  That is disappointing\n",
    "\n",
    "- There seems to be some slight overfitting, as the difference between the train score and test score is .4%\n",
    "\n",
    "Nevertheless, this is the best results a logistic regression model could do"
   ]
  },
  {
   "cell_type": "markdown",
   "metadata": {},
   "source": [
    "# Random Forest"
   ]
  },
  {
   "cell_type": "markdown",
   "metadata": {},
   "source": [
    "The other machine learning model I would like to try is the Random Forest.  We will do it the same way we did with Logistic Regression.  Here we go"
   ]
  },
  {
   "cell_type": "markdown",
   "metadata": {},
   "source": [
    "## baseline"
   ]
  },
  {
   "cell_type": "code",
   "execution_count": 66,
   "metadata": {},
   "outputs": [],
   "source": [
    "from sklearn.ensemble import RandomForestClassifier"
   ]
  },
  {
   "cell_type": "code",
   "execution_count": 67,
   "metadata": {
    "scrolled": false
   },
   "outputs": [
    {
     "name": "stdout",
     "output_type": "stream",
     "text": [
      "ROC_AUC score for the toxic label is 0.9288322700150952\n",
      "\n",
      "ROC_AUC score for the severe_toxic label is 0.8425554214763379\n",
      "\n",
      "ROC_AUC score for the obscene label is 0.942505555596326\n",
      "\n",
      "ROC_AUC score for the threat label is 0.7669279456897173\n",
      "\n",
      "ROC_AUC score for the insult label is 0.9203224722452877\n",
      "\n",
      "ROC_AUC score for the identity_hate label is 0.8626910162087168\n",
      "\n",
      "\u001b[1mTotal average ROC_AUC score is 0.8773057802052469\u001b[0m\n"
     ]
    }
   ],
   "source": [
    "label_names = ['toxic','severe_toxic','obscene', 'threat', 'insult', 'identity_hate']\n",
    "\n",
    "auc = []\n",
    "\n",
    "for label_name in label_names:\n",
    "    \n",
    "    #call the labels one column at a time so we can run the classifier on them\n",
    "    train_target = y_train[label_name]\n",
    "    test_target = y_test[label_name]\n",
    "    classifier = RandomForestClassifier(n_estimators=10)\n",
    "\n",
    "    \n",
    "    classifier.fit(X_train_word_features, train_target)\n",
    "    y_pred_prob = classifier.predict_proba(test_features)[:,1]\n",
    "    auc_score = metrics.roc_auc_score(test_target, y_pred_prob)\n",
    "    auc.append(auc_score)\n",
    "    print(\"ROC_AUC score for the {} label is {}\\n\".format(label_name,auc_score))\n",
    "    \n",
    "print(('\\033[1m' + 'Total average ROC_AUC score is {}' + '\\033[0m').format(np.mean(auc)))"
   ]
  },
  {
   "cell_type": "markdown",
   "metadata": {},
   "source": [
    "- Wow, the baseline Random Forest model did terrible.  Let's see if parameter tuning will change that"
   ]
  },
  {
   "cell_type": "markdown",
   "metadata": {},
   "source": [
    "## w/ Parameters Tuned"
   ]
  },
  {
   "cell_type": "markdown",
   "metadata": {},
   "source": [
    "The best peforming parameters using GridSearch are:\n",
    "\n",
    "- min_samples_split = 8\n",
    "- min_samples_leaf = 6\n",
    "- criterion = 'entropy'\n",
    "- max_depth = None\n",
    "- class_weight = None"
   ]
  },
  {
   "cell_type": "code",
   "execution_count": 68,
   "metadata": {},
   "outputs": [],
   "source": [
    "pipe_rf = make_pipeline(\n",
    "    TfidfVectorizer(sublinear_tf=True, max_features=50000, strip_accents='ascii'),\n",
    "    OneVsRestClassifier(RandomForestClassifier(min_samples_leaf=6, min_samples_split=8, criterion='entropy'))\n",
    ")"
   ]
  },
  {
   "cell_type": "code",
   "execution_count": 69,
   "metadata": {},
   "outputs": [
    {
     "data": {
      "text/plain": [
       "0.9731416757457215"
      ]
     },
     "execution_count": 69,
     "metadata": {},
     "output_type": "execute_result"
    }
   ],
   "source": [
    "train_score_rf = np.mean(cross_val_score(pipe_rf, X_train, y_train, cv=3, scoring='roc_auc'))\n",
    "train_score_rf"
   ]
  },
  {
   "cell_type": "code",
   "execution_count": 70,
   "metadata": {
    "scrolled": false
   },
   "outputs": [
    {
     "data": {
      "text/plain": [
       "0.9710446080671816"
      ]
     },
     "execution_count": 70,
     "metadata": {},
     "output_type": "execute_result"
    }
   ],
   "source": [
    "pipe_rf.fit(X_train, y_train)\n",
    "test_preds_rf = pipe_rf.predict_proba(X_test)\n",
    "test_score_rf = metrics.roc_auc_score(y_test, test_preds_rf)\n",
    "test_score_rf"
   ]
  },
  {
   "cell_type": "markdown",
   "metadata": {},
   "source": [
    "Here is a breakdown of the score for each label"
   ]
  },
  {
   "cell_type": "code",
   "execution_count": 71,
   "metadata": {},
   "outputs": [
    {
     "name": "stdout",
     "output_type": "stream",
     "text": [
      "toxic 0.955855684971421\n",
      "severe_toxic 0.975398707667864\n",
      "obscene 0.9717945566047194\n",
      "threat 0.986771969069562\n",
      "insult 0.9616954725136097\n",
      "identity_hate 0.9747512575759136\n"
     ]
    }
   ],
   "source": [
    "test_preds_rf_df = pd.DataFrame(test_preds_rf)\n",
    "y_test_df = pd.DataFrame(y_test)\n",
    "for i in range(len(label_names)):\n",
    "    actuals = y_test_df.iloc[:,i]\n",
    "    preds = test_preds_rf_df.iloc[:,i]\n",
    "    score = metrics.roc_auc_score(actuals, preds)\n",
    "    print(label_names[i], score)"
   ]
  },
  {
   "cell_type": "markdown",
   "metadata": {},
   "source": [
    "- Okay, huge improvement from the baseline model\n",
    "\n",
    "- But still not as good as our logistic regression model"
   ]
  },
  {
   "cell_type": "markdown",
   "metadata": {},
   "source": [
    "# Final Model"
   ]
  },
  {
   "cell_type": "code",
   "execution_count": 72,
   "metadata": {},
   "outputs": [],
   "source": [
    "from nltk import word_tokenize, regexp_tokenize"
   ]
  },
  {
   "cell_type": "markdown",
   "metadata": {},
   "source": [
    "So, while I was doing testing, making small changes in all phases of the process trying to get the best score possible, I realized that the models actually did better without all the preprocessing steps.  That was disappointing since a lot of work went into coming up with those steps but it is interesting and notable nonetheless."
   ]
  },
  {
   "cell_type": "markdown",
   "metadata": {},
   "source": [
    "Here is what it took to get our best model, from start to finish"
   ]
  },
  {
   "cell_type": "code",
   "execution_count": 73,
   "metadata": {},
   "outputs": [],
   "source": [
    "train = pd.read_csv('train.csv')\n",
    "holdout = pd.read_csv('test.csv')"
   ]
  },
  {
   "cell_type": "code",
   "execution_count": 74,
   "metadata": {},
   "outputs": [],
   "source": [
    "test_labels_df = pd.read_csv(\"test_labels.csv\")\n",
    "holdout = holdout.merge(test_labels_df, on='id')\n",
    "holdout.drop(holdout[holdout['toxic']==-1].index, inplace=True)"
   ]
  },
  {
   "cell_type": "code",
   "execution_count": 75,
   "metadata": {},
   "outputs": [],
   "source": [
    "tknzr = TweetTokenizer(preserve_case=False, reduce_len=True)\n",
    "tokens = [tknzr.tokenize(x) for x in train['comment_text']]\n",
    "tokens_test = [tknzr.tokenize(x) for x in holdout['comment_text']]"
   ]
  },
  {
   "cell_type": "code",
   "execution_count": 76,
   "metadata": {},
   "outputs": [],
   "source": [
    "porter = PorterStemmer()\n",
    "list_of_stems_lists = [[porter.stem(token) for token in tokens] for tokens in tokens]\n",
    "test_list_of_stems_lists = [[porter.stem(token) for token in tokens] for tokens in tokens_test]"
   ]
  },
  {
   "cell_type": "code",
   "execution_count": 77,
   "metadata": {},
   "outputs": [],
   "source": [
    "stems_for_tfidf = list(map(' '.join, list_of_stems_lists))\n",
    "test_stems_for_tfidf = list(map(' '.join, test_list_of_stems_lists))"
   ]
  },
  {
   "cell_type": "code",
   "execution_count": 78,
   "metadata": {},
   "outputs": [],
   "source": [
    "X_train2 = stems_for_tfidf\n",
    "y_train2 = train.iloc[:,2:]\n",
    "\n",
    "X_test2 = test_stems_for_tfidf\n",
    "y_test2 = holdout.iloc[:,2:]"
   ]
  },
  {
   "cell_type": "code",
   "execution_count": 79,
   "metadata": {},
   "outputs": [],
   "source": [
    "pipe_lr_final = make_pipeline(\n",
    "    TfidfVectorizer(sublinear_tf=1, max_features=45000, strip_accents='ascii', ngram_range=(1,1)),\n",
    "    OneVsRestClassifier(LogisticRegression(solver='sag', C=1.85))\n",
    ")"
   ]
  },
  {
   "cell_type": "code",
   "execution_count": 80,
   "metadata": {},
   "outputs": [
    {
     "data": {
      "text/plain": [
       "0.9822050790322541"
      ]
     },
     "execution_count": 80,
     "metadata": {},
     "output_type": "execute_result"
    }
   ],
   "source": [
    "train_score_final = np.mean(cross_val_score(pipe_lr_final, X_train2, y_train2, cv=3, scoring='roc_auc'))\n",
    "train_score_final"
   ]
  },
  {
   "cell_type": "code",
   "execution_count": 81,
   "metadata": {},
   "outputs": [
    {
     "data": {
      "text/plain": [
       "0.9780043911828501"
      ]
     },
     "execution_count": 81,
     "metadata": {},
     "output_type": "execute_result"
    }
   ],
   "source": [
    "pipe_lr_final.fit(X_train2, y_train2)\n",
    "test_preds_final = pipe_lr_final.predict_proba(X_test2)\n",
    "test_score_final = metrics.roc_auc_score(y_test2, test_preds_final)\n",
    "test_score_final"
   ]
  },
  {
   "cell_type": "code",
   "execution_count": 82,
   "metadata": {},
   "outputs": [
    {
     "name": "stdout",
     "output_type": "stream",
     "text": [
      "toxic 0.9637448519013218\n",
      "severe_toxic 0.9851038779345012\n",
      "obscene 0.9767612782129832\n",
      "threat 0.9910158703520526\n",
      "insult 0.9694658348495659\n",
      "identity_hate 0.9819346338466761\n"
     ]
    }
   ],
   "source": [
    "test_preds_df = pd.DataFrame(test_preds_final)\n",
    "y_test_df2 = pd.DataFrame(y_test2)\n",
    "for i in range(len(test_preds_df.columns)):\n",
    "    actuals = y_test_df2.iloc[:,i]\n",
    "    preds = test_preds_df.iloc[:,i]\n",
    "    score = metrics.roc_auc_score(actuals, preds)\n",
    "    print(label_names[i], score)"
   ]
  },
  {
   "cell_type": "markdown",
   "metadata": {},
   "source": [
    "- So we see an improvement from 97.65% to 97.80% by removing all of the preprocessing steps.  "
   ]
  },
  {
   "cell_type": "markdown",
   "metadata": {},
   "source": [
    "## Visualization Work"
   ]
  },
  {
   "cell_type": "code",
   "execution_count": 84,
   "metadata": {},
   "outputs": [
    {
     "name": "stdout",
     "output_type": "stream",
     "text": [
      "the class imbalance for the toxic label is:\n",
      " 0    0.904811\n",
      "1    0.095189\n",
      "Name: toxic, dtype: float64\n",
      "the class imbalance for the severe_toxic label is:\n",
      " 0    0.994264\n",
      "1    0.005736\n",
      "Name: severe_toxic, dtype: float64\n",
      "the class imbalance for the obscene label is:\n",
      " 0    0.942308\n",
      "1    0.057692\n",
      "Name: obscene, dtype: float64\n",
      "the class imbalance for the threat label is:\n",
      " 0    0.996702\n",
      "1    0.003298\n",
      "Name: threat, dtype: float64\n",
      "the class imbalance for the insult label is:\n",
      " 0    0.946435\n",
      "1    0.053565\n",
      "Name: insult, dtype: float64\n",
      "the class imbalance for the identity_hate label is:\n",
      " 0    0.988871\n",
      "1    0.011129\n",
      "Name: identity_hate, dtype: float64\n"
     ]
    }
   ],
   "source": [
    "for label in y_test.columns:\n",
    "    imb = y_test[label].value_counts(normalize=True)\n",
    "    print(\"the class imbalance for the {} label is:\\n {}\".format(label,imb))\n",
    "    "
   ]
  },
  {
   "cell_type": "code",
   "execution_count": 87,
   "metadata": {},
   "outputs": [
    {
     "data": {
      "text/plain": [
       "['toxic', 'severe_toxic', 'obscene', 'threat', 'insult', 'identity_hate']"
      ]
     },
     "execution_count": 87,
     "metadata": {},
     "output_type": "execute_result"
    }
   ],
   "source": [
    "lr_scores = [.9637, .9851, .9768, .9910, .9695, .9819]\n",
    "rf_scores = [.9547, .9751, .9706, .9849, .9626, .9762]\n",
    "imb_scores = [.9048, .9942, .9423, .9967, .9464, .9888]\n",
    "label_names"
   ]
  },
  {
   "cell_type": "code",
   "execution_count": 119,
   "metadata": {},
   "outputs": [
    {
     "data": {
      "image/png": "[encoded data removed]",
      "text/plain": [
       "<Figure size 648x360 with 1 Axes>"
      ]
     },
     "metadata": {},
     "output_type": "display_data"
    }
   ],
   "source": [
    "plt.style.use('ggplot')\n",
    "plt.figure(figsize=(9,5))\n",
    "plt.plot(label_names, lr_scores, label='Logistic Regression')\n",
    "plt.plot(label_names, rf_scores, label='Random Forest')\n",
    "plt.scatter(label_names, imb_scores, label='Imbalance Ratio', color='gray')\n",
    "plt.vlines(label_names,.9,1, ls='--', alpha=.2)\n",
    "plt.xticks(fontsize='x-large')\n",
    "plt.yticks(fontsize='x-large')\n",
    "plt.legend()\n",
    "plt.title(\"Model Scores + Class Imbalances\")\n",
    "plt.show()"
   ]
  },
  {
   "cell_type": "code",
   "execution_count": null,
   "metadata": {},
   "outputs": [],
   "source": []
  }
 ],
 "metadata": {
  "kernelspec": {
   "display_name": "learn-env",
   "language": "python",
   "name": "learn-env"
  },
  "language_info": {
   "codemirror_mode": {
    "name": "ipython",
    "version": 3
   },
   "file_extension": ".py",
   "mimetype": "text/x-python",
   "name": "python",
   "nbconvert_exporter": "python",
   "pygments_lexer": "ipython3",
   "version": "3.6.10"
  }
 },
 "nbformat": 4,
 "nbformat_minor": 2
}
